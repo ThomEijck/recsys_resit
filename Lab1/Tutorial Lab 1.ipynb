{
 "cells": [
  {
   "cell_type": "markdown",
   "id": "b14b354d",
   "metadata": {},
   "source": [
    "# Individual Recommender Systems - Tutorial 1 (Lab 1)\n",
    "\n",
    "\n",
    "In this tutorial, we will see some implementations of strategies for individual recommender systems seen in the first lectures of the course. At the same time, we will introduce some libraries useful for machine learning applications in python. After completing this tutorial, you will be able to: \n",
    "- Create a non-personalized recommender system in the domain of movies for individual users.\n",
    "- Create a personalized recommender system using either a content based or a collaborative filtering approach.\n",
    "- Evaluate the performance of the recommender systems, using different evaluation protocols.\n"
   ]
  },
  {
   "cell_type": "markdown",
   "id": "1723e6c6",
   "metadata": {},
   "source": [
    "#### Summary\n",
    "\n",
    "1. Dataset\n",
    "2. Non personalized recommendations: ordering by average rating\n",
    "3. Towards personalization: Filtering by genre\n",
    "4. Content Based Recommender System\n",
    "5. Collaborative Filtering Recommender System\n",
    "6. Evaluation of Recommender Systems\n",
    "    1. Evaluation of a CB recommender\n",
    "    2. Evaluation of a CF recommender\n",
    "\n"
   ]
  },
  {
   "cell_type": "markdown",
   "id": "22df946d",
   "metadata": {},
   "source": [
    "#### 1. Dataset\n",
    "\n",
    "\n",
    "We will use the preprocessed dataset provided in the folder *preprocessed_dataset*. The dataset has been obtained from the \n",
    "[Movielens latest small](https://www.kaggle.com/grouplens/movielens-latest-small) dataset (providing user's ratings) and the [Wikipedia Movie Plots](https://www.kaggle.com/jrobischon/wikipedia-movie-plots) dataset (providing movies' information). Check the notebook **Dataset Preprocessing** for details on how the datasets have been preprocessed and merged.\n",
    "\n",
    "The dataset contains two CSV files, following  the structure of the Movielens dataset:\n",
    "1. ratings.csv: contains the information about the feedback of the users for the movies. Each row contains the id of a user,the id of a movie, and the rating that the user gave to the movie. It also contains the timestamp, but we will not use it in this tutorial.\n",
    "2. movies.csv: contains the information about the movies. In particular, we will use the genre and the plot.\n",
    "\n"
   ]
  },
  {
   "cell_type": "markdown",
   "id": "3c6303b7",
   "metadata": {},
   "source": [
    "We start using the [pandas](https://pandas.pydata.org/) library to read the content of the CSV files and use it. Let us have a look at the first 10 rows of each file, to check which contents are provided by the *ratings.csv* and the *movies.csv* files. To do so, we use the *read_csv* method which returns a pandas [Dataframe](https://pandas.pydata.org/docs/reference/api/pandas.DataFrame.html) object containing the information read from the csv file. Such object provides several methods to manipulate the data in it, and we will use the [head](https://pandas.pydata.org/docs/reference/api/pandas.DataFrame.head.html) method, which returns the first *n* rows of the dataframe. We use also the [display](https://ipython.readthedocs.io/en/stable/api/generated/IPython.display.html#IPython.display.display) method, that allows to print information nicely in a jupyter notebook."
   ]
  },
  {
   "cell_type": "code",
   "execution_count": 4,
   "id": "9f29eb60",
   "metadata": {},
   "outputs": [],
   "source": [
    "preprocessed_dataset_folder = \"../preprocessed_dataset\"\n",
    "\n",
    "import pandas as pd"
   ]
  },
  {
   "cell_type": "code",
   "execution_count": 5,
   "id": "479d9c57",
   "metadata": {},
   "outputs": [
    {
     "data": {
      "text/html": [
       "<div>\n",
       "<style scoped>\n",
       "    .dataframe tbody tr th:only-of-type {\n",
       "        vertical-align: middle;\n",
       "    }\n",
       "\n",
       "    .dataframe tbody tr th {\n",
       "        vertical-align: top;\n",
       "    }\n",
       "\n",
       "    .dataframe thead th {\n",
       "        text-align: right;\n",
       "    }\n",
       "</style>\n",
       "<table border=\"1\" class=\"dataframe\">\n",
       "  <thead>\n",
       "    <tr style=\"text-align: right;\">\n",
       "      <th></th>\n",
       "      <th>user</th>\n",
       "      <th>item</th>\n",
       "      <th>rating</th>\n",
       "      <th>timestamp</th>\n",
       "    </tr>\n",
       "  </thead>\n",
       "  <tbody>\n",
       "    <tr>\n",
       "      <th>0</th>\n",
       "      <td>1</td>\n",
       "      <td>1</td>\n",
       "      <td>4.0</td>\n",
       "      <td>964982703</td>\n",
       "    </tr>\n",
       "    <tr>\n",
       "      <th>1</th>\n",
       "      <td>1</td>\n",
       "      <td>3</td>\n",
       "      <td>4.0</td>\n",
       "      <td>964981247</td>\n",
       "    </tr>\n",
       "    <tr>\n",
       "      <th>2</th>\n",
       "      <td>1</td>\n",
       "      <td>6</td>\n",
       "      <td>4.0</td>\n",
       "      <td>964982224</td>\n",
       "    </tr>\n",
       "    <tr>\n",
       "      <th>3</th>\n",
       "      <td>1</td>\n",
       "      <td>70</td>\n",
       "      <td>3.0</td>\n",
       "      <td>964982400</td>\n",
       "    </tr>\n",
       "    <tr>\n",
       "      <th>4</th>\n",
       "      <td>1</td>\n",
       "      <td>101</td>\n",
       "      <td>5.0</td>\n",
       "      <td>964980868</td>\n",
       "    </tr>\n",
       "    <tr>\n",
       "      <th>5</th>\n",
       "      <td>1</td>\n",
       "      <td>110</td>\n",
       "      <td>4.0</td>\n",
       "      <td>964982176</td>\n",
       "    </tr>\n",
       "    <tr>\n",
       "      <th>6</th>\n",
       "      <td>1</td>\n",
       "      <td>151</td>\n",
       "      <td>5.0</td>\n",
       "      <td>964984041</td>\n",
       "    </tr>\n",
       "    <tr>\n",
       "      <th>7</th>\n",
       "      <td>1</td>\n",
       "      <td>157</td>\n",
       "      <td>5.0</td>\n",
       "      <td>964984100</td>\n",
       "    </tr>\n",
       "    <tr>\n",
       "      <th>8</th>\n",
       "      <td>1</td>\n",
       "      <td>163</td>\n",
       "      <td>5.0</td>\n",
       "      <td>964983650</td>\n",
       "    </tr>\n",
       "    <tr>\n",
       "      <th>9</th>\n",
       "      <td>1</td>\n",
       "      <td>216</td>\n",
       "      <td>5.0</td>\n",
       "      <td>964981208</td>\n",
       "    </tr>\n",
       "  </tbody>\n",
       "</table>\n",
       "</div>"
      ],
      "text/plain": [
       "   user  item  rating  timestamp\n",
       "0     1     1     4.0  964982703\n",
       "1     1     3     4.0  964981247\n",
       "2     1     6     4.0  964982224\n",
       "3     1    70     3.0  964982400\n",
       "4     1   101     5.0  964980868\n",
       "5     1   110     4.0  964982176\n",
       "6     1   151     5.0  964984041\n",
       "7     1   157     5.0  964984100\n",
       "8     1   163     5.0  964983650\n",
       "9     1   216     5.0  964981208"
      ]
     },
     "metadata": {},
     "output_type": "display_data"
    }
   ],
   "source": [
    "ratings_df = pd.read_csv(preprocessed_dataset_folder+\"/ratings.csv\") \n",
    "display(ratings_df.head(10))"
   ]
  },
  {
   "cell_type": "code",
   "execution_count": 6,
   "id": "68cd94e2",
   "metadata": {},
   "outputs": [
    {
     "data": {
      "text/html": [
       "<div>\n",
       "<style scoped>\n",
       "    .dataframe tbody tr th:only-of-type {\n",
       "        vertical-align: middle;\n",
       "    }\n",
       "\n",
       "    .dataframe tbody tr th {\n",
       "        vertical-align: top;\n",
       "    }\n",
       "\n",
       "    .dataframe thead th {\n",
       "        text-align: right;\n",
       "    }\n",
       "</style>\n",
       "<table border=\"1\" class=\"dataframe\">\n",
       "  <thead>\n",
       "    <tr style=\"text-align: right;\">\n",
       "      <th></th>\n",
       "      <th>title</th>\n",
       "      <th>year</th>\n",
       "      <th>genres</th>\n",
       "      <th>plot</th>\n",
       "    </tr>\n",
       "    <tr>\n",
       "      <th>item</th>\n",
       "      <th></th>\n",
       "      <th></th>\n",
       "      <th></th>\n",
       "      <th></th>\n",
       "    </tr>\n",
       "  </thead>\n",
       "  <tbody>\n",
       "    <tr>\n",
       "      <th>1</th>\n",
       "      <td>toy story</td>\n",
       "      <td>1995</td>\n",
       "      <td>Adventure|Animation|Children|Comedy|Fantasy</td>\n",
       "      <td>In a world where toys are living things who pr...</td>\n",
       "    </tr>\n",
       "    <tr>\n",
       "      <th>2</th>\n",
       "      <td>jumanji</td>\n",
       "      <td>1995</td>\n",
       "      <td>Adventure|Children|Fantasy</td>\n",
       "      <td>In 1869, near Brantford, New Hampshire, two br...</td>\n",
       "    </tr>\n",
       "    <tr>\n",
       "      <th>3</th>\n",
       "      <td>grumpier old men</td>\n",
       "      <td>1995</td>\n",
       "      <td>Comedy|Romance</td>\n",
       "      <td>The feud between Max (Walter Matthau) and John...</td>\n",
       "    </tr>\n",
       "    <tr>\n",
       "      <th>4</th>\n",
       "      <td>waiting to exhale</td>\n",
       "      <td>1995</td>\n",
       "      <td>Comedy|Drama|Romance</td>\n",
       "      <td>\"Friends are the People who let you be yoursel...</td>\n",
       "    </tr>\n",
       "    <tr>\n",
       "      <th>5</th>\n",
       "      <td>father of the bride part ii</td>\n",
       "      <td>1995</td>\n",
       "      <td>Comedy</td>\n",
       "      <td>The film begins five years after the events of...</td>\n",
       "    </tr>\n",
       "    <tr>\n",
       "      <th>6</th>\n",
       "      <td>heat</td>\n",
       "      <td>1995</td>\n",
       "      <td>Action|Crime|Thriller</td>\n",
       "      <td>Neil McCauley, a career criminal, hires Waingr...</td>\n",
       "    </tr>\n",
       "    <tr>\n",
       "      <th>7</th>\n",
       "      <td>sabrina</td>\n",
       "      <td>1995</td>\n",
       "      <td>Comedy|Romance</td>\n",
       "      <td>Sabrina Fairchild is the young daughter of the...</td>\n",
       "    </tr>\n",
       "    <tr>\n",
       "      <th>8</th>\n",
       "      <td>tom and huck</td>\n",
       "      <td>1995</td>\n",
       "      <td>Adventure|Children</td>\n",
       "      <td>The movie opens with Injun Joe (Eric Schweig) ...</td>\n",
       "    </tr>\n",
       "    <tr>\n",
       "      <th>9</th>\n",
       "      <td>sudden death</td>\n",
       "      <td>1995</td>\n",
       "      <td>Action</td>\n",
       "      <td>Darren McCord (Jean-Claude Van Damme) is a Fre...</td>\n",
       "    </tr>\n",
       "    <tr>\n",
       "      <th>10</th>\n",
       "      <td>goldeneye</td>\n",
       "      <td>1995</td>\n",
       "      <td>Action|Adventure|Thriller</td>\n",
       "      <td>In 1986, at Arkhangelsk, MI6 agents James Bond...</td>\n",
       "    </tr>\n",
       "  </tbody>\n",
       "</table>\n",
       "</div>"
      ],
      "text/plain": [
       "                            title  year  \\\n",
       "item                                      \n",
       "1                       toy story  1995   \n",
       "2                         jumanji  1995   \n",
       "3                grumpier old men  1995   \n",
       "4               waiting to exhale  1995   \n",
       "5     father of the bride part ii  1995   \n",
       "6                            heat  1995   \n",
       "7                         sabrina  1995   \n",
       "8                    tom and huck  1995   \n",
       "9                    sudden death  1995   \n",
       "10                      goldeneye  1995   \n",
       "\n",
       "                                           genres  \\\n",
       "item                                                \n",
       "1     Adventure|Animation|Children|Comedy|Fantasy   \n",
       "2                      Adventure|Children|Fantasy   \n",
       "3                                  Comedy|Romance   \n",
       "4                            Comedy|Drama|Romance   \n",
       "5                                          Comedy   \n",
       "6                           Action|Crime|Thriller   \n",
       "7                                  Comedy|Romance   \n",
       "8                              Adventure|Children   \n",
       "9                                          Action   \n",
       "10                      Action|Adventure|Thriller   \n",
       "\n",
       "                                                   plot  \n",
       "item                                                     \n",
       "1     In a world where toys are living things who pr...  \n",
       "2     In 1869, near Brantford, New Hampshire, two br...  \n",
       "3     The feud between Max (Walter Matthau) and John...  \n",
       "4     \"Friends are the People who let you be yoursel...  \n",
       "5     The film begins five years after the events of...  \n",
       "6     Neil McCauley, a career criminal, hires Waingr...  \n",
       "7     Sabrina Fairchild is the young daughter of the...  \n",
       "8     The movie opens with Injun Joe (Eric Schweig) ...  \n",
       "9     Darren McCord (Jean-Claude Van Damme) is a Fre...  \n",
       "10    In 1986, at Arkhangelsk, MI6 agents James Bond...  "
      ]
     },
     "metadata": {},
     "output_type": "display_data"
    }
   ],
   "source": [
    "movies_df = pd.read_csv(preprocessed_dataset_folder+\"/movies.csv\", index_col=\"item\")\n",
    "display(movies_df.head(10))"
   ]
  },
  {
   "cell_type": "markdown",
   "id": "43a54c51",
   "metadata": {},
   "source": [
    "Let us have a look at the number of ratings we have for each movie. First, we select the columns *user* and *item*. Then, we can use the [groupby](https://pandas.pydata.org/docs/reference/api/pandas.DataFrame.groupby.html) method to group the columns given a specific column value. The method returns a [Groupby](https://pandas.pydata.org/docs/reference/groupby.html) object, which provides methods to aggregate the values of each group. We aggregate by *item*, to count the number of users that rated each item. To compute this, we use the [count](https://pandas.pydata.org/docs/reference/api/pandas.core.groupby.GroupBy.count.html) method which returns a Dataframe object, in which we will have a row for each movie, and the number of users who rated each movie in the *user* column.\n",
    "\n",
    "Then, we visualize the distribution of the number of evaluations for each movie using the [seaborn](https://seaborn.pydata.org/) library. We use the [displot](https://seaborn.pydata.org/generated/seaborn.histplot.html#seaborn.displot) method, specifying `x='user'`."
   ]
  },
  {
   "cell_type": "code",
   "execution_count": 7,
   "id": "69aab684",
   "metadata": {},
   "outputs": [
    {
     "data": {
      "text/html": [
       "<div>\n",
       "<style scoped>\n",
       "    .dataframe tbody tr th:only-of-type {\n",
       "        vertical-align: middle;\n",
       "    }\n",
       "\n",
       "    .dataframe tbody tr th {\n",
       "        vertical-align: top;\n",
       "    }\n",
       "\n",
       "    .dataframe thead th {\n",
       "        text-align: right;\n",
       "    }\n",
       "</style>\n",
       "<table border=\"1\" class=\"dataframe\">\n",
       "  <thead>\n",
       "    <tr style=\"text-align: right;\">\n",
       "      <th></th>\n",
       "      <th>user</th>\n",
       "    </tr>\n",
       "    <tr>\n",
       "      <th>item</th>\n",
       "      <th></th>\n",
       "    </tr>\n",
       "  </thead>\n",
       "  <tbody>\n",
       "    <tr>\n",
       "      <th>1</th>\n",
       "      <td>215</td>\n",
       "    </tr>\n",
       "    <tr>\n",
       "      <th>2</th>\n",
       "      <td>110</td>\n",
       "    </tr>\n",
       "    <tr>\n",
       "      <th>3</th>\n",
       "      <td>52</td>\n",
       "    </tr>\n",
       "    <tr>\n",
       "      <th>4</th>\n",
       "      <td>7</td>\n",
       "    </tr>\n",
       "    <tr>\n",
       "      <th>5</th>\n",
       "      <td>49</td>\n",
       "    </tr>\n",
       "    <tr>\n",
       "      <th>...</th>\n",
       "      <td>...</td>\n",
       "    </tr>\n",
       "    <tr>\n",
       "      <th>181315</th>\n",
       "      <td>1</td>\n",
       "    </tr>\n",
       "    <tr>\n",
       "      <th>182823</th>\n",
       "      <td>4</td>\n",
       "    </tr>\n",
       "    <tr>\n",
       "      <th>191005</th>\n",
       "      <td>1</td>\n",
       "    </tr>\n",
       "    <tr>\n",
       "      <th>193573</th>\n",
       "      <td>1</td>\n",
       "    </tr>\n",
       "    <tr>\n",
       "      <th>193581</th>\n",
       "      <td>1</td>\n",
       "    </tr>\n",
       "  </tbody>\n",
       "</table>\n",
       "<p>4625 rows × 1 columns</p>\n",
       "</div>"
      ],
      "text/plain": [
       "        user\n",
       "item        \n",
       "1        215\n",
       "2        110\n",
       "3         52\n",
       "4          7\n",
       "5         49\n",
       "...      ...\n",
       "181315     1\n",
       "182823     4\n",
       "191005     1\n",
       "193573     1\n",
       "193581     1\n",
       "\n",
       "[4625 rows x 1 columns]"
      ]
     },
     "metadata": {},
     "output_type": "display_data"
    },
    {
     "data": {
      "text/plain": [
       "<seaborn.axisgrid.FacetGrid at 0x17f9eb13970>"
      ]
     },
     "execution_count": 7,
     "metadata": {},
     "output_type": "execute_result"
    },
    {
     "data": {
      "image/png": "[encoded data removed]",
      "text/plain": [
       "<Figure size 360x360 with 1 Axes>"
      ]
     },
     "metadata": {
      "needs_background": "light"
     },
     "output_type": "display_data"
    }
   ],
   "source": [
    "import seaborn as sns\n",
    "\n",
    "count_ratings_df = ratings_df[['user','item']].groupby(['item']).count()\n",
    "display(count_ratings_df)\n",
    "sns.displot(data=count_ratings_df, x='user', binwidth=1)"
   ]
  },
  {
   "cell_type": "markdown",
   "id": "1eb25285",
   "metadata": {},
   "source": [
    "Note that here, we have on the horizontal axe the number of users that evaluated a movie, and on the vertical axe the number of movies having the corresponding number of evaluations. We migh want to visuaize instead on the horizontal axe the movies, and on the vertical axe the number of users who evaluated it. There are different ways to do it, we will just sort the previous Dataframe by *user* (i.e. the number of user evaluations for the corresponding movie) in a descending order, using the [sort_values](https://pandas.pydata.org/docs/reference/api/pandas.DataFrame.sort_values.html) method of the Dataframe object, and then reset the index two times, in order to have a progressive id for the movies (the [reset_index](https://pandas.pydata.org/pandas-docs/stable/reference/api/pandas.DataFrame.reset_index.html) function will create a nerw index assigning a progressive identifier to each row in the Dataframe). The, we just plot the line having *index* on the horizontal axe and *user* on the vertical axe. "
   ]
  },
  {
   "cell_type": "code",
   "execution_count": 8,
   "id": "8bcb5159",
   "metadata": {},
   "outputs": [
    {
     "data": {
      "text/html": [
       "<div>\n",
       "<style scoped>\n",
       "    .dataframe tbody tr th:only-of-type {\n",
       "        vertical-align: middle;\n",
       "    }\n",
       "\n",
       "    .dataframe tbody tr th {\n",
       "        vertical-align: top;\n",
       "    }\n",
       "\n",
       "    .dataframe thead th {\n",
       "        text-align: right;\n",
       "    }\n",
       "</style>\n",
       "<table border=\"1\" class=\"dataframe\">\n",
       "  <thead>\n",
       "    <tr style=\"text-align: right;\">\n",
       "      <th></th>\n",
       "      <th>index</th>\n",
       "      <th>item</th>\n",
       "      <th>user</th>\n",
       "    </tr>\n",
       "  </thead>\n",
       "  <tbody>\n",
       "    <tr>\n",
       "      <th>0</th>\n",
       "      <td>0</td>\n",
       "      <td>356</td>\n",
       "      <td>329</td>\n",
       "    </tr>\n",
       "    <tr>\n",
       "      <th>1</th>\n",
       "      <td>1</td>\n",
       "      <td>296</td>\n",
       "      <td>307</td>\n",
       "    </tr>\n",
       "    <tr>\n",
       "      <th>2</th>\n",
       "      <td>2</td>\n",
       "      <td>480</td>\n",
       "      <td>238</td>\n",
       "    </tr>\n",
       "    <tr>\n",
       "      <th>3</th>\n",
       "      <td>3</td>\n",
       "      <td>110</td>\n",
       "      <td>237</td>\n",
       "    </tr>\n",
       "    <tr>\n",
       "      <th>4</th>\n",
       "      <td>4</td>\n",
       "      <td>589</td>\n",
       "      <td>224</td>\n",
       "    </tr>\n",
       "    <tr>\n",
       "      <th>...</th>\n",
       "      <td>...</td>\n",
       "      <td>...</td>\n",
       "      <td>...</td>\n",
       "    </tr>\n",
       "    <tr>\n",
       "      <th>4620</th>\n",
       "      <td>4620</td>\n",
       "      <td>44197</td>\n",
       "      <td>1</td>\n",
       "    </tr>\n",
       "    <tr>\n",
       "      <th>4621</th>\n",
       "      <td>4621</td>\n",
       "      <td>4402</td>\n",
       "      <td>1</td>\n",
       "    </tr>\n",
       "    <tr>\n",
       "      <th>4622</th>\n",
       "      <td>4622</td>\n",
       "      <td>44189</td>\n",
       "      <td>1</td>\n",
       "    </tr>\n",
       "    <tr>\n",
       "      <th>4623</th>\n",
       "      <td>4623</td>\n",
       "      <td>4408</td>\n",
       "      <td>1</td>\n",
       "    </tr>\n",
       "    <tr>\n",
       "      <th>4624</th>\n",
       "      <td>4624</td>\n",
       "      <td>193581</td>\n",
       "      <td>1</td>\n",
       "    </tr>\n",
       "  </tbody>\n",
       "</table>\n",
       "<p>4625 rows × 3 columns</p>\n",
       "</div>"
      ],
      "text/plain": [
       "      index    item  user\n",
       "0         0     356   329\n",
       "1         1     296   307\n",
       "2         2     480   238\n",
       "3         3     110   237\n",
       "4         4     589   224\n",
       "...     ...     ...   ...\n",
       "4620   4620   44197     1\n",
       "4621   4621    4402     1\n",
       "4622   4622   44189     1\n",
       "4623   4623    4408     1\n",
       "4624   4624  193581     1\n",
       "\n",
       "[4625 rows x 3 columns]"
      ]
     },
     "metadata": {},
     "output_type": "display_data"
    },
    {
     "data": {
      "text/plain": [
       "<AxesSubplot:xlabel='index', ylabel='user'>"
      ]
     },
     "execution_count": 8,
     "metadata": {},
     "output_type": "execute_result"
    },
    {
     "data": {
      "image/png": "[encoded data removed]",
      "text/plain": [
       "<Figure size 432x288 with 1 Axes>"
      ]
     },
     "metadata": {
      "needs_background": "light"
     },
     "output_type": "display_data"
    }
   ],
   "source": [
    "count_ratings_df_ord = count_ratings_df.sort_values(by=\"user\", ascending=False).reset_index().reset_index()\n",
    "display(count_ratings_df_ord)\n",
    "sns.lineplot(data=count_ratings_df_ord, x='index', y='user')"
   ]
  },
  {
   "cell_type": "markdown",
   "id": "47b576e5",
   "metadata": {},
   "source": [
    "Is this what you expected? Does this reming you of something?\n",
    "\n",
    "![title](img/The-long-tail-dinosaur.png)"
   ]
  },
  {
   "cell_type": "markdown",
   "id": "1b304341",
   "metadata": {},
   "source": [
    "#### 2. Non personalized recommendations: ordering by average rating\n",
    "\n",
    "A first idea to provide recommendations for our users can be to use the ratings provided and determine the highest rated movies. To do so, we first need to compute the average rating for each movie, and then determine the top rated. Let's use again the functions provided by the Dataframe object. We can use the [groupby](https://pandas.pydata.org/docs/reference/api/pandas.DataFrame.groupby.html) again. To compute the average ratings, we use the [mean](https://pandas.pydata.org/docs/reference/api/pandas.core.groupby.GroupBy.mean.html) method which returns a Dataframe object, in which we will have a row for each movie, and the average rating will be in the *rating* column. Finally, we use the [sort_values](https://pandas.pydata.org/docs/reference/api/pandas.DataFrame.sort_values.html) method to sort the movies by rating, and we print the first 10 movies."
   ]
  },
  {
   "cell_type": "code",
   "execution_count": 9,
   "id": "8414f383",
   "metadata": {},
   "outputs": [
    {
     "data": {
      "text/html": [
       "<div>\n",
       "<style scoped>\n",
       "    .dataframe tbody tr th:only-of-type {\n",
       "        vertical-align: middle;\n",
       "    }\n",
       "\n",
       "    .dataframe tbody tr th {\n",
       "        vertical-align: top;\n",
       "    }\n",
       "\n",
       "    .dataframe thead th {\n",
       "        text-align: right;\n",
       "    }\n",
       "</style>\n",
       "<table border=\"1\" class=\"dataframe\">\n",
       "  <thead>\n",
       "    <tr style=\"text-align: right;\">\n",
       "      <th></th>\n",
       "      <th>user</th>\n",
       "      <th>rating</th>\n",
       "      <th>timestamp</th>\n",
       "    </tr>\n",
       "    <tr>\n",
       "      <th>item</th>\n",
       "      <th></th>\n",
       "      <th></th>\n",
       "      <th></th>\n",
       "    </tr>\n",
       "  </thead>\n",
       "  <tbody>\n",
       "    <tr>\n",
       "      <th>4402</th>\n",
       "      <td>441.0</td>\n",
       "      <td>5.0</td>\n",
       "      <td>1.449071e+09</td>\n",
       "    </tr>\n",
       "    <tr>\n",
       "      <th>96608</th>\n",
       "      <td>89.0</td>\n",
       "      <td>5.0</td>\n",
       "      <td>1.520409e+09</td>\n",
       "    </tr>\n",
       "    <tr>\n",
       "      <th>131237</th>\n",
       "      <td>105.0</td>\n",
       "      <td>5.0</td>\n",
       "      <td>1.446619e+09</td>\n",
       "    </tr>\n",
       "    <tr>\n",
       "      <th>33138</th>\n",
       "      <td>187.0</td>\n",
       "      <td>5.0</td>\n",
       "      <td>1.161955e+09</td>\n",
       "    </tr>\n",
       "    <tr>\n",
       "      <th>84512</th>\n",
       "      <td>89.0</td>\n",
       "      <td>5.0</td>\n",
       "      <td>1.520409e+09</td>\n",
       "    </tr>\n",
       "    <tr>\n",
       "      <th>82744</th>\n",
       "      <td>380.0</td>\n",
       "      <td>5.0</td>\n",
       "      <td>1.493422e+09</td>\n",
       "    </tr>\n",
       "    <tr>\n",
       "      <th>164367</th>\n",
       "      <td>534.0</td>\n",
       "      <td>5.0</td>\n",
       "      <td>1.487278e+09</td>\n",
       "    </tr>\n",
       "    <tr>\n",
       "      <th>99636</th>\n",
       "      <td>106.0</td>\n",
       "      <td>5.0</td>\n",
       "      <td>1.467567e+09</td>\n",
       "    </tr>\n",
       "    <tr>\n",
       "      <th>107771</th>\n",
       "      <td>610.0</td>\n",
       "      <td>5.0</td>\n",
       "      <td>1.479544e+09</td>\n",
       "    </tr>\n",
       "    <tr>\n",
       "      <th>100906</th>\n",
       "      <td>610.0</td>\n",
       "      <td>5.0</td>\n",
       "      <td>1.479543e+09</td>\n",
       "    </tr>\n",
       "  </tbody>\n",
       "</table>\n",
       "</div>"
      ],
      "text/plain": [
       "         user  rating     timestamp\n",
       "item                               \n",
       "4402    441.0     5.0  1.449071e+09\n",
       "96608    89.0     5.0  1.520409e+09\n",
       "131237  105.0     5.0  1.446619e+09\n",
       "33138   187.0     5.0  1.161955e+09\n",
       "84512    89.0     5.0  1.520409e+09\n",
       "82744   380.0     5.0  1.493422e+09\n",
       "164367  534.0     5.0  1.487278e+09\n",
       "99636   106.0     5.0  1.467567e+09\n",
       "107771  610.0     5.0  1.479544e+09\n",
       "100906  610.0     5.0  1.479543e+09"
      ]
     },
     "metadata": {},
     "output_type": "display_data"
    }
   ],
   "source": [
    "average_ratings_df = ratings_df.groupby(['item']).mean()\n",
    "sorted_avg_ratings_df = average_ratings_df.sort_values(by=\"rating\", ascending=False)\n",
    "\n",
    "display(sorted_avg_ratings_df.head(10))"
   ]
  },
  {
   "cell_type": "markdown",
   "id": "97a45c5e",
   "metadata": {},
   "source": [
    "Let's use the information in the *movies_df* to associate the title on each movie, and then print the list of recommended movies. We will use the [join](https://pandas.pydata.org/docs/reference/api/pandas.DataFrame.join.html) method of the Dataframe object. Remember that the attribute you specify with the *on* parameter must be the index of the second dataframe."
   ]
  },
  {
   "cell_type": "code",
   "execution_count": 10,
   "id": "8ba01c00",
   "metadata": {},
   "outputs": [
    {
     "data": {
      "text/html": [
       "<div>\n",
       "<style scoped>\n",
       "    .dataframe tbody tr th:only-of-type {\n",
       "        vertical-align: middle;\n",
       "    }\n",
       "\n",
       "    .dataframe tbody tr th {\n",
       "        vertical-align: top;\n",
       "    }\n",
       "\n",
       "    .dataframe thead th {\n",
       "        text-align: right;\n",
       "    }\n",
       "</style>\n",
       "<table border=\"1\" class=\"dataframe\">\n",
       "  <thead>\n",
       "    <tr style=\"text-align: right;\">\n",
       "      <th></th>\n",
       "      <th>user</th>\n",
       "      <th>rating</th>\n",
       "      <th>timestamp</th>\n",
       "      <th>title</th>\n",
       "      <th>year</th>\n",
       "      <th>genres</th>\n",
       "      <th>plot</th>\n",
       "    </tr>\n",
       "    <tr>\n",
       "      <th>item</th>\n",
       "      <th></th>\n",
       "      <th></th>\n",
       "      <th></th>\n",
       "      <th></th>\n",
       "      <th></th>\n",
       "      <th></th>\n",
       "      <th></th>\n",
       "    </tr>\n",
       "  </thead>\n",
       "  <tbody>\n",
       "    <tr>\n",
       "      <th>4402</th>\n",
       "      <td>441.0</td>\n",
       "      <td>5.0</td>\n",
       "      <td>1.449071e+09</td>\n",
       "      <td>dr. goldfoot and the bikini machine</td>\n",
       "      <td>1965</td>\n",
       "      <td>Comedy</td>\n",
       "      <td>Price plays the titular mad scientist who, wit...</td>\n",
       "    </tr>\n",
       "    <tr>\n",
       "      <th>96608</th>\n",
       "      <td>89.0</td>\n",
       "      <td>5.0</td>\n",
       "      <td>1.520409e+09</td>\n",
       "      <td>runaway brain</td>\n",
       "      <td>1995</td>\n",
       "      <td>Animation|Comedy|Sci-Fi</td>\n",
       "      <td>Minnie visits Mickey while he is playing a Sno...</td>\n",
       "    </tr>\n",
       "    <tr>\n",
       "      <th>131237</th>\n",
       "      <td>105.0</td>\n",
       "      <td>5.0</td>\n",
       "      <td>1.446619e+09</td>\n",
       "      <td>what men talk about</td>\n",
       "      <td>2010</td>\n",
       "      <td>Comedy</td>\n",
       "      <td>What Men Talk About? Of course, women. But als...</td>\n",
       "    </tr>\n",
       "    <tr>\n",
       "      <th>33138</th>\n",
       "      <td>187.0</td>\n",
       "      <td>5.0</td>\n",
       "      <td>1.161955e+09</td>\n",
       "      <td>palindromes</td>\n",
       "      <td>2004</td>\n",
       "      <td>Adventure|Comedy|Drama</td>\n",
       "      <td>The film opens with a funeral for a young woma...</td>\n",
       "    </tr>\n",
       "    <tr>\n",
       "      <th>84512</th>\n",
       "      <td>89.0</td>\n",
       "      <td>5.0</td>\n",
       "      <td>1.520409e+09</td>\n",
       "      <td>girls about town</td>\n",
       "      <td>1931</td>\n",
       "      <td>Comedy</td>\n",
       "      <td>Wanda Howard (Kay Francis) and Marie Bailey (L...</td>\n",
       "    </tr>\n",
       "    <tr>\n",
       "      <th>82744</th>\n",
       "      <td>380.0</td>\n",
       "      <td>5.0</td>\n",
       "      <td>1.493422e+09</td>\n",
       "      <td>faster</td>\n",
       "      <td>2010</td>\n",
       "      <td>Action|Crime|Drama</td>\n",
       "      <td>Upon leaving prison, \"Driver\" breaks into a ru...</td>\n",
       "    </tr>\n",
       "    <tr>\n",
       "      <th>164367</th>\n",
       "      <td>534.0</td>\n",
       "      <td>5.0</td>\n",
       "      <td>1.487278e+09</td>\n",
       "      <td>the girl with all the gifts</td>\n",
       "      <td>2016</td>\n",
       "      <td>Drama|Horror|Sci-Fi|Thriller</td>\n",
       "      <td>In the near future, humanity has been ravaged ...</td>\n",
       "    </tr>\n",
       "    <tr>\n",
       "      <th>99636</th>\n",
       "      <td>106.0</td>\n",
       "      <td>5.0</td>\n",
       "      <td>1.467567e+09</td>\n",
       "      <td>english vinglish</td>\n",
       "      <td>2012</td>\n",
       "      <td>Comedy|Drama</td>\n",
       "      <td>Shashi Godbole (Sridevi) is a homemaker who ma...</td>\n",
       "    </tr>\n",
       "    <tr>\n",
       "      <th>107771</th>\n",
       "      <td>610.0</td>\n",
       "      <td>5.0</td>\n",
       "      <td>1.479544e+09</td>\n",
       "      <td>only lovers left alive</td>\n",
       "      <td>2013</td>\n",
       "      <td>Drama|Horror|Romance</td>\n",
       "      <td>Married for centuries and now living half a wo...</td>\n",
       "    </tr>\n",
       "    <tr>\n",
       "      <th>100906</th>\n",
       "      <td>610.0</td>\n",
       "      <td>5.0</td>\n",
       "      <td>1.479543e+09</td>\n",
       "      <td>maniac cop 2</td>\n",
       "      <td>1990</td>\n",
       "      <td>Action|Horror|Thriller</td>\n",
       "      <td>After being impaled by a pipe and plunging int...</td>\n",
       "    </tr>\n",
       "  </tbody>\n",
       "</table>\n",
       "</div>"
      ],
      "text/plain": [
       "         user  rating     timestamp                                title  \\\n",
       "item                                                                       \n",
       "4402    441.0     5.0  1.449071e+09  dr. goldfoot and the bikini machine   \n",
       "96608    89.0     5.0  1.520409e+09                        runaway brain   \n",
       "131237  105.0     5.0  1.446619e+09                  what men talk about   \n",
       "33138   187.0     5.0  1.161955e+09                          palindromes   \n",
       "84512    89.0     5.0  1.520409e+09                     girls about town   \n",
       "82744   380.0     5.0  1.493422e+09                               faster   \n",
       "164367  534.0     5.0  1.487278e+09          the girl with all the gifts   \n",
       "99636   106.0     5.0  1.467567e+09                     english vinglish   \n",
       "107771  610.0     5.0  1.479544e+09               only lovers left alive   \n",
       "100906  610.0     5.0  1.479543e+09                         maniac cop 2   \n",
       "\n",
       "        year                        genres  \\\n",
       "item                                         \n",
       "4402    1965                        Comedy   \n",
       "96608   1995       Animation|Comedy|Sci-Fi   \n",
       "131237  2010                        Comedy   \n",
       "33138   2004        Adventure|Comedy|Drama   \n",
       "84512   1931                        Comedy   \n",
       "82744   2010            Action|Crime|Drama   \n",
       "164367  2016  Drama|Horror|Sci-Fi|Thriller   \n",
       "99636   2012                  Comedy|Drama   \n",
       "107771  2013          Drama|Horror|Romance   \n",
       "100906  1990        Action|Horror|Thriller   \n",
       "\n",
       "                                                     plot  \n",
       "item                                                       \n",
       "4402    Price plays the titular mad scientist who, wit...  \n",
       "96608   Minnie visits Mickey while he is playing a Sno...  \n",
       "131237  What Men Talk About? Of course, women. But als...  \n",
       "33138   The film opens with a funeral for a young woma...  \n",
       "84512   Wanda Howard (Kay Francis) and Marie Bailey (L...  \n",
       "82744   Upon leaving prison, \"Driver\" breaks into a ru...  \n",
       "164367  In the near future, humanity has been ravaged ...  \n",
       "99636   Shashi Godbole (Sridevi) is a homemaker who ma...  \n",
       "107771  Married for centuries and now living half a wo...  \n",
       "100906  After being impaled by a pipe and plunging int...  "
      ]
     },
     "metadata": {},
     "output_type": "display_data"
    }
   ],
   "source": [
    "joined_df = sorted_avg_ratings_df.join(movies_df, on='item')\n",
    "display(joined_df.head(10))"
   ]
  },
  {
   "cell_type": "markdown",
   "id": "59b86779",
   "metadata": {},
   "source": [
    "The movie we recommend are not so famous. Why is this happening? Let's check how many people rated each of these movies. We use again the *group_by* method, and then we use the [agg](https://pandas.pydata.org/docs/reference/api/pandas.core.groupby.GroupBy.agg.html) method of the Groupby onject to specify different aggregations: for the *user*, we are going to count the number of users in the group, using the *'size'* input, while for the rating we want the average value, so we specify *'mean'*. The rest of the operations are the same as before:"
   ]
  },
  {
   "cell_type": "code",
   "execution_count": 11,
   "id": "7a316651",
   "metadata": {},
   "outputs": [
    {
     "data": {
      "text/html": [
       "<div>\n",
       "<style scoped>\n",
       "    .dataframe tbody tr th:only-of-type {\n",
       "        vertical-align: middle;\n",
       "    }\n",
       "\n",
       "    .dataframe tbody tr th {\n",
       "        vertical-align: top;\n",
       "    }\n",
       "\n",
       "    .dataframe thead th {\n",
       "        text-align: right;\n",
       "    }\n",
       "</style>\n",
       "<table border=\"1\" class=\"dataframe\">\n",
       "  <thead>\n",
       "    <tr style=\"text-align: right;\">\n",
       "      <th></th>\n",
       "      <th>title</th>\n",
       "      <th>count</th>\n",
       "      <th>rating</th>\n",
       "    </tr>\n",
       "  </thead>\n",
       "  <tbody>\n",
       "    <tr>\n",
       "      <th>1910</th>\n",
       "      <td>dr. goldfoot and the bikini machine</td>\n",
       "      <td>1</td>\n",
       "      <td>5.0</td>\n",
       "    </tr>\n",
       "    <tr>\n",
       "      <th>4055</th>\n",
       "      <td>runaway brain</td>\n",
       "      <td>1</td>\n",
       "      <td>5.0</td>\n",
       "    </tr>\n",
       "    <tr>\n",
       "      <th>4377</th>\n",
       "      <td>what men talk about</td>\n",
       "      <td>1</td>\n",
       "      <td>5.0</td>\n",
       "    </tr>\n",
       "    <tr>\n",
       "      <th>3164</th>\n",
       "      <td>palindromes</td>\n",
       "      <td>1</td>\n",
       "      <td>5.0</td>\n",
       "    </tr>\n",
       "    <tr>\n",
       "      <th>3881</th>\n",
       "      <td>girls about town</td>\n",
       "      <td>1</td>\n",
       "      <td>5.0</td>\n",
       "    </tr>\n",
       "    <tr>\n",
       "      <th>3869</th>\n",
       "      <td>faster</td>\n",
       "      <td>1</td>\n",
       "      <td>5.0</td>\n",
       "    </tr>\n",
       "    <tr>\n",
       "      <th>4532</th>\n",
       "      <td>the girl with all the gifts</td>\n",
       "      <td>1</td>\n",
       "      <td>5.0</td>\n",
       "    </tr>\n",
       "    <tr>\n",
       "      <th>4097</th>\n",
       "      <td>english vinglish</td>\n",
       "      <td>1</td>\n",
       "      <td>5.0</td>\n",
       "    </tr>\n",
       "    <tr>\n",
       "      <th>4200</th>\n",
       "      <td>only lovers left alive</td>\n",
       "      <td>1</td>\n",
       "      <td>5.0</td>\n",
       "    </tr>\n",
       "    <tr>\n",
       "      <th>4113</th>\n",
       "      <td>maniac cop 2</td>\n",
       "      <td>1</td>\n",
       "      <td>5.0</td>\n",
       "    </tr>\n",
       "  </tbody>\n",
       "</table>\n",
       "</div>"
      ],
      "text/plain": [
       "                                    title  count  rating\n",
       "1910  dr. goldfoot and the bikini machine      1     5.0\n",
       "4055                        runaway brain      1     5.0\n",
       "4377                  what men talk about      1     5.0\n",
       "3164                          palindromes      1     5.0\n",
       "3881                     girls about town      1     5.0\n",
       "3869                               faster      1     5.0\n",
       "4532          the girl with all the gifts      1     5.0\n",
       "4097                     english vinglish      1     5.0\n",
       "4200               only lovers left alive      1     5.0\n",
       "4113                         maniac cop 2      1     5.0"
      ]
     },
     "metadata": {},
     "output_type": "display_data"
    }
   ],
   "source": [
    "average_ratings_df = ratings_df.groupby(['item']).agg(count=('user', 'size'), rating=('rating', 'mean')).reset_index()\n",
    "sorted_avg_ratings_df = average_ratings_df.sort_values(by=\"rating\", ascending=False)\n",
    "joined_df = sorted_avg_ratings_df.join(movies_df, on='item')\n",
    "display(joined_df[['title', 'count', 'rating']].head(10))"
   ]
  },
  {
   "cell_type": "markdown",
   "id": "e345c6af",
   "metadata": {},
   "source": [
    "We can see that all the movies we selected have been rated by only one user. Let's try to recommend only movies that have been rated by at least 20 users. Note that the *item* column is the index for the Dataframe object obtained using the *mean* and *count* methods. We will use the [loc](https://pandas.pydata.org/docs/reference/api/pandas.DataFrame.loc.html) attribute of the Dataframe object, which allows to access a group of rows and columns by label(s) or a boolean array. In particular, we will determine a Series of boolean: The instruction `rating_counts_df['rating'] > minimum_ratings` evaluate the condition for each row of the *rating* column. Hence, *loc* will only return the rows for which such condition is true."
   ]
  },
  {
   "cell_type": "code",
   "execution_count": 12,
   "id": "b4e1056e",
   "metadata": {
    "scrolled": true
   },
   "outputs": [
    {
     "data": {
      "text/html": [
       "<div>\n",
       "<style scoped>\n",
       "    .dataframe tbody tr th:only-of-type {\n",
       "        vertical-align: middle;\n",
       "    }\n",
       "\n",
       "    .dataframe tbody tr th {\n",
       "        vertical-align: top;\n",
       "    }\n",
       "\n",
       "    .dataframe thead th {\n",
       "        text-align: right;\n",
       "    }\n",
       "</style>\n",
       "<table border=\"1\" class=\"dataframe\">\n",
       "  <thead>\n",
       "    <tr style=\"text-align: right;\">\n",
       "      <th></th>\n",
       "      <th>title</th>\n",
       "      <th>rating</th>\n",
       "    </tr>\n",
       "    <tr>\n",
       "      <th>item</th>\n",
       "      <th></th>\n",
       "      <th></th>\n",
       "    </tr>\n",
       "  </thead>\n",
       "  <tbody>\n",
       "    <tr>\n",
       "      <th>1204</th>\n",
       "      <td>lawrence of arabia</td>\n",
       "      <td>4.300000</td>\n",
       "    </tr>\n",
       "    <tr>\n",
       "      <th>1235</th>\n",
       "      <td>harold and maude</td>\n",
       "      <td>4.288462</td>\n",
       "    </tr>\n",
       "    <tr>\n",
       "      <th>168252</th>\n",
       "      <td>logan</td>\n",
       "      <td>4.280000</td>\n",
       "    </tr>\n",
       "    <tr>\n",
       "      <th>2959</th>\n",
       "      <td>fight club</td>\n",
       "      <td>4.272936</td>\n",
       "    </tr>\n",
       "    <tr>\n",
       "      <th>1276</th>\n",
       "      <td>cool hand luke</td>\n",
       "      <td>4.271930</td>\n",
       "    </tr>\n",
       "    <tr>\n",
       "      <th>750</th>\n",
       "      <td>dr. strangelove or: how i learned to stop worr...</td>\n",
       "      <td>4.268041</td>\n",
       "    </tr>\n",
       "    <tr>\n",
       "      <th>904</th>\n",
       "      <td>rear window</td>\n",
       "      <td>4.261905</td>\n",
       "    </tr>\n",
       "    <tr>\n",
       "      <th>1213</th>\n",
       "      <td>goodfellas</td>\n",
       "      <td>4.250000</td>\n",
       "    </tr>\n",
       "    <tr>\n",
       "      <th>912</th>\n",
       "      <td>casablanca</td>\n",
       "      <td>4.240000</td>\n",
       "    </tr>\n",
       "    <tr>\n",
       "      <th>926</th>\n",
       "      <td>all about eve</td>\n",
       "      <td>4.229167</td>\n",
       "    </tr>\n",
       "  </tbody>\n",
       "</table>\n",
       "</div>"
      ],
      "text/plain": [
       "                                                    title    rating\n",
       "item                                                               \n",
       "1204                                   lawrence of arabia  4.300000\n",
       "1235                                     harold and maude  4.288462\n",
       "168252                                              logan  4.280000\n",
       "2959                                           fight club  4.272936\n",
       "1276                                       cool hand luke  4.271930\n",
       "750     dr. strangelove or: how i learned to stop worr...  4.268041\n",
       "904                                           rear window  4.261905\n",
       "1213                                           goodfellas  4.250000\n",
       "912                                            casablanca  4.240000\n",
       "926                                         all about eve  4.229167"
      ]
     },
     "metadata": {},
     "output_type": "display_data"
    }
   ],
   "source": [
    "minimum_ratings = 20\n",
    "average_ratings_df = ratings_df.groupby(['item']).mean() #compute the average ratings for each movie\n",
    "rating_counts_df = ratings_df.groupby(['item']).count() #compute the number of evaluations for each movie\n",
    "average_ratings_df = average_ratings_df.loc[rating_counts_df['rating'] > minimum_ratings] #select the movies having the required number of evaluations\n",
    "sorted_avg_ratings_df = average_ratings_df.sort_values(by=\"rating\", ascending=False) #sort the movies according to the average ratings\n",
    "joined_df = sorted_avg_ratings_df.join(movies_df['title'], on='item') #associate the title\n",
    "display(joined_df[['title','rating']].head(10))"
   ]
  },
  {
   "cell_type": "markdown",
   "id": "8ca3cbdf",
   "metadata": {},
   "source": [
    "We can see now that the recommendation contains more famous movies."
   ]
  },
  {
   "cell_type": "markdown",
   "id": "986b3aee",
   "metadata": {},
   "source": [
    "#### 3. Towards personalization: filtering by genre\n",
    "\n",
    "Now, let us try to make a personalized recommender system. One possible solution is to suggest movies having the highest ratings for a specific genre. We also want to only select movies evaluated by at least 20 users. We use the same methods used in the previous example. To select the movies by genre, we need to check if the value in the column *genre* contains the specified genre. We can write the conditions as `average_ratings_df['genres'].str.contains(genre)`. "
   ]
  },
  {
   "cell_type": "code",
   "execution_count": 13,
   "id": "7a330a4f",
   "metadata": {
    "scrolled": true
   },
   "outputs": [
    {
     "data": {
      "text/html": [
       "<div>\n",
       "<style scoped>\n",
       "    .dataframe tbody tr th:only-of-type {\n",
       "        vertical-align: middle;\n",
       "    }\n",
       "\n",
       "    .dataframe tbody tr th {\n",
       "        vertical-align: top;\n",
       "    }\n",
       "\n",
       "    .dataframe thead th {\n",
       "        text-align: right;\n",
       "    }\n",
       "</style>\n",
       "<table border=\"1\" class=\"dataframe\">\n",
       "  <thead>\n",
       "    <tr style=\"text-align: right;\">\n",
       "      <th></th>\n",
       "      <th>title</th>\n",
       "      <th>rating</th>\n",
       "      <th>genres</th>\n",
       "    </tr>\n",
       "    <tr>\n",
       "      <th>item</th>\n",
       "      <th></th>\n",
       "      <th></th>\n",
       "      <th></th>\n",
       "    </tr>\n",
       "  </thead>\n",
       "  <tbody>\n",
       "    <tr>\n",
       "      <th>168252</th>\n",
       "      <td>logan</td>\n",
       "      <td>4.280000</td>\n",
       "      <td>Action|Sci-Fi</td>\n",
       "    </tr>\n",
       "    <tr>\n",
       "      <th>2959</th>\n",
       "      <td>fight club</td>\n",
       "      <td>4.272936</td>\n",
       "      <td>Action|Crime|Drama|Thriller</td>\n",
       "    </tr>\n",
       "    <tr>\n",
       "      <th>1208</th>\n",
       "      <td>apocalypse now</td>\n",
       "      <td>4.219626</td>\n",
       "      <td>Action|Drama|War</td>\n",
       "    </tr>\n",
       "    <tr>\n",
       "      <th>908</th>\n",
       "      <td>north by northwest</td>\n",
       "      <td>4.184211</td>\n",
       "      <td>Action|Adventure|Mystery|Romance|Thriller</td>\n",
       "    </tr>\n",
       "    <tr>\n",
       "      <th>2028</th>\n",
       "      <td>saving private ryan</td>\n",
       "      <td>4.146277</td>\n",
       "      <td>Action|Drama|War</td>\n",
       "    </tr>\n",
       "    <tr>\n",
       "      <th>68157</th>\n",
       "      <td>inglourious basterds</td>\n",
       "      <td>4.136364</td>\n",
       "      <td>Action|Drama|War</td>\n",
       "    </tr>\n",
       "    <tr>\n",
       "      <th>541</th>\n",
       "      <td>blade runner</td>\n",
       "      <td>4.100806</td>\n",
       "      <td>Action|Sci-Fi|Thriller</td>\n",
       "    </tr>\n",
       "    <tr>\n",
       "      <th>79132</th>\n",
       "      <td>inception</td>\n",
       "      <td>4.066434</td>\n",
       "      <td>Action|Crime|Drama|Mystery|Sci-Fi|Thriller|IMAX</td>\n",
       "    </tr>\n",
       "    <tr>\n",
       "      <th>112852</th>\n",
       "      <td>guardians of the galaxy</td>\n",
       "      <td>4.050847</td>\n",
       "      <td>Action|Adventure|Sci-Fi</td>\n",
       "    </tr>\n",
       "    <tr>\n",
       "      <th>1291</th>\n",
       "      <td>indiana jones and the last crusade</td>\n",
       "      <td>4.046429</td>\n",
       "      <td>Action|Adventure</td>\n",
       "    </tr>\n",
       "  </tbody>\n",
       "</table>\n",
       "</div>"
      ],
      "text/plain": [
       "                                     title    rating  \\\n",
       "item                                                   \n",
       "168252                               logan  4.280000   \n",
       "2959                            fight club  4.272936   \n",
       "1208                        apocalypse now  4.219626   \n",
       "908                     north by northwest  4.184211   \n",
       "2028                   saving private ryan  4.146277   \n",
       "68157                 inglourious basterds  4.136364   \n",
       "541                           blade runner  4.100806   \n",
       "79132                            inception  4.066434   \n",
       "112852             guardians of the galaxy  4.050847   \n",
       "1291    indiana jones and the last crusade  4.046429   \n",
       "\n",
       "                                                 genres  \n",
       "item                                                     \n",
       "168252                                    Action|Sci-Fi  \n",
       "2959                        Action|Crime|Drama|Thriller  \n",
       "1208                                   Action|Drama|War  \n",
       "908           Action|Adventure|Mystery|Romance|Thriller  \n",
       "2028                                   Action|Drama|War  \n",
       "68157                                  Action|Drama|War  \n",
       "541                              Action|Sci-Fi|Thriller  \n",
       "79132   Action|Crime|Drama|Mystery|Sci-Fi|Thriller|IMAX  \n",
       "112852                          Action|Adventure|Sci-Fi  \n",
       "1291                                   Action|Adventure  "
      ]
     },
     "metadata": {},
     "output_type": "display_data"
    }
   ],
   "source": [
    "genre = 'Action'\n",
    "minimum_ratings = 20\n",
    "\n",
    "average_ratings_df = ratings_df.groupby(['item']).mean() #compute the average ratings for each movie\n",
    "rating_counts_df = ratings_df.groupby(['item']).count() #compute the number of evaluations for each movie\n",
    "average_ratings_df = average_ratings_df.loc[rating_counts_df['rating'] > minimum_ratings] #select the movies having the required number of evaluations\n",
    "average_ratings_df = average_ratings_df.join(movies_df['genres'], on='item')\n",
    "average_ratings_df = average_ratings_df.loc[average_ratings_df['genres'].str.contains(genre)]\n",
    "sorted_avg_ratings_df = average_ratings_df.sort_values(by=\"rating\", ascending=False) #sort the movies according to the average ratings\n",
    "joined_df = sorted_avg_ratings_df.join(movies_df['title'], on='item') #associate the title\n",
    "display(joined_df[['title','rating','genres']].head(10))"
   ]
  },
  {
   "cell_type": "markdown",
   "id": "58c0ef02",
   "metadata": {},
   "source": [
    "We can see here the genres associated to the chosen movies. A movie can belong to multiple genres, some of which a user likes, and some he/she dislike. "
   ]
  },
  {
   "cell_type": "markdown",
   "id": "6dba86c5",
   "metadata": {},
   "source": [
    "#### 4. Content Based Recommender System\n",
    "\n",
    "Let us try to implement a strategies seen during the lectures to provide more personalized recommendations. We start from a content based approach. In the next steps, we will implementing a CB recommender for a specific user, and generate a recommendation list considering the movies the user didn't rate. We will see the following steps:\n",
    "- Selection of a random user\n",
    "- Retrieving the information of the rated and unrated movies for the selected user\n",
    "- Compute a feature representation for the movie's contents (TF-IDF)\n",
    "- Train a regressor, compute the predicted ratings for unrated movies, and recommending the movies with higher predicted ratings"
   ]
  },
  {
   "cell_type": "markdown",
   "id": "d92dc4ad",
   "metadata": {},
   "source": [
    "##### 4.1 Selection of a random user\n",
    "\n",
    "\n",
    "For simplicity, we select a random user from the *ratings_df* Dataframe having more than 200 evaluations. First, we select all the users with more than 200 evaluations, and then we use the [sample](https://pandas.pydata.org/docs/reference/api/pandas.core.groupby.DataFrameGroupBy.sample.html) method to extract a random row. Finally, we extract the *user* column and we read the content with the [iloc](https://pandas.pydata.org/docs/reference/api/pandas.DataFrame.iloc.html) method."
   ]
  },
  {
   "cell_type": "code",
   "execution_count": 14,
   "id": "b555c6af",
   "metadata": {},
   "outputs": [
    {
     "name": "stdout",
     "output_type": "stream",
     "text": [
      "Selected user: 414\n"
     ]
    }
   ],
   "source": [
    "users_ratings = ratings_df.groupby(['user']).count()\n",
    "\n",
    "selected = users_ratings['rating'] > 200\n",
    "selected_users = users_ratings.loc[selected]\n",
    "random_selected = selected_users.sample() # sample() returns a random row from the dataframe. The returned object is a dataframe with one row. If you pass a number as argument you specify to select more than one row.\n",
    "select_column_df = random_selected.reset_index()['user'] # reset_index() create a new index, and the user became a column. Then, we can filter using the column name\n",
    "selected_user = select_column_df.iloc[0] # iloc select by index, since our dataframe only has one row we read it from the index 0\n",
    "print(\"Selected user: \" + str(selected_user))"
   ]
  },
  {
   "cell_type": "markdown",
   "id": "dc6c40d6",
   "metadata": {},
   "source": [
    "##### 4.2 Retrieving the information of the rated and unrated movies for the selected user\n",
    "\n",
    "Now, we need to select the user evaluations, that we will use to train our recommender. We print the number of ratings that we have for the considered user, and the extracted dataset, ordered by ratings."
   ]
  },
  {
   "cell_type": "code",
   "execution_count": 15,
   "id": "2ee0e87b",
   "metadata": {},
   "outputs": [
    {
     "name": "stdout",
     "output_type": "stream",
     "text": [
      "Rated movies: 1738\n"
     ]
    },
    {
     "data": {
      "text/html": [
       "<div>\n",
       "<style scoped>\n",
       "    .dataframe tbody tr th:only-of-type {\n",
       "        vertical-align: middle;\n",
       "    }\n",
       "\n",
       "    .dataframe tbody tr th {\n",
       "        vertical-align: top;\n",
       "    }\n",
       "\n",
       "    .dataframe thead th {\n",
       "        text-align: right;\n",
       "    }\n",
       "</style>\n",
       "<table border=\"1\" class=\"dataframe\">\n",
       "  <thead>\n",
       "    <tr style=\"text-align: right;\">\n",
       "      <th></th>\n",
       "      <th>user</th>\n",
       "      <th>item</th>\n",
       "      <th>rating</th>\n",
       "      <th>timestamp</th>\n",
       "    </tr>\n",
       "  </thead>\n",
       "  <tbody>\n",
       "    <tr>\n",
       "      <th>39961</th>\n",
       "      <td>414</td>\n",
       "      <td>1</td>\n",
       "      <td>4.0</td>\n",
       "      <td>961438127</td>\n",
       "    </tr>\n",
       "    <tr>\n",
       "      <th>39962</th>\n",
       "      <td>414</td>\n",
       "      <td>2</td>\n",
       "      <td>3.0</td>\n",
       "      <td>961594981</td>\n",
       "    </tr>\n",
       "    <tr>\n",
       "      <th>39963</th>\n",
       "      <td>414</td>\n",
       "      <td>3</td>\n",
       "      <td>4.0</td>\n",
       "      <td>961439278</td>\n",
       "    </tr>\n",
       "    <tr>\n",
       "      <th>39964</th>\n",
       "      <td>414</td>\n",
       "      <td>5</td>\n",
       "      <td>2.0</td>\n",
       "      <td>961437647</td>\n",
       "    </tr>\n",
       "    <tr>\n",
       "      <th>39965</th>\n",
       "      <td>414</td>\n",
       "      <td>6</td>\n",
       "      <td>3.0</td>\n",
       "      <td>961515642</td>\n",
       "    </tr>\n",
       "    <tr>\n",
       "      <th>39966</th>\n",
       "      <td>414</td>\n",
       "      <td>7</td>\n",
       "      <td>3.0</td>\n",
       "      <td>961439170</td>\n",
       "    </tr>\n",
       "    <tr>\n",
       "      <th>39967</th>\n",
       "      <td>414</td>\n",
       "      <td>8</td>\n",
       "      <td>3.0</td>\n",
       "      <td>961594849</td>\n",
       "    </tr>\n",
       "    <tr>\n",
       "      <th>39968</th>\n",
       "      <td>414</td>\n",
       "      <td>10</td>\n",
       "      <td>3.0</td>\n",
       "      <td>961515863</td>\n",
       "    </tr>\n",
       "    <tr>\n",
       "      <th>39969</th>\n",
       "      <td>414</td>\n",
       "      <td>15</td>\n",
       "      <td>2.0</td>\n",
       "      <td>961514611</td>\n",
       "    </tr>\n",
       "    <tr>\n",
       "      <th>39970</th>\n",
       "      <td>414</td>\n",
       "      <td>16</td>\n",
       "      <td>3.0</td>\n",
       "      <td>961517557</td>\n",
       "    </tr>\n",
       "  </tbody>\n",
       "</table>\n",
       "</div>"
      ],
      "text/plain": [
       "       user  item  rating  timestamp\n",
       "39961   414     1     4.0  961438127\n",
       "39962   414     2     3.0  961594981\n",
       "39963   414     3     4.0  961439278\n",
       "39964   414     5     2.0  961437647\n",
       "39965   414     6     3.0  961515642\n",
       "39966   414     7     3.0  961439170\n",
       "39967   414     8     3.0  961594849\n",
       "39968   414    10     3.0  961515863\n",
       "39969   414    15     2.0  961514611\n",
       "39970   414    16     3.0  961517557"
      ]
     },
     "metadata": {},
     "output_type": "display_data"
    }
   ],
   "source": [
    "selected_user_ratings = ratings_df.loc[ratings_df['user'] == selected_user]\n",
    "selected_user_ratings = selected_user_ratings.sort_values(by='item', ascending=True)\n",
    "print(\"Rated movies: \" + str(selected_user_ratings.shape[0]))\n",
    "display(selected_user_ratings.head(10))"
   ]
  },
  {
   "cell_type": "markdown",
   "id": "36a84f8c",
   "metadata": {},
   "source": [
    "Now, we need the select content of the rated movies, that we will need to compute the features that our model will use. We do it by selecting the rows from our *movies_df* dataframe having a *item* that is in the list of *item* of the *selected_user_ratings* Dataframe, which only contains the evaluations of the considered user. We do this using the [isin](https://pandas.pydata.org/docs/reference/api/pandas.Series.isin.html) method. Since the *item* is the index in the *movies_df* Dataframe, we can select directly pass the list of *item* we want to select to *loc*, and it will return the rows for which the index is in the considered list. Finally, we only select the columns *title* and *plot*."
   ]
  },
  {
   "cell_type": "code",
   "execution_count": 16,
   "id": "b107e4f0",
   "metadata": {},
   "outputs": [
    {
     "name": "stdout",
     "output_type": "stream",
     "text": [
      "Rated movies: 1738\n"
     ]
    },
    {
     "data": {
      "text/html": [
       "<div>\n",
       "<style scoped>\n",
       "    .dataframe tbody tr th:only-of-type {\n",
       "        vertical-align: middle;\n",
       "    }\n",
       "\n",
       "    .dataframe tbody tr th {\n",
       "        vertical-align: top;\n",
       "    }\n",
       "\n",
       "    .dataframe thead th {\n",
       "        text-align: right;\n",
       "    }\n",
       "</style>\n",
       "<table border=\"1\" class=\"dataframe\">\n",
       "  <thead>\n",
       "    <tr style=\"text-align: right;\">\n",
       "      <th></th>\n",
       "      <th>title</th>\n",
       "      <th>plot</th>\n",
       "    </tr>\n",
       "    <tr>\n",
       "      <th>item</th>\n",
       "      <th></th>\n",
       "      <th></th>\n",
       "    </tr>\n",
       "  </thead>\n",
       "  <tbody>\n",
       "    <tr>\n",
       "      <th>1</th>\n",
       "      <td>toy story</td>\n",
       "      <td>In a world where toys are living things who pr...</td>\n",
       "    </tr>\n",
       "    <tr>\n",
       "      <th>2</th>\n",
       "      <td>jumanji</td>\n",
       "      <td>In 1869, near Brantford, New Hampshire, two br...</td>\n",
       "    </tr>\n",
       "    <tr>\n",
       "      <th>3</th>\n",
       "      <td>grumpier old men</td>\n",
       "      <td>The feud between Max (Walter Matthau) and John...</td>\n",
       "    </tr>\n",
       "    <tr>\n",
       "      <th>5</th>\n",
       "      <td>father of the bride part ii</td>\n",
       "      <td>The film begins five years after the events of...</td>\n",
       "    </tr>\n",
       "    <tr>\n",
       "      <th>6</th>\n",
       "      <td>heat</td>\n",
       "      <td>Neil McCauley, a career criminal, hires Waingr...</td>\n",
       "    </tr>\n",
       "    <tr>\n",
       "      <th>7</th>\n",
       "      <td>sabrina</td>\n",
       "      <td>Sabrina Fairchild is the young daughter of the...</td>\n",
       "    </tr>\n",
       "    <tr>\n",
       "      <th>8</th>\n",
       "      <td>tom and huck</td>\n",
       "      <td>The movie opens with Injun Joe (Eric Schweig) ...</td>\n",
       "    </tr>\n",
       "    <tr>\n",
       "      <th>10</th>\n",
       "      <td>goldeneye</td>\n",
       "      <td>In 1986, at Arkhangelsk, MI6 agents James Bond...</td>\n",
       "    </tr>\n",
       "    <tr>\n",
       "      <th>15</th>\n",
       "      <td>cutthroat island</td>\n",
       "      <td>In 1668 Jamaica, Morgan Adams hunts down her u...</td>\n",
       "    </tr>\n",
       "    <tr>\n",
       "      <th>16</th>\n",
       "      <td>casino</td>\n",
       "      <td>In 1973, sports handicapper and Mafia associat...</td>\n",
       "    </tr>\n",
       "  </tbody>\n",
       "</table>\n",
       "</div>"
      ],
      "text/plain": [
       "                            title  \\\n",
       "item                                \n",
       "1                       toy story   \n",
       "2                         jumanji   \n",
       "3                grumpier old men   \n",
       "5     father of the bride part ii   \n",
       "6                            heat   \n",
       "7                         sabrina   \n",
       "8                    tom and huck   \n",
       "10                      goldeneye   \n",
       "15               cutthroat island   \n",
       "16                         casino   \n",
       "\n",
       "                                                   plot  \n",
       "item                                                     \n",
       "1     In a world where toys are living things who pr...  \n",
       "2     In 1869, near Brantford, New Hampshire, two br...  \n",
       "3     The feud between Max (Walter Matthau) and John...  \n",
       "5     The film begins five years after the events of...  \n",
       "6     Neil McCauley, a career criminal, hires Waingr...  \n",
       "7     Sabrina Fairchild is the young daughter of the...  \n",
       "8     The movie opens with Injun Joe (Eric Schweig) ...  \n",
       "10    In 1986, at Arkhangelsk, MI6 agents James Bond...  \n",
       "15    In 1668 Jamaica, Morgan Adams hunts down her u...  \n",
       "16    In 1973, sports handicapper and Mafia associat...  "
      ]
     },
     "metadata": {},
     "output_type": "display_data"
    }
   ],
   "source": [
    "rated_movies_df = movies_df.loc[list(selected_user_ratings['item'])]\n",
    "rated_movies_df = rated_movies_df[['title', 'plot']]\n",
    "print(\"Rated movies: \" + str(rated_movies_df.shape[0]))\n",
    "display(rated_movies_df.head(10))"
   ]
  },
  {
   "cell_type": "markdown",
   "id": "32a9e9cd",
   "metadata": {},
   "source": [
    "We use a similar approach to select the unrated movies. We compute the set of movies index that are not rated using the set subtraction operator. We access the index of the *movies_df* and the *rated_movies_df* Dataframes, create two sets containing such indexes, compute the difference set *diff*, and select the movies having an  index in the *diff* set."
   ]
  },
  {
   "cell_type": "code",
   "execution_count": 17,
   "id": "815b1e8a",
   "metadata": {},
   "outputs": [
    {
     "name": "stdout",
     "output_type": "stream",
     "text": [
      "Unrated movies: 2895\n"
     ]
    },
    {
     "name": "stderr",
     "output_type": "stream",
     "text": [
      "<ipython-input-17-209a49fb22e2>:2: FutureWarning: Passing a set as an indexer is deprecated and will raise in a future version. Use a list instead.\n",
      "  unrated_movies_df = movies_df.loc[diff]\n"
     ]
    },
    {
     "data": {
      "text/html": [
       "<div>\n",
       "<style scoped>\n",
       "    .dataframe tbody tr th:only-of-type {\n",
       "        vertical-align: middle;\n",
       "    }\n",
       "\n",
       "    .dataframe tbody tr th {\n",
       "        vertical-align: top;\n",
       "    }\n",
       "\n",
       "    .dataframe thead th {\n",
       "        text-align: right;\n",
       "    }\n",
       "</style>\n",
       "<table border=\"1\" class=\"dataframe\">\n",
       "  <thead>\n",
       "    <tr style=\"text-align: right;\">\n",
       "      <th></th>\n",
       "      <th>title</th>\n",
       "      <th>plot</th>\n",
       "    </tr>\n",
       "    <tr>\n",
       "      <th>item</th>\n",
       "      <th></th>\n",
       "      <th></th>\n",
       "    </tr>\n",
       "  </thead>\n",
       "  <tbody>\n",
       "    <tr>\n",
       "      <th>4</th>\n",
       "      <td>waiting to exhale</td>\n",
       "      <td>\"Friends are the People who let you be yoursel...</td>\n",
       "    </tr>\n",
       "    <tr>\n",
       "      <th>8196</th>\n",
       "      <td>beyond the valley of the dolls</td>\n",
       "      <td>Three young women—Kelly MacNamara, Casey Ander...</td>\n",
       "    </tr>\n",
       "    <tr>\n",
       "      <th>8197</th>\n",
       "      <td>hiroshima mon amour</td>\n",
       "      <td>Hiroshima mon amour concerns a series of conve...</td>\n",
       "    </tr>\n",
       "    <tr>\n",
       "      <th>122884</th>\n",
       "      <td>insidious: chapter 3</td>\n",
       "      <td>Several years before The Lambert Haunting, ret...</td>\n",
       "    </tr>\n",
       "    <tr>\n",
       "      <th>180231</th>\n",
       "      <td>daddy's home 2</td>\n",
       "      <td>After finally becoming friends at the end of t...</td>\n",
       "    </tr>\n",
       "    <tr>\n",
       "      <th>9</th>\n",
       "      <td>sudden death</td>\n",
       "      <td>Darren McCord (Jean-Claude Van Damme) is a Fre...</td>\n",
       "    </tr>\n",
       "    <tr>\n",
       "      <th>122890</th>\n",
       "      <td>warcraft</td>\n",
       "      <td>Draenor, the homeworld of the orcs, is being t...</td>\n",
       "    </tr>\n",
       "    <tr>\n",
       "      <th>155659</th>\n",
       "      <td>florence foster jenkins</td>\n",
       "      <td>Florence Foster Jenkins (Meryl Streep) is a Ne...</td>\n",
       "    </tr>\n",
       "    <tr>\n",
       "      <th>12</th>\n",
       "      <td>dracula: dead and loving it</td>\n",
       "      <td>Solicitor Thomas Renfield travels all the way ...</td>\n",
       "    </tr>\n",
       "    <tr>\n",
       "      <th>13</th>\n",
       "      <td>balto</td>\n",
       "      <td>In New York City, an elderly woman, her grandd...</td>\n",
       "    </tr>\n",
       "  </tbody>\n",
       "</table>\n",
       "</div>"
      ],
      "text/plain": [
       "                                 title  \\\n",
       "item                                     \n",
       "4                    waiting to exhale   \n",
       "8196    beyond the valley of the dolls   \n",
       "8197               hiroshima mon amour   \n",
       "122884            insidious: chapter 3   \n",
       "180231                  daddy's home 2   \n",
       "9                         sudden death   \n",
       "122890                        warcraft   \n",
       "155659         florence foster jenkins   \n",
       "12         dracula: dead and loving it   \n",
       "13                               balto   \n",
       "\n",
       "                                                     plot  \n",
       "item                                                       \n",
       "4       \"Friends are the People who let you be yoursel...  \n",
       "8196    Three young women—Kelly MacNamara, Casey Ander...  \n",
       "8197    Hiroshima mon amour concerns a series of conve...  \n",
       "122884  Several years before The Lambert Haunting, ret...  \n",
       "180231  After finally becoming friends at the end of t...  \n",
       "9       Darren McCord (Jean-Claude Van Damme) is a Fre...  \n",
       "122890  Draenor, the homeworld of the orcs, is being t...  \n",
       "155659  Florence Foster Jenkins (Meryl Streep) is a Ne...  \n",
       "12      Solicitor Thomas Renfield travels all the way ...  \n",
       "13      In New York City, an elderly woman, her grandd...  "
      ]
     },
     "metadata": {},
     "output_type": "display_data"
    }
   ],
   "source": [
    "diff = set(movies_df.index) - set(rated_movies_df.index)\n",
    "unrated_movies_df = movies_df.loc[diff]\n",
    "unrated_movies_df = unrated_movies_df[['title', 'plot']]\n",
    "print(\"Unrated movies: \" + str(unrated_movies_df.shape[0]))\n",
    "display(unrated_movies_df.head(10))"
   ]
  },
  {
   "cell_type": "markdown",
   "id": "986f6f74",
   "metadata": {},
   "source": [
    "Finally, we can add the rating so that we just need to work with a single Dataframe. We do it using the *join* method. We specify the *item* as idex in the *selected_user_ratings* Dataframe to procede with the join. The we select the *rating* column."
   ]
  },
  {
   "cell_type": "code",
   "execution_count": 18,
   "id": "5fd46bd0",
   "metadata": {},
   "outputs": [
    {
     "name": "stdout",
     "output_type": "stream",
     "text": [
      "Rated movies: 1738\n"
     ]
    },
    {
     "data": {
      "text/html": [
       "<div>\n",
       "<style scoped>\n",
       "    .dataframe tbody tr th:only-of-type {\n",
       "        vertical-align: middle;\n",
       "    }\n",
       "\n",
       "    .dataframe tbody tr th {\n",
       "        vertical-align: top;\n",
       "    }\n",
       "\n",
       "    .dataframe thead th {\n",
       "        text-align: right;\n",
       "    }\n",
       "</style>\n",
       "<table border=\"1\" class=\"dataframe\">\n",
       "  <thead>\n",
       "    <tr style=\"text-align: right;\">\n",
       "      <th></th>\n",
       "      <th>title</th>\n",
       "      <th>plot</th>\n",
       "      <th>rating</th>\n",
       "    </tr>\n",
       "    <tr>\n",
       "      <th>item</th>\n",
       "      <th></th>\n",
       "      <th></th>\n",
       "      <th></th>\n",
       "    </tr>\n",
       "  </thead>\n",
       "  <tbody>\n",
       "    <tr>\n",
       "      <th>1</th>\n",
       "      <td>toy story</td>\n",
       "      <td>In a world where toys are living things who pr...</td>\n",
       "      <td>4.0</td>\n",
       "    </tr>\n",
       "    <tr>\n",
       "      <th>2</th>\n",
       "      <td>jumanji</td>\n",
       "      <td>In 1869, near Brantford, New Hampshire, two br...</td>\n",
       "      <td>3.0</td>\n",
       "    </tr>\n",
       "    <tr>\n",
       "      <th>3</th>\n",
       "      <td>grumpier old men</td>\n",
       "      <td>The feud between Max (Walter Matthau) and John...</td>\n",
       "      <td>4.0</td>\n",
       "    </tr>\n",
       "    <tr>\n",
       "      <th>5</th>\n",
       "      <td>father of the bride part ii</td>\n",
       "      <td>The film begins five years after the events of...</td>\n",
       "      <td>2.0</td>\n",
       "    </tr>\n",
       "    <tr>\n",
       "      <th>6</th>\n",
       "      <td>heat</td>\n",
       "      <td>Neil McCauley, a career criminal, hires Waingr...</td>\n",
       "      <td>3.0</td>\n",
       "    </tr>\n",
       "    <tr>\n",
       "      <th>7</th>\n",
       "      <td>sabrina</td>\n",
       "      <td>Sabrina Fairchild is the young daughter of the...</td>\n",
       "      <td>3.0</td>\n",
       "    </tr>\n",
       "    <tr>\n",
       "      <th>8</th>\n",
       "      <td>tom and huck</td>\n",
       "      <td>The movie opens with Injun Joe (Eric Schweig) ...</td>\n",
       "      <td>3.0</td>\n",
       "    </tr>\n",
       "    <tr>\n",
       "      <th>10</th>\n",
       "      <td>goldeneye</td>\n",
       "      <td>In 1986, at Arkhangelsk, MI6 agents James Bond...</td>\n",
       "      <td>3.0</td>\n",
       "    </tr>\n",
       "    <tr>\n",
       "      <th>15</th>\n",
       "      <td>cutthroat island</td>\n",
       "      <td>In 1668 Jamaica, Morgan Adams hunts down her u...</td>\n",
       "      <td>2.0</td>\n",
       "    </tr>\n",
       "    <tr>\n",
       "      <th>16</th>\n",
       "      <td>casino</td>\n",
       "      <td>In 1973, sports handicapper and Mafia associat...</td>\n",
       "      <td>3.0</td>\n",
       "    </tr>\n",
       "  </tbody>\n",
       "</table>\n",
       "</div>"
      ],
      "text/plain": [
       "                            title  \\\n",
       "item                                \n",
       "1                       toy story   \n",
       "2                         jumanji   \n",
       "3                grumpier old men   \n",
       "5     father of the bride part ii   \n",
       "6                            heat   \n",
       "7                         sabrina   \n",
       "8                    tom and huck   \n",
       "10                      goldeneye   \n",
       "15               cutthroat island   \n",
       "16                         casino   \n",
       "\n",
       "                                                   plot  rating  \n",
       "item                                                             \n",
       "1     In a world where toys are living things who pr...     4.0  \n",
       "2     In 1869, near Brantford, New Hampshire, two br...     3.0  \n",
       "3     The feud between Max (Walter Matthau) and John...     4.0  \n",
       "5     The film begins five years after the events of...     2.0  \n",
       "6     Neil McCauley, a career criminal, hires Waingr...     3.0  \n",
       "7     Sabrina Fairchild is the young daughter of the...     3.0  \n",
       "8     The movie opens with Injun Joe (Eric Schweig) ...     3.0  \n",
       "10    In 1986, at Arkhangelsk, MI6 agents James Bond...     3.0  \n",
       "15    In 1668 Jamaica, Morgan Adams hunts down her u...     2.0  \n",
       "16    In 1973, sports handicapper and Mafia associat...     3.0  "
      ]
     },
     "metadata": {},
     "output_type": "display_data"
    }
   ],
   "source": [
    "rated_movies_df = rated_movies_df.join(selected_user_ratings.set_index('item')['rating'], on='item')\n",
    "print(\"Rated movies: \" + str(rated_movies_df.shape[0]))\n",
    "display(rated_movies_df.head(10))"
   ]
  },
  {
   "cell_type": "markdown",
   "id": "1efb4456",
   "metadata": {},
   "source": [
    "Now, we have all the data we need to train a content based recomemnder system for our user."
   ]
  },
  {
   "cell_type": "markdown",
   "id": "1f628b40",
   "metadata": {},
   "source": [
    "##### 4.3 Compute a feature representation for the movie's contents (TF-IDF)\n",
    "\n",
    "We will use the well-known pythion library [sklearn](https://scikit-learn.org/stable/) to train our recommender. First, we need to extract features from our content (the plots of the movies). Remember that we need a vector representing each document, in order to compare them. We use the TF-IDF model, hance we will use the [TfidfVectorizer](https://scikit-learn.org/stable/modules/generated/sklearn.feature_extraction.text.TfidfVectorizer.html) class, which allows us to easily compute TF-IDF vectors for our movies. We need to instantiate the a *TfidfVectorizer* object, and then we need to use the [fit_transform](https://scikit-learn.org/stable/modules/generated/sklearn.feature_extraction.text.TfidfVectorizer.html#sklearn.feature_extraction.text.TfidfVectorizer.fit_transform) method. The method fits (trains) the features model, and then transform our data, returning the TF-IDF matrix representation. We use the [shape](https://numpy.org/doc/stable/reference/generated/numpy.ndarray.shape.html#numpy.ndarray.shape) attribute of the matrix to check the dimensions of our features matrix."
   ]
  },
  {
   "cell_type": "code",
   "execution_count": 19,
   "id": "44b0a9e7",
   "metadata": {},
   "outputs": [
    {
     "name": "stdout",
     "output_type": "stream",
     "text": [
      "(1738, 38016)\n"
     ]
    }
   ],
   "source": [
    "import sklearn\n",
    "from sklearn.feature_extraction.text import TfidfVectorizer\n",
    "\n",
    "vectorizer = TfidfVectorizer()\n",
    "X = vectorizer.fit_transform(rated_movies_df['plot'])\n",
    "print(X.shape)"
   ]
  },
  {
   "cell_type": "markdown",
   "id": "50fe3396",
   "metadata": {},
   "source": [
    "##### 4.4 Train a regressor, computing of the predicted ratings for unrated movies, and recommending the movies with higher predicted ratings\n",
    "\n",
    "Now, we have our features. In this example, we will train a regressor, that is able to determine, for each unrated movie, an extimation of the rating that the user would assign to it. Of course, we could use a different approach, treating the problem as a classification problem. In that case, we would need to transform our ratings to obtain labels. We will see that later today. Now, for simplicity, we will work with the ratings. \n",
    "\n",
    "For the regressor, we will use the [KNeighborsRegressor](https://scikit-learn.org/stable/modules/generated/sklearn.neighbors.KNeighborsRegressor.html) class of the sklearn library. We need to create an instance of *KNeighborsRegressor*. Remember that the KNN algorithm uses the similarity between items to compute the predictions. In the case of regression, the rating assigned to new item is computed based on the mean of the ratings of its nearest neighbors.\n",
    "\n",
    "In the constructor, we specify the number of neighbors to use. We set it at 5. Finally, we can train our model, using the [fit](https://scikit-learn.org/stable/modules/generated/sklearn.neighbors.KNeighborsRegressor.html#sklearn.neighbors.KNeighborsRegressor.fit) method, passing as arguments the features matrix *X* and the corresponding ratings vector *y*."
   ]
  },
  {
   "cell_type": "code",
   "execution_count": 20,
   "id": "dec5f0aa",
   "metadata": {},
   "outputs": [
    {
     "data": {
      "text/plain": [
       "KNeighborsRegressor()"
      ]
     },
     "execution_count": 20,
     "metadata": {},
     "output_type": "execute_result"
    }
   ],
   "source": [
    "from sklearn.neighbors import KNeighborsRegressor\n",
    "\n",
    "y = rated_movies_df['rating']\n",
    "neigh = KNeighborsRegressor(n_neighbors=5)\n",
    "neigh.fit(X, y)"
   ]
  },
  {
   "cell_type": "markdown",
   "id": "b944a0af",
   "metadata": {},
   "source": [
    "We can now use the trained model to compute our recommendations. First, we need to extract the features from our unrated movies plots. We can do it using the previously trained *TfidfVectorizer* *vectorizer*, passing to its method [transform](https://scikit-learn.org/stable/modules/generated/sklearn.feature_extraction.text.TfidfVectorizer.html#sklearn.feature_extraction.text.TfidfVectorizer.transform) the *Plot* column if the *unrated_movies* Dataframe. \n",
    "\n",
    "Then, we use the trained *KNeighborsRegressor* *neigh*, passing the features matrix of the unrated movies *x_unrated* to its [predict](https://scikit-learn.org/stable/modules/generated/sklearn.neighbors.KNeighborsRegressor.html#sklearn.neighbors.KNeighborsRegressor.predict) method, determining the predicted ratings *y_unrated*."
   ]
  },
  {
   "cell_type": "code",
   "execution_count": 21,
   "id": "d6744747",
   "metadata": {},
   "outputs": [
    {
     "name": "stdout",
     "output_type": "stream",
     "text": [
      "(2895, 38016)\n",
      "(2895,)\n"
     ]
    }
   ],
   "source": [
    "X_unrated = vectorizer.transform(unrated_movies_df['plot'])\n",
    "print(X_unrated.shape)\n",
    "y_unrated = neigh.predict(X_unrated)\n",
    "print(y_unrated.shape)"
   ]
  },
  {
   "cell_type": "markdown",
   "id": "c6eea7f0",
   "metadata": {},
   "source": [
    "Finally, we can combine the predicted ratings with the information in the unrated_movies Dataframe, order the movies by predicted ratings, and determine the best 10 movies to recommend to the user."
   ]
  },
  {
   "cell_type": "code",
   "execution_count": 22,
   "id": "f28ffa6b",
   "metadata": {},
   "outputs": [
    {
     "data": {
      "text/html": [
       "<div>\n",
       "<style scoped>\n",
       "    .dataframe tbody tr th:only-of-type {\n",
       "        vertical-align: middle;\n",
       "    }\n",
       "\n",
       "    .dataframe tbody tr th {\n",
       "        vertical-align: top;\n",
       "    }\n",
       "\n",
       "    .dataframe thead th {\n",
       "        text-align: right;\n",
       "    }\n",
       "</style>\n",
       "<table border=\"1\" class=\"dataframe\">\n",
       "  <thead>\n",
       "    <tr style=\"text-align: right;\">\n",
       "      <th></th>\n",
       "      <th>title</th>\n",
       "      <th>plot</th>\n",
       "      <th>predicted_ratings_KNN</th>\n",
       "    </tr>\n",
       "    <tr>\n",
       "      <th>item</th>\n",
       "      <th></th>\n",
       "      <th></th>\n",
       "      <th></th>\n",
       "    </tr>\n",
       "  </thead>\n",
       "  <tbody>\n",
       "    <tr>\n",
       "      <th>4255</th>\n",
       "      <td>freddy got fingered</td>\n",
       "      <td>Unemployed 28-year-old cartoonist Gordon \"Gord...</td>\n",
       "      <td>4.6</td>\n",
       "    </tr>\n",
       "    <tr>\n",
       "      <th>111617</th>\n",
       "      <td>blended</td>\n",
       "      <td>Divorcee Lauren Reynolds goes on a blind date ...</td>\n",
       "      <td>4.6</td>\n",
       "    </tr>\n",
       "    <tr>\n",
       "      <th>51933</th>\n",
       "      <td>pride</td>\n",
       "      <td>It is 1974 and life is not easy for a black ma...</td>\n",
       "      <td>4.6</td>\n",
       "    </tr>\n",
       "    <tr>\n",
       "      <th>3628</th>\n",
       "      <td>flying tigers</td>\n",
       "      <td>Jim Gordon (John Wayne in his first war film) ...</td>\n",
       "      <td>4.6</td>\n",
       "    </tr>\n",
       "    <tr>\n",
       "      <th>155820</th>\n",
       "      <td>keanu</td>\n",
       "      <td>Smoke and Oil Dresden (Jordan Peele and Keegan...</td>\n",
       "      <td>4.6</td>\n",
       "    </tr>\n",
       "    <tr>\n",
       "      <th>170945</th>\n",
       "      <td>it comes at night</td>\n",
       "      <td>A highly contagious outbreak has ravaged the w...</td>\n",
       "      <td>4.5</td>\n",
       "    </tr>\n",
       "    <tr>\n",
       "      <th>5189</th>\n",
       "      <td>humanoids from the deep</td>\n",
       "      <td>Anglers from the fishing village of Noyo, Cali...</td>\n",
       "      <td>4.4</td>\n",
       "    </tr>\n",
       "    <tr>\n",
       "      <th>243</th>\n",
       "      <td>gordy</td>\n",
       "      <td>A piglet named Gordy lives a happy life on Mea...</td>\n",
       "      <td>4.4</td>\n",
       "    </tr>\n",
       "    <tr>\n",
       "      <th>101739</th>\n",
       "      <td>evil dead</td>\n",
       "      <td>In the woods, several men capture a frightened...</td>\n",
       "      <td>4.4</td>\n",
       "    </tr>\n",
       "    <tr>\n",
       "      <th>44759</th>\n",
       "      <td>basic instinct 2</td>\n",
       "      <td>Set in London, the film opens with American be...</td>\n",
       "      <td>4.3</td>\n",
       "    </tr>\n",
       "  </tbody>\n",
       "</table>\n",
       "</div>"
      ],
      "text/plain": [
       "                          title  \\\n",
       "item                              \n",
       "4255        freddy got fingered   \n",
       "111617                  blended   \n",
       "51933                     pride   \n",
       "3628              flying tigers   \n",
       "155820                    keanu   \n",
       "170945        it comes at night   \n",
       "5189    humanoids from the deep   \n",
       "243                       gordy   \n",
       "101739                evil dead   \n",
       "44759          basic instinct 2   \n",
       "\n",
       "                                                     plot  \\\n",
       "item                                                        \n",
       "4255    Unemployed 28-year-old cartoonist Gordon \"Gord...   \n",
       "111617  Divorcee Lauren Reynolds goes on a blind date ...   \n",
       "51933   It is 1974 and life is not easy for a black ma...   \n",
       "3628    Jim Gordon (John Wayne in his first war film) ...   \n",
       "155820  Smoke and Oil Dresden (Jordan Peele and Keegan...   \n",
       "170945  A highly contagious outbreak has ravaged the w...   \n",
       "5189    Anglers from the fishing village of Noyo, Cali...   \n",
       "243     A piglet named Gordy lives a happy life on Mea...   \n",
       "101739  In the woods, several men capture a frightened...   \n",
       "44759   Set in London, the film opens with American be...   \n",
       "\n",
       "        predicted_ratings_KNN  \n",
       "item                           \n",
       "4255                      4.6  \n",
       "111617                    4.6  \n",
       "51933                     4.6  \n",
       "3628                      4.6  \n",
       "155820                    4.6  \n",
       "170945                    4.5  \n",
       "5189                      4.4  \n",
       "243                       4.4  \n",
       "101739                    4.4  \n",
       "44759                     4.3  "
      ]
     },
     "metadata": {},
     "output_type": "display_data"
    }
   ],
   "source": [
    "unrated_movies_df['predicted_ratings_KNN'] = y_unrated\n",
    "unrated_movies_df_KNN_ordering = unrated_movies_df.sort_values(by='predicted_ratings_KNN', ascending=False)\n",
    "display(unrated_movies_df_KNN_ordering.head(10))"
   ]
  },
  {
   "cell_type": "markdown",
   "id": "c011b9e6",
   "metadata": {},
   "source": [
    "#### EXERCISE\n",
    "\n",
    "Following the example above, implement a second content-based recommender system using the [SVR](http://scikit-learn.org/stable/modules/generated/sklearn.svm.SVR.html) regressor of the Sklearn library (use a *linear* kernel and the default hyperparameters)."
   ]
  },
  {
   "cell_type": "markdown",
   "id": "306c27bd",
   "metadata": {},
   "source": [
    "##### Solution"
   ]
  },
  {
   "cell_type": "code",
   "execution_count": null,
   "id": "6e621fbd",
   "metadata": {},
   "outputs": [],
   "source": []
  },
  {
   "cell_type": "markdown",
   "id": "bd013fbd",
   "metadata": {},
   "source": [
    "#### 5. Collaborative Filtering Recommender System\n",
    "\n",
    "As we highlighted in the lectures, content based approaches suffers from some limitations (do you remember some?). Collaborative filtering approaches use the \"wisdom of the crowd\" to recommend items, following the assumption that different users with similar tastes in the past, will probably have similar tastes in the future. Hence, without the need of external information, but only looking at the interactions of for similar users (or movies) we can predict the rating of an unseen movie for an user.\n",
    "\n",
    "Also, in this case, we will not implement the strategy, but we will use a library. In particular, we are going to use the [Lenskit](https://lkpy.readthedocs.io/en/stable/) library. Note that such library requires the python 3.6 version. We will focus on the user-user recommender, while, as exercise, you will have to use the item-item strategy."
   ]
  },
  {
   "cell_type": "markdown",
   "id": "9c17a536",
   "metadata": {},
   "source": [
    "##### 5.1 Collaborative user-user recommender with Lenskit\n",
    "\n",
    "We use the collaborative user algorithm [UserUser](https://lkpy.readthedocs.io/en/stable/knn.html#module-lenskit.algorithms.user_knn), that uses the nearest neighbors algorithm. The constructor takes as inputs the maximum and minumum number of neighbors to consider (we set them to 15 and 3). Then we use the [adapt](https://lkpy.readthedocs.io/en/stable/interfaces.html?highlight=Recommender#lenskit.Recommender.adapt) method of the [Recommender](https://lkpy.readthedocs.io/en/stable/interfaces.html?highlight=Recommender#lenskit.Recommender) class, to obtain a *Recommender* object. Then, we can use the [fit](https://lkpy.readthedocs.io/en/stable/interfaces.html?highlight=Recommender#lenskit.Algorithm.fit) method to train the model. "
   ]
  },
  {
   "cell_type": "code",
   "execution_count": 23,
   "id": "dec7be19",
   "metadata": {},
   "outputs": [
    {
     "name": "stderr",
     "output_type": "stream",
     "text": [
      "Numba is using threading layer omp - consider TBB\n",
      "found 1 potential runtime problems - see https://boi.st/lkpy-perf\n"
     ]
    },
    {
     "data": {
      "text/plain": [
       "<lenskit.algorithms.ranking.TopN at 0x17fa3f5ba90>"
      ]
     },
     "execution_count": 23,
     "metadata": {},
     "output_type": "execute_result"
    }
   ],
   "source": [
    "from lenskit.algorithms import Recommender\n",
    "from lenskit.algorithms.user_knn import UserUser\n",
    "\n",
    "# We use the collaborative user algorithm UserUser, that use the nearest neighbors \n",
    "num_recs = 10  # Number of recommendations to generate\n",
    "user_user = UserUser(15, min_nbrs=3)  # Minimum (3) and maximum (15) number of neighbors to consider\n",
    "recsys = Recommender.adapt(user_user)\n",
    "recsys.fit(ratings_df)"
   ]
  },
  {
   "cell_type": "markdown",
   "id": "ca46f217",
   "metadata": {},
   "source": [
    "Now, we can provide the recommendations for a specific user. Let's generate 10 recommendations for the user selected for the previous example. We use the [recommend](https://lkpy.readthedocs.io/en/stable/interfaces.html?highlight=Recommender#lenskit.Recommender.recommend) method of the *Recommender* class to generate the recommendations. Then, we add the title information and display the recommendations."
   ]
  },
  {
   "cell_type": "code",
   "execution_count": 24,
   "id": "0dd06768",
   "metadata": {},
   "outputs": [
    {
     "data": {
      "text/html": [
       "<div>\n",
       "<style scoped>\n",
       "    .dataframe tbody tr th:only-of-type {\n",
       "        vertical-align: middle;\n",
       "    }\n",
       "\n",
       "    .dataframe tbody tr th {\n",
       "        vertical-align: top;\n",
       "    }\n",
       "\n",
       "    .dataframe thead th {\n",
       "        text-align: right;\n",
       "    }\n",
       "</style>\n",
       "<table border=\"1\" class=\"dataframe\">\n",
       "  <thead>\n",
       "    <tr style=\"text-align: right;\">\n",
       "      <th></th>\n",
       "      <th>item</th>\n",
       "      <th>score</th>\n",
       "      <th>title</th>\n",
       "    </tr>\n",
       "  </thead>\n",
       "  <tbody>\n",
       "    <tr>\n",
       "      <th>0</th>\n",
       "      <td>7121</td>\n",
       "      <td>4.650066</td>\n",
       "      <td>adam's rib</td>\n",
       "    </tr>\n",
       "    <tr>\n",
       "      <th>1</th>\n",
       "      <td>3030</td>\n",
       "      <td>4.628392</td>\n",
       "      <td>yojimbo</td>\n",
       "    </tr>\n",
       "    <tr>\n",
       "      <th>2</th>\n",
       "      <td>5833</td>\n",
       "      <td>4.541522</td>\n",
       "      <td>dog soldiers</td>\n",
       "    </tr>\n",
       "    <tr>\n",
       "      <th>3</th>\n",
       "      <td>4021</td>\n",
       "      <td>4.540886</td>\n",
       "      <td>before night falls</td>\n",
       "    </tr>\n",
       "    <tr>\n",
       "      <th>4</th>\n",
       "      <td>1236</td>\n",
       "      <td>4.531006</td>\n",
       "      <td>trust</td>\n",
       "    </tr>\n",
       "    <tr>\n",
       "      <th>5</th>\n",
       "      <td>3451</td>\n",
       "      <td>4.476842</td>\n",
       "      <td>guess who's coming to dinner</td>\n",
       "    </tr>\n",
       "    <tr>\n",
       "      <th>6</th>\n",
       "      <td>3925</td>\n",
       "      <td>4.466906</td>\n",
       "      <td>stranger than paradise</td>\n",
       "    </tr>\n",
       "    <tr>\n",
       "      <th>7</th>\n",
       "      <td>3494</td>\n",
       "      <td>4.444916</td>\n",
       "      <td>true grit</td>\n",
       "    </tr>\n",
       "    <tr>\n",
       "      <th>8</th>\n",
       "      <td>1411</td>\n",
       "      <td>4.440527</td>\n",
       "      <td>hamlet</td>\n",
       "    </tr>\n",
       "    <tr>\n",
       "      <th>9</th>\n",
       "      <td>7706</td>\n",
       "      <td>4.424440</td>\n",
       "      <td>animal crackers</td>\n",
       "    </tr>\n",
       "  </tbody>\n",
       "</table>\n",
       "</div>"
      ],
      "text/plain": [
       "   item     score                         title\n",
       "0  7121  4.650066                    adam's rib\n",
       "1  3030  4.628392                       yojimbo\n",
       "2  5833  4.541522                  dog soldiers\n",
       "3  4021  4.540886            before night falls\n",
       "4  1236  4.531006                         trust\n",
       "5  3451  4.476842  guess who's coming to dinner\n",
       "6  3925  4.466906        stranger than paradise\n",
       "7  3494  4.444916                     true grit\n",
       "8  1411  4.440527                        hamlet\n",
       "9  7706  4.424440               animal crackers"
      ]
     },
     "metadata": {},
     "output_type": "display_data"
    }
   ],
   "source": [
    "selected_movies_useruser = recsys.recommend(selected_user, 10) # generate 10 recommendations for the selected user \n",
    "selected_movies_useruser = selected_movies_useruser.join(movies_df['title'], on='item')\n",
    "display(selected_movies_useruser)"
   ]
  },
  {
   "cell_type": "markdown",
   "id": "ac697353",
   "metadata": {},
   "source": [
    "We can compare such recommendations with the one previously computed with the content based approach."
   ]
  },
  {
   "cell_type": "code",
   "execution_count": 25,
   "id": "58bd93bc",
   "metadata": {},
   "outputs": [
    {
     "data": {
      "text/html": [
       "<div>\n",
       "<style scoped>\n",
       "    .dataframe tbody tr th:only-of-type {\n",
       "        vertical-align: middle;\n",
       "    }\n",
       "\n",
       "    .dataframe tbody tr th {\n",
       "        vertical-align: top;\n",
       "    }\n",
       "\n",
       "    .dataframe thead th {\n",
       "        text-align: right;\n",
       "    }\n",
       "</style>\n",
       "<table border=\"1\" class=\"dataframe\">\n",
       "  <thead>\n",
       "    <tr style=\"text-align: right;\">\n",
       "      <th></th>\n",
       "      <th>title</th>\n",
       "      <th>plot</th>\n",
       "      <th>predicted_ratings_KNN</th>\n",
       "    </tr>\n",
       "    <tr>\n",
       "      <th>item</th>\n",
       "      <th></th>\n",
       "      <th></th>\n",
       "      <th></th>\n",
       "    </tr>\n",
       "  </thead>\n",
       "  <tbody>\n",
       "    <tr>\n",
       "      <th>4255</th>\n",
       "      <td>freddy got fingered</td>\n",
       "      <td>Unemployed 28-year-old cartoonist Gordon \"Gord...</td>\n",
       "      <td>4.6</td>\n",
       "    </tr>\n",
       "    <tr>\n",
       "      <th>111617</th>\n",
       "      <td>blended</td>\n",
       "      <td>Divorcee Lauren Reynolds goes on a blind date ...</td>\n",
       "      <td>4.6</td>\n",
       "    </tr>\n",
       "    <tr>\n",
       "      <th>51933</th>\n",
       "      <td>pride</td>\n",
       "      <td>It is 1974 and life is not easy for a black ma...</td>\n",
       "      <td>4.6</td>\n",
       "    </tr>\n",
       "    <tr>\n",
       "      <th>3628</th>\n",
       "      <td>flying tigers</td>\n",
       "      <td>Jim Gordon (John Wayne in his first war film) ...</td>\n",
       "      <td>4.6</td>\n",
       "    </tr>\n",
       "    <tr>\n",
       "      <th>155820</th>\n",
       "      <td>keanu</td>\n",
       "      <td>Smoke and Oil Dresden (Jordan Peele and Keegan...</td>\n",
       "      <td>4.6</td>\n",
       "    </tr>\n",
       "    <tr>\n",
       "      <th>170945</th>\n",
       "      <td>it comes at night</td>\n",
       "      <td>A highly contagious outbreak has ravaged the w...</td>\n",
       "      <td>4.5</td>\n",
       "    </tr>\n",
       "    <tr>\n",
       "      <th>5189</th>\n",
       "      <td>humanoids from the deep</td>\n",
       "      <td>Anglers from the fishing village of Noyo, Cali...</td>\n",
       "      <td>4.4</td>\n",
       "    </tr>\n",
       "    <tr>\n",
       "      <th>243</th>\n",
       "      <td>gordy</td>\n",
       "      <td>A piglet named Gordy lives a happy life on Mea...</td>\n",
       "      <td>4.4</td>\n",
       "    </tr>\n",
       "    <tr>\n",
       "      <th>101739</th>\n",
       "      <td>evil dead</td>\n",
       "      <td>In the woods, several men capture a frightened...</td>\n",
       "      <td>4.4</td>\n",
       "    </tr>\n",
       "    <tr>\n",
       "      <th>44759</th>\n",
       "      <td>basic instinct 2</td>\n",
       "      <td>Set in London, the film opens with American be...</td>\n",
       "      <td>4.3</td>\n",
       "    </tr>\n",
       "  </tbody>\n",
       "</table>\n",
       "</div>"
      ],
      "text/plain": [
       "                          title  \\\n",
       "item                              \n",
       "4255        freddy got fingered   \n",
       "111617                  blended   \n",
       "51933                     pride   \n",
       "3628              flying tigers   \n",
       "155820                    keanu   \n",
       "170945        it comes at night   \n",
       "5189    humanoids from the deep   \n",
       "243                       gordy   \n",
       "101739                evil dead   \n",
       "44759          basic instinct 2   \n",
       "\n",
       "                                                     plot  \\\n",
       "item                                                        \n",
       "4255    Unemployed 28-year-old cartoonist Gordon \"Gord...   \n",
       "111617  Divorcee Lauren Reynolds goes on a blind date ...   \n",
       "51933   It is 1974 and life is not easy for a black ma...   \n",
       "3628    Jim Gordon (John Wayne in his first war film) ...   \n",
       "155820  Smoke and Oil Dresden (Jordan Peele and Keegan...   \n",
       "170945  A highly contagious outbreak has ravaged the w...   \n",
       "5189    Anglers from the fishing village of Noyo, Cali...   \n",
       "243     A piglet named Gordy lives a happy life on Mea...   \n",
       "101739  In the woods, several men capture a frightened...   \n",
       "44759   Set in London, the film opens with American be...   \n",
       "\n",
       "        predicted_ratings_KNN  \n",
       "item                           \n",
       "4255                      4.6  \n",
       "111617                    4.6  \n",
       "51933                     4.6  \n",
       "3628                      4.6  \n",
       "155820                    4.6  \n",
       "170945                    4.5  \n",
       "5189                      4.4  \n",
       "243                       4.4  \n",
       "101739                    4.4  \n",
       "44759                     4.3  "
      ]
     },
     "metadata": {},
     "output_type": "display_data"
    }
   ],
   "source": [
    "display(unrated_movies_df_KNN_ordering.head(10))"
   ]
  },
  {
   "cell_type": "markdown",
   "id": "1cd3ae43",
   "metadata": {},
   "source": [
    "#### EXERCISE\n",
    "\n",
    "Following the example above, implement a second collaborative filtering recommender system using the [ItemItem](https://lkpy.readthedocs.io/en/stable/knn.html#lenskit.algorithms.item_knn.ItemItem) collaborative user algorithm provided by the Sklearn library."
   ]
  },
  {
   "cell_type": "markdown",
   "id": "32fec201",
   "metadata": {},
   "source": [
    "##### Solution"
   ]
  },
  {
   "cell_type": "code",
   "execution_count": null,
   "id": "7c4f0136",
   "metadata": {},
   "outputs": [],
   "source": []
  },
  {
   "cell_type": "markdown",
   "id": "b3a80008",
   "metadata": {},
   "source": [
    "#### 6. Evaluation of Recommender Systems\n",
    "\n",
    "We have seen different approaches, but how can we evaluate the godness of the proposed recommendations? We are going to see now some examples, focusing on the two personalized approaches (content based and collaborative filtering).\n",
    "\n",
    "The content based recommender system is specific for each user; hence, we would need to evaluate a model for each user, and provide an average evaluation for the approach. On the contrary, the collaborative filtering recommender trains a single model for all the users. Hence, the evaluation procedure is a bit different, and we will see an example for each. \n",
    "\n",
    "In the examples, we will use the holdout evaluation strategy. As exercise you will have to implement a K-Fold evaluation.\n",
    "\n",
    "Furthermore, in the previous example, we estimated user's ratings on unseen movies, using a regressor. Now, we will see the problem as a classification problem. We will consider as relevant, for the user, all the movies rated higher than 3."
   ]
  },
  {
   "cell_type": "markdown",
   "id": "83338110",
   "metadata": {},
   "source": [
    "#### 6.1 Evaluation of a Content-based Recommender System\n",
    "\n",
    "We implemented our Content-based Recommender System using the lenskit library. The same library offers a wide range of tools to evaluate regressors and classifiers, that we will use (and describe). First, let's define a support function which allows us to select the information we need for a particular user."
   ]
  },
  {
   "cell_type": "markdown",
   "id": "1d9b0982",
   "metadata": {},
   "source": [
    "The function is called *get_user_rated_movies_plots* and takes as input the user, and the two Dataframe *ratings_df* and *plot_df*. It first selects the ratings of the considered user. Then, it selects the movies information for the movies evaluated by the user. Finally, it joins the information in a single Dataframe, and adds a column in which a relevance for each movie is computed, according to the correlated rating: if the user gave a rating higher than 3, the relevance is set to 1; on the contrary, the relevance is 0. \n",
    "\n",
    "To do this, we use the apply function of the Dataframe class (seen previously). In this case, since the operation to perform is easy, we don't define a function for it. Instead, we define a lambda function (you can see it as a small anonymous function). The lambda function is applied to each row of the dataframe on which the apply method is called. In this case, we call it on the *'rating'* column of the *rated_movies* Dataframe. Hence, x is the rating of a specific movie.\n",
    "\n",
    "The lambda function then computes the relevance value through a [ternary operator](https://book.pythontips.com/en/latest/ternary_operators.html)."
   ]
  },
  {
   "cell_type": "code",
   "execution_count": 26,
   "id": "b152726d",
   "metadata": {},
   "outputs": [],
   "source": [
    "def get_user_rated_movies_plots(user, ratings_df, movies_df):\n",
    "    \"\"\"\n",
    "    extract from the dataframe ratings_df the ratings of the user\n",
    "    \"\"\"\n",
    "    selected_user_ratings = ratings_df.loc[ratings_df['user'] == user] # select the ratings of the user\n",
    "    rated_movies_df = movies_df.loc[list(selected_user_ratings['item'])] # select the movie information for the movies rated by the user\n",
    "    rated_movies_df = rated_movies_df[['title', 'plot']] # select only the information we need\n",
    "    selected_user_ratings = selected_user_ratings.set_index('item') # set the index for the next join\n",
    "    rated_movies_df = rated_movies_df.join(selected_user_ratings['rating'], on='item') # join the two dataframes\n",
    "    rated_movies_df['relevant'] = rated_movies_df['rating'].apply(lambda x: 1 if x>3 else 0) # compute the relevance values for the user\n",
    "    return rated_movies_df"
   ]
  },
  {
   "cell_type": "markdown",
   "id": "e6f8ac13",
   "metadata": {},
   "source": [
    "We can test the function retrieving the information for the user selected for the previous evaluations"
   ]
  },
  {
   "cell_type": "code",
   "execution_count": 27,
   "id": "9c1f7e9c",
   "metadata": {},
   "outputs": [
    {
     "data": {
      "text/html": [
       "<div>\n",
       "<style scoped>\n",
       "    .dataframe tbody tr th:only-of-type {\n",
       "        vertical-align: middle;\n",
       "    }\n",
       "\n",
       "    .dataframe tbody tr th {\n",
       "        vertical-align: top;\n",
       "    }\n",
       "\n",
       "    .dataframe thead th {\n",
       "        text-align: right;\n",
       "    }\n",
       "</style>\n",
       "<table border=\"1\" class=\"dataframe\">\n",
       "  <thead>\n",
       "    <tr style=\"text-align: right;\">\n",
       "      <th></th>\n",
       "      <th>title</th>\n",
       "      <th>plot</th>\n",
       "      <th>rating</th>\n",
       "      <th>relevant</th>\n",
       "    </tr>\n",
       "    <tr>\n",
       "      <th>item</th>\n",
       "      <th></th>\n",
       "      <th></th>\n",
       "      <th></th>\n",
       "      <th></th>\n",
       "    </tr>\n",
       "  </thead>\n",
       "  <tbody>\n",
       "    <tr>\n",
       "      <th>1</th>\n",
       "      <td>toy story</td>\n",
       "      <td>In a world where toys are living things who pr...</td>\n",
       "      <td>4.0</td>\n",
       "      <td>1</td>\n",
       "    </tr>\n",
       "    <tr>\n",
       "      <th>2</th>\n",
       "      <td>jumanji</td>\n",
       "      <td>In 1869, near Brantford, New Hampshire, two br...</td>\n",
       "      <td>3.0</td>\n",
       "      <td>0</td>\n",
       "    </tr>\n",
       "    <tr>\n",
       "      <th>3</th>\n",
       "      <td>grumpier old men</td>\n",
       "      <td>The feud between Max (Walter Matthau) and John...</td>\n",
       "      <td>4.0</td>\n",
       "      <td>1</td>\n",
       "    </tr>\n",
       "    <tr>\n",
       "      <th>5</th>\n",
       "      <td>father of the bride part ii</td>\n",
       "      <td>The film begins five years after the events of...</td>\n",
       "      <td>2.0</td>\n",
       "      <td>0</td>\n",
       "    </tr>\n",
       "    <tr>\n",
       "      <th>6</th>\n",
       "      <td>heat</td>\n",
       "      <td>Neil McCauley, a career criminal, hires Waingr...</td>\n",
       "      <td>3.0</td>\n",
       "      <td>0</td>\n",
       "    </tr>\n",
       "    <tr>\n",
       "      <th>...</th>\n",
       "      <td>...</td>\n",
       "      <td>...</td>\n",
       "      <td>...</td>\n",
       "      <td>...</td>\n",
       "    </tr>\n",
       "    <tr>\n",
       "      <th>179819</th>\n",
       "      <td>star wars: the last jedi</td>\n",
       "      <td>Shortly after the battle of Starkiller Base,[N...</td>\n",
       "      <td>4.5</td>\n",
       "      <td>1</td>\n",
       "    </tr>\n",
       "    <tr>\n",
       "      <th>180031</th>\n",
       "      <td>the shape of water</td>\n",
       "      <td>Elisa Esposito, who was found in a river as an...</td>\n",
       "      <td>4.0</td>\n",
       "      <td>1</td>\n",
       "    </tr>\n",
       "    <tr>\n",
       "      <th>180045</th>\n",
       "      <td>molly's game</td>\n",
       "      <td>Molly Bloom is world-class mogul skier with Ol...</td>\n",
       "      <td>4.0</td>\n",
       "      <td>1</td>\n",
       "    </tr>\n",
       "    <tr>\n",
       "      <th>180497</th>\n",
       "      <td>the post</td>\n",
       "      <td>In 1966 Vietnam, State Department military ana...</td>\n",
       "      <td>4.0</td>\n",
       "      <td>1</td>\n",
       "    </tr>\n",
       "    <tr>\n",
       "      <th>180985</th>\n",
       "      <td>the greatest showman</td>\n",
       "      <td>P. T. Barnum and his troupe perform a show at ...</td>\n",
       "      <td>3.5</td>\n",
       "      <td>1</td>\n",
       "    </tr>\n",
       "  </tbody>\n",
       "</table>\n",
       "<p>1738 rows × 4 columns</p>\n",
       "</div>"
      ],
      "text/plain": [
       "                              title  \\\n",
       "item                                  \n",
       "1                         toy story   \n",
       "2                           jumanji   \n",
       "3                  grumpier old men   \n",
       "5       father of the bride part ii   \n",
       "6                              heat   \n",
       "...                             ...   \n",
       "179819     star wars: the last jedi   \n",
       "180031           the shape of water   \n",
       "180045                 molly's game   \n",
       "180497                     the post   \n",
       "180985         the greatest showman   \n",
       "\n",
       "                                                     plot  rating  relevant  \n",
       "item                                                                         \n",
       "1       In a world where toys are living things who pr...     4.0         1  \n",
       "2       In 1869, near Brantford, New Hampshire, two br...     3.0         0  \n",
       "3       The feud between Max (Walter Matthau) and John...     4.0         1  \n",
       "5       The film begins five years after the events of...     2.0         0  \n",
       "6       Neil McCauley, a career criminal, hires Waingr...     3.0         0  \n",
       "...                                                   ...     ...       ...  \n",
       "179819  Shortly after the battle of Starkiller Base,[N...     4.5         1  \n",
       "180031  Elisa Esposito, who was found in a river as an...     4.0         1  \n",
       "180045  Molly Bloom is world-class mogul skier with Ol...     4.0         1  \n",
       "180497  In 1966 Vietnam, State Department military ana...     4.0         1  \n",
       "180985  P. T. Barnum and his troupe perform a show at ...     3.5         1  \n",
       "\n",
       "[1738 rows x 4 columns]"
      ]
     },
     "metadata": {},
     "output_type": "display_data"
    }
   ],
   "source": [
    "user_plots_ratings_df = get_user_rated_movies_plots(selected_user, ratings_df, movies_df)\n",
    "display(user_plots_ratings_df)"
   ]
  },
  {
   "cell_type": "markdown",
   "id": "3a985d5c",
   "metadata": {},
   "source": [
    "Now, since we have a different recommender for each user, we need a function that evaluates the recommender for a specific user. We will use the [TfidfVectorizer](https://scikit-learn.org/stable/modules/generated/sklearn.feature_extraction.text.TfidfVectorizer.html) class from the sklearn library to compute the TD-IDF representations of the movies' plots, as we did before. But, since we are addressing the problem as a classification problem, we use the [KNeighborsClassifier](https://scikit-learn.org/stable/modules/generated/sklearn.neighbors.KNeighborsClassifier.html) instead of a regressor. \n",
    "\n",
    "Differently from the previous example, we want to evaluate the performances of our classifier, hence we need to test it on a set of movies for which we have the correct relevance for this user. In other words, we need to split the information we have about the user ratings in two sets:\n",
    "1. Training set: we will use this data to train our classifier.\n",
    "2. Test set: we will apply our classifier to this data and compare the predictions with the actual relevance values.\n",
    "\n",
    "To split the data we will use the [train_test_split](https://scikit-learn.org/stable/modules/generated/sklearn.model_selection.train_test_split.html) method, provided by the sklearn library.\n",
    "Finally, once we have the classifier predictions, we use the [precision_recall_fscore_support](https://scikit-learn.org/stable/modules/generated/sklearn.metrics.precision_recall_fscore_support.html) method, provided by the sklearn library, to compute the information retievalmetrics *precision*, *recall* and *fscore*. The function returns such values for the considered user."
   ]
  },
  {
   "cell_type": "code",
   "execution_count": 35,
   "id": "67eee67e",
   "metadata": {},
   "outputs": [],
   "source": [
    "from sklearn.feature_extraction.text import TfidfVectorizer\n",
    "from sklearn.neighbors import KNeighborsClassifier \n",
    "from sklearn.model_selection import train_test_split\n",
    "from sklearn.metrics import precision_recall_fscore_support\n",
    "\n",
    "def train_and_test_recsys_for_user(user):\n",
    "    user_plots_ratings_df = get_user_rated_movies_plots(user, ratings_df, movies_df) # retrieve user info with the previously defined method\n",
    "    \n",
    "    X_plots = user_plots_ratings_df['plot'] # select the Plot column, from which we will compute ourTF-IDF features\n",
    "    y = user_plots_ratings_df['relevant'] # select the elevant column, that will be used as label\n",
    "    \n",
    "    X_plots_train, X_plots_test, y_train, y_test = train_test_split(X_plots, y, test_size=0.2) # randomly splits the data in train and test, we specify that 20% of the data will go into the test set\n",
    "\n",
    "    vectorizer = TfidfVectorizer()\n",
    "    X_train = vectorizer.fit_transform(X_plots_train) # Trains our TF-IDF model and computes the features\n",
    "    \n",
    "    neigh = KNeighborsClassifier(n_neighbors=5)\n",
    "    neigh.fit(X_train, y_train) # train our cassifier\n",
    "    \n",
    "    X_test = vectorizer.transform(X_plots_test)\n",
    "    y_pred = neigh.predict(X_test) # evaluates the predictions of the classifier\n",
    "    \n",
    "    return precision_recall_fscore_support(y_test, y_pred, average=\"binary\", zero_division=0) # compare the real relevance values with the predicted one, and return precision, recall, and fscore"
   ]
  },
  {
   "cell_type": "markdown",
   "id": "c73e325a",
   "metadata": {},
   "source": [
    "We can test our method on the selected user. \n",
    "Note that the results are affected from the random split (you can check it by executing the method several times: the results change!)\n",
    "\n",
    "How can we obtain more reliable results?"
   ]
  },
  {
   "cell_type": "code",
   "execution_count": 36,
   "id": "66190806",
   "metadata": {},
   "outputs": [
    {
     "name": "stderr",
     "output_type": "stream",
     "text": [
      "C:\\Users\\Thom\\anaconda3\\lib\\site-packages\\sklearn\\neighbors\\_classification.py:211: FutureWarning: Unlike other reduction functions (e.g. `skew`, `kurtosis`), the default behavior of `mode` typically preserves the axis it acts along. In SciPy 1.11.0, this behavior will change: the default value of `keepdims` will become False, the `axis` over which the statistic is taken will be eliminated, and the value None will no longer be accepted. Set `keepdims` to True or False to avoid this warning.\n",
      "  mode, _ = stats.mode(_y[neigh_ind, k], axis=1)\n"
     ]
    },
    {
     "data": {
      "text/plain": [
       "(0.5257731958762887, 0.5730337078651685, 0.5483870967741935, None)"
      ]
     },
     "execution_count": 36,
     "metadata": {},
     "output_type": "execute_result"
    }
   ],
   "source": [
    "train_and_test_recsys_for_user(selected_user)\n"
   ]
  },
  {
   "cell_type": "markdown",
   "id": "97565446",
   "metadata": {},
   "source": [
    "However, we keep this example simple, and now we address the final problem: merging the results for all the customers.\n",
    "We will iterate over all the users and compute precision, recall and fscore values for the recommender for each specfic customer. For simplicity, we will exclude the customers for which we have less than 100 evaluations (what could be the problem for such users?).\n",
    "\n",
    "Finally, we compute at the end the means and standard deviations, and we print it."
   ]
  },
  {
   "cell_type": "code",
   "execution_count": 30,
   "id": "5c027df3",
   "metadata": {},
   "outputs": [
    {
     "name": "stdout",
     "output_type": "stream",
     "text": [
      "evaluating recommender on 610 users\n",
      "item\n",
      "1552    Honorably discharged Army Ranger Cameron Poe i...\n",
      "1060    Mike Peters is a struggling comedian who left ...\n",
      "923     In a mansion in Xanadu, a vast palatial estate...\n",
      "2858    Lester Burnham is a middle-aged office worker ...\n",
      "2291    An elderly woman tells her granddaughter the s...\n",
      "                              ...                        \n",
      "1377    In the prologue, socialites Tucker and Esther ...\n",
      "2641    Before the destruction of Krypton, the crimina...\n",
      "3439    One year after the events of the first film, a...\n",
      "2329    High school student Danny Vinyard receives an ...\n",
      "3578    In AD 180, Hispano-Roman General Maximus Decim...\n",
      "Name: plot, Length: 123, dtype: object\n"
     ]
    },
    {
     "name": "stderr",
     "output_type": "stream",
     "text": [
      "C:\\Users\\Thom\\anaconda3\\lib\\site-packages\\sklearn\\neighbors\\_classification.py:211: FutureWarning: Unlike other reduction functions (e.g. `skew`, `kurtosis`), the default behavior of `mode` typically preserves the axis it acts along. In SciPy 1.11.0, this behavior will change: the default value of `keepdims` will become False, the `axis` over which the statistic is taken will be eliminated, and the value None will no longer be accepted. Set `keepdims` to True or False to avoid this warning.\n",
      "  mode, _ = stats.mode(_y[neigh_ind, k], axis=1)\n",
      "C:\\Users\\Thom\\anaconda3\\lib\\site-packages\\sklearn\\neighbors\\_classification.py:211: FutureWarning: Unlike other reduction functions (e.g. `skew`, `kurtosis`), the default behavior of `mode` typically preserves the axis it acts along. In SciPy 1.11.0, this behavior will change: the default value of `keepdims` will become False, the `axis` over which the statistic is taken will be eliminated, and the value None will no longer be accepted. Set `keepdims` to True or False to avoid this warning.\n",
      "  mode, _ = stats.mode(_y[neigh_ind, k], axis=1)\n"
     ]
    },
    {
     "name": "stdout",
     "output_type": "stream",
     "text": [
      "item\n",
      "899     Don Lockwood (Gene Kelly) is a popular silent ...\n",
      "1188    Strictly Ballroom tells the story of an Austra...\n",
      "368     In the American Old West, gambler Bret Maveric...\n",
      "1704    Twenty-year-old Will Hunting of South Boston i...\n",
      "800     Sheriff Sam Deeds is the county sheriff in Fro...\n",
      "                              ...                        \n",
      "1517    In 1967, British spy Austin Powers thwarts an ...\n",
      "4765    Howie Blitzer is deeply affected by the death ...\n",
      "21      Chili Palmer, a loan shark based in Miami, cla...\n",
      "319     Chartered accountant David Stephens, physician...\n",
      "902     Early one morning, a taxi pulls up at Tiffany ...\n",
      "Name: plot, Length: 104, dtype: object\n",
      "item\n",
      "426     Steve Malone, an agent from the Environmental ...\n",
      "339     Lucy Eleanor Moderatz (Sandra Bullock) is a lo...\n",
      "415     Luella Delano (Cathy Moriarty), a witness agai...\n",
      "867     Workaholic advertising executive of Bauer & Co...\n",
      "1061    Lorenzo \"Shakes\" Carcaterra, Tommy Marcano, Mi...\n",
      "                              ...                        \n",
      "524     In the late 1960s, Daniel Eugene \"Rudy\" Ruetti...\n",
      "222     Set in 1950s Ireland, the film focuses on the ...\n",
      "516     Bill Rago (DeVito) is a divorced advertising e...\n",
      "171     The story takes place in Manhattan during the ...\n",
      "497     Having just crushed an uprising by his half-br...\n",
      "Name: plot, Length: 170, dtype: object\n"
     ]
    },
    {
     "name": "stderr",
     "output_type": "stream",
     "text": [
      "C:\\Users\\Thom\\anaconda3\\lib\\site-packages\\sklearn\\neighbors\\_classification.py:211: FutureWarning: Unlike other reduction functions (e.g. `skew`, `kurtosis`), the default behavior of `mode` typically preserves the axis it acts along. In SciPy 1.11.0, this behavior will change: the default value of `keepdims` will become False, the `axis` over which the statistic is taken will be eliminated, and the value None will no longer be accepted. Set `keepdims` to True or False to avoid this warning.\n",
      "  mode, _ = stats.mode(_y[neigh_ind, k], axis=1)\n"
     ]
    },
    {
     "name": "stdout",
     "output_type": "stream",
     "text": [
      "item\n",
      "4239     A young George Jung and his parents Fred and E...\n",
      "86190    Hanna Heller is a fifteen-year-old girl who li...\n",
      "4011     After stealing an 86-carat (17.2 g) diamond in...\n",
      "6333     At the White House, brainwashed teleporting mu...\n",
      "72011    Ryan Bingham works for a Human Resources consu...\n",
      "                               ...                        \n",
      "79132    Dominick \"Dom\" Cobb and Arthur are \"extractors...\n",
      "7373     In 1944, with the help of Russian mystic Grigo...\n",
      "5120     Andrew Wyke, a successful writer of crime fict...\n",
      "628      Martin Vail (Richard Gere) is a Chicago defens...\n",
      "31685    Alex \"Hitch\" Hitchens (Will Smith) is a profes...\n",
      "Name: plot, Length: 256, dtype: object\n"
     ]
    },
    {
     "name": "stderr",
     "output_type": "stream",
     "text": [
      "C:\\Users\\Thom\\anaconda3\\lib\\site-packages\\sklearn\\neighbors\\_classification.py:211: FutureWarning: Unlike other reduction functions (e.g. `skew`, `kurtosis`), the default behavior of `mode` typically preserves the axis it acts along. In SciPy 1.11.0, this behavior will change: the default value of `keepdims` will become False, the `axis` over which the statistic is taken will be eliminated, and the value None will no longer be accepted. Set `keepdims` to True or False to avoid this warning.\n",
      "  mode, _ = stats.mode(_y[neigh_ind, k], axis=1)\n"
     ]
    },
    {
     "name": "stdout",
     "output_type": "stream",
     "text": [
      "item\n",
      "410     Gomez and Morticia Addams hire a nanny, Debbie...\n",
      "648     Years after the events of the series, Jim Phel...\n",
      "161     In post-Soviet Russia, civil war erupts as a r...\n",
      "3743    Jennifer Burrows and Ryan Walker meet as 12-ye...\n",
      "1       In a world where toys are living things who pr...\n",
      "                              ...                        \n",
      "1747    The President is caught making advances on an ...\n",
      "3686    Nelson Wright, a medical student, convinces fo...\n",
      "2959    The unnamed Narrator is a traveling automobile...\n",
      "2572    Cameron James, a new student at Padua High Sch...\n",
      "2870    Corie (Jane Fonda), a free spirited young woma...\n",
      "Name: plot, Length: 393, dtype: object\n"
     ]
    },
    {
     "name": "stderr",
     "output_type": "stream",
     "text": [
      "C:\\Users\\Thom\\anaconda3\\lib\\site-packages\\sklearn\\neighbors\\_classification.py:211: FutureWarning: Unlike other reduction functions (e.g. `skew`, `kurtosis`), the default behavior of `mode` typically preserves the axis it acts along. In SciPy 1.11.0, this behavior will change: the default value of `keepdims` will become False, the `axis` over which the statistic is taken will be eliminated, and the value None will no longer be accepted. Set `keepdims` to True or False to avoid this warning.\n",
      "  mode, _ = stats.mode(_y[neigh_ind, k], axis=1)\n",
      "C:\\Users\\Thom\\anaconda3\\lib\\site-packages\\sklearn\\neighbors\\_classification.py:211: FutureWarning: Unlike other reduction functions (e.g. `skew`, `kurtosis`), the default behavior of `mode` typically preserves the axis it acts along. In SciPy 1.11.0, this behavior will change: the default value of `keepdims` will become False, the `axis` over which the statistic is taken will be eliminated, and the value None will no longer be accepted. Set `keepdims` to True or False to avoid this warning.\n",
      "  mode, _ = stats.mode(_y[neigh_ind, k], axis=1)\n"
     ]
    },
    {
     "name": "stdout",
     "output_type": "stream",
     "text": [
      "item\n",
      "3300    In the distant future, the ship Hunter-Gratzne...\n",
      "4901    In 2001, the governments of the U.S. and China...\n",
      "5254    Two years after the events of Blade, a pandemi...\n",
      "6333    At the White House, brainwashed teleporting mu...\n",
      "2033    In the land of Prydain, Taran is an \"assistant...\n",
      "                              ...                        \n",
      "1919    In 1956 Paris, France, a young girl named Made...\n",
      "6166    Dennis Mitchell (Mason Gamble) is a five-year-...\n",
      "596     Jiminy Cricket explains that he is going to te...\n",
      "1088    In the summer of 1963, 17-year-old Frances \"Ba...\n",
      "3999    While climbing in Monument Valley, siblings Pe...\n",
      "Name: plot, Length: 118, dtype: object\n",
      "item\n",
      "4040     Sue Ellen Crandell (Christina Applegate) is a ...\n",
      "32296    Several weeks after the events of the first fi...\n",
      "60074    John Hancock is an alcoholic American who poss...\n",
      "30825    Set two years after the events of the first fi...\n",
      "88405    Jamie Rellis (Mila Kunis) is an executive recr...\n",
      "                               ...                        \n",
      "541      In 2019 Los Angeles, former police officer Ric...\n",
      "88744    Will Rodman, a scientist at the San Francisco ...\n",
      "53322    Reuben Tishkoff is coerced by thugs employed b...\n",
      "4306     Shrek, a green ogre who loves the solitude in ...\n",
      "4085     Young and reckless Detroit police detective Ax...\n",
      "Name: plot, Length: 224, dtype: object\n"
     ]
    },
    {
     "name": "stderr",
     "output_type": "stream",
     "text": [
      "C:\\Users\\Thom\\anaconda3\\lib\\site-packages\\sklearn\\neighbors\\_classification.py:211: FutureWarning: Unlike other reduction functions (e.g. `skew`, `kurtosis`), the default behavior of `mode` typically preserves the axis it acts along. In SciPy 1.11.0, this behavior will change: the default value of `keepdims` will become False, the `axis` over which the statistic is taken will be eliminated, and the value None will no longer be accepted. Set `keepdims` to True or False to avoid this warning.\n",
      "  mode, _ = stats.mode(_y[neigh_ind, k], axis=1)\n"
     ]
    },
    {
     "name": "stdout",
     "output_type": "stream",
     "text": [
      "item\n",
      "3020     William Foster is recently divorced, and his e...\n",
      "55765    In 1968, Frank Lucas is the right-hand man of ...\n",
      "5502     Graham Hess (Mel Gibson), a former reverend, l...\n",
      "44191    In 2027, the world is in turmoil and warfare, ...\n",
      "45658    The story is set in Glasgow, Scotland near the...\n",
      "                               ...                        \n",
      "3260     In Edwardian Britain, Helen Schlegel becomes e...\n",
      "2908     Brandon Teena (Hilary Swank) is a young trans ...\n",
      "30707    Margaret \"Maggie\" Fitzgerald, a waitress from ...\n",
      "53953    Mike Enslin is a cynical, skeptical author who...\n",
      "8937     As preseason practice begins for the Permian H...\n",
      "Name: plot, Length: 281, dtype: object\n"
     ]
    },
    {
     "name": "stderr",
     "output_type": "stream",
     "text": [
      "C:\\Users\\Thom\\anaconda3\\lib\\site-packages\\sklearn\\neighbors\\_classification.py:211: FutureWarning: Unlike other reduction functions (e.g. `skew`, `kurtosis`), the default behavior of `mode` typically preserves the axis it acts along. In SciPy 1.11.0, this behavior will change: the default value of `keepdims` will become False, the `axis` over which the statistic is taken will be eliminated, and the value None will no longer be accepted. Set `keepdims` to True or False to avoid this warning.\n",
      "  mode, _ = stats.mode(_y[neigh_ind, k], axis=1)\n"
     ]
    },
    {
     "name": "stdout",
     "output_type": "stream",
     "text": [
      "item\n",
      "136864    Eighteen months after the battle between Super...\n",
      "4816      In New York City, the self-absorbed and dim-wi...\n",
      "4890      Hal Larson (Jack Black) is a nice guy, but he ...\n",
      "68157     In 1941, SS colonel Hans Landa interrogates Fr...\n",
      "4963      Following release from prison, Danny Ocean vio...\n",
      "                                ...                        \n",
      "46578     Sheryl Hoover is an overworked mother of two l...\n",
      "4226      The film starts with the Polaroid photograph o...\n",
      "920       On the eve of the American Civil War in 1861, ...\n",
      "55247     In April 1992, Christopher McCandless arrives ...\n",
      "6763      Alex Rose (Ben Stiller) and Nancy Kendricks (D...\n",
      "Name: plot, Length: 122, dtype: object\n",
      "item\n",
      "436     Dr. Bill Capa, a New York psychiatrist, falls ...\n",
      "3441    The United States has gradually become strateg...\n",
      "1485    In Los Angeles, career-focused lawyer Fletcher...\n",
      "3146    Deuce Bigalow, an insecure fishtank cleaner (a...\n",
      "1729    Jackie Brown is a flight attendant for a small...\n",
      "                              ...                        \n",
      "3264    High school senior Buffy Summers (Kristy Swans...\n",
      "4084    Beverly Hills Police Captain Andrew Bogomil, D...\n",
      "4349    Captain John Yossarian, a U.S. Army Air Force ...\n",
      "344     Ace Ventura is an eccentric Miami-based privat...\n",
      "4155    Nelson Moss meets Sara Deever, a woman very di...\n",
      "Name: plot, Length: 249, dtype: object\n"
     ]
    },
    {
     "name": "stderr",
     "output_type": "stream",
     "text": [
      "C:\\Users\\Thom\\anaconda3\\lib\\site-packages\\sklearn\\neighbors\\_classification.py:211: FutureWarning: Unlike other reduction functions (e.g. `skew`, `kurtosis`), the default behavior of `mode` typically preserves the axis it acts along. In SciPy 1.11.0, this behavior will change: the default value of `keepdims` will become False, the `axis` over which the statistic is taken will be eliminated, and the value None will no longer be accepted. Set `keepdims` to True or False to avoid this warning.\n",
      "  mode, _ = stats.mode(_y[neigh_ind, k], axis=1)\n",
      "C:\\Users\\Thom\\anaconda3\\lib\\site-packages\\sklearn\\neighbors\\_classification.py:211: FutureWarning: Unlike other reduction functions (e.g. `skew`, `kurtosis`), the default behavior of `mode` typically preserves the axis it acts along. In SciPy 1.11.0, this behavior will change: the default value of `keepdims` will become False, the `axis` over which the statistic is taken will be eliminated, and the value None will no longer be accepted. Set `keepdims` to True or False to avoid this warning.\n",
      "  mode, _ = stats.mode(_y[neigh_ind, k], axis=1)\n"
     ]
    },
    {
     "name": "stdout",
     "output_type": "stream",
     "text": [
      "item\n",
      "852     Roy \"Tin Cup\" McAvoy (Kevin Costner) is a form...\n",
      "934     Following the wedding of his daughter Kay (Eli...\n",
      "1021    Young foster child Roger (Joseph Gordon-Levitt...\n",
      "520     Robin of Locksley (Cary Elwes) is captured dur...\n",
      "1391    In Kentucky, a family watches in confusion as ...\n",
      "                              ...                        \n",
      "595     One winter's night, an enchantress disguised a...\n",
      "1721    In 1996, treasure hunter Brock Lovett and his ...\n",
      "39      Cheryl \"Cher\" Horowitz is a well-intentioned b...\n",
      "107     Jim Hawkins is a young orphan who lives in the...\n",
      "2959    The unnamed Narrator is a traveling automobile...\n",
      "Name: plot, Length: 227, dtype: object\n"
     ]
    },
    {
     "name": "stderr",
     "output_type": "stream",
     "text": [
      "C:\\Users\\Thom\\anaconda3\\lib\\site-packages\\sklearn\\neighbors\\_classification.py:211: FutureWarning: Unlike other reduction functions (e.g. `skew`, `kurtosis`), the default behavior of `mode` typically preserves the axis it acts along. In SciPy 1.11.0, this behavior will change: the default value of `keepdims` will become False, the `axis` over which the statistic is taken will be eliminated, and the value None will no longer be accepted. Set `keepdims` to True or False to avoid this warning.\n",
      "  mode, _ = stats.mode(_y[neigh_ind, k], axis=1)\n"
     ]
    },
    {
     "name": "stdout",
     "output_type": "stream",
     "text": [
      "item\n",
      "1080      Brian Cohen is born in a stable next door to t...\n",
      "116797    In 1952, two policemen, Nock and Staehl, inves...\n",
      "174141    Jeanne and Jean are happy newlyweds in a rural...\n",
      "1921      Max Cohen is the story's protagonist and unrel...\n",
      "122882    Following a nuclear holocaust, the world has b...\n",
      "                                ...                        \n",
      "71264     Flint Lockwood is a wannabe-scientist who live...\n",
      "90522     Johnny English (Rowan Atkinson) has been train...\n",
      "110102    Two years after the Battle of New York,[N 1] S...\n",
      "149406    In the spirit realm, Oogway fights against an ...\n",
      "94864     As a spacecraft departs a planet, a humanoid a...\n",
      "Name: plot, Length: 112, dtype: object\n",
      "item\n",
      "48774    In 2027, after 18 years of global human infert...\n",
      "54001    During another summer with his Aunt Petunia an...\n",
      "4447     Fashion merchandising student Elle Woods has e...\n",
      "1967     Fifteen-year-old Sarah Williams rehearses a pl...\n",
      "2393     Lieutenant Commander Data (Brent Spiner) is te...\n",
      "                               ...                        \n",
      "2374     The local auto plant in fictional Hadleyville,...\n",
      "2701     In 1869, 4 years after the end of the American...\n",
      "466      One night, an American special forces team inv...\n",
      "327      In 2022, a comet strikes Earth causing an 11-y...\n",
      "3918     We see the origin of Pinhead as a British mili...\n",
      "Name: plot, Length: 201, dtype: object\n"
     ]
    },
    {
     "name": "stderr",
     "output_type": "stream",
     "text": [
      "C:\\Users\\Thom\\anaconda3\\lib\\site-packages\\sklearn\\neighbors\\_classification.py:211: FutureWarning: Unlike other reduction functions (e.g. `skew`, `kurtosis`), the default behavior of `mode` typically preserves the axis it acts along. In SciPy 1.11.0, this behavior will change: the default value of `keepdims` will become False, the `axis` over which the statistic is taken will be eliminated, and the value None will no longer be accepted. Set `keepdims` to True or False to avoid this warning.\n",
      "  mode, _ = stats.mode(_y[neigh_ind, k], axis=1)\n",
      "C:\\Users\\Thom\\anaconda3\\lib\\site-packages\\sklearn\\neighbors\\_classification.py:211: FutureWarning: Unlike other reduction functions (e.g. `skew`, `kurtosis`), the default behavior of `mode` typically preserves the axis it acts along. In SciPy 1.11.0, this behavior will change: the default value of `keepdims` will become False, the `axis` over which the statistic is taken will be eliminated, and the value None will no longer be accepted. Set `keepdims` to True or False to avoid this warning.\n",
      "  mode, _ = stats.mode(_y[neigh_ind, k], axis=1)\n"
     ]
    },
    {
     "name": "stdout",
     "output_type": "stream",
     "text": [
      "item\n",
      "2273    On the last day of British rule in Hong Kong l...\n",
      "1270    In 1985 Hill Valley, California, teenager Mart...\n",
      "1597    Conspiracy-theorist New York City taxi driver ...\n",
      "1468    Booty Call is about a tender-hearted, upwardly...\n",
      "380     Harry Tasker leads a double life: to his wife ...\n",
      "                              ...                        \n",
      "2291    An elderly woman tells her granddaughter the s...\n",
      "1388    Prior to a new hotel opening on Amity Island, ...\n",
      "3081    In 1799, New York City police constable Ichabo...\n",
      "3479    In 13th century Europe, Philippe \"The Mouse\" G...\n",
      "2080    On Christmas morning, 1909, in a quaint Midwes...\n",
      "Name: plot, Length: 252, dtype: object\n"
     ]
    },
    {
     "name": "stderr",
     "output_type": "stream",
     "text": [
      "C:\\Users\\Thom\\anaconda3\\lib\\site-packages\\sklearn\\neighbors\\_classification.py:211: FutureWarning: Unlike other reduction functions (e.g. `skew`, `kurtosis`), the default behavior of `mode` typically preserves the axis it acts along. In SciPy 1.11.0, this behavior will change: the default value of `keepdims` will become False, the `axis` over which the statistic is taken will be eliminated, and the value None will no longer be accepted. Set `keepdims` to True or False to avoid this warning.\n",
      "  mode, _ = stats.mode(_y[neigh_ind, k], axis=1)\n"
     ]
    },
    {
     "name": "stdout",
     "output_type": "stream",
     "text": [
      "item\n",
      "1291      In 1912, thirteen-year-old Indiana Jones is ho...\n",
      "1704      Twenty-year-old Will Hunting of South Boston i...\n",
      "8360      Shrek and Fiona return from their honeymoon to...\n",
      "344       Ace Ventura is an eccentric Miami-based privat...\n",
      "87520     In 1961, the \"Ark\", a Cybertronian spacecraft ...\n",
      "                                ...                        \n",
      "4011      After stealing an 86-carat (17.2 g) diamond in...\n",
      "8641      In 1974, Ron Burgundy is the famous anchorman ...\n",
      "110102    Two years after the Battle of New York,[N 1] S...\n",
      "32587     The Salesman walks onto a penthouse balcony wh...\n",
      "81834     Minister of Magic Rufus Scrimgeour addresses t...\n",
      "Name: plot, Length: 185, dtype: object\n"
     ]
    },
    {
     "name": "stderr",
     "output_type": "stream",
     "text": [
      "C:\\Users\\Thom\\anaconda3\\lib\\site-packages\\sklearn\\neighbors\\_classification.py:211: FutureWarning: Unlike other reduction functions (e.g. `skew`, `kurtosis`), the default behavior of `mode` typically preserves the axis it acts along. In SciPy 1.11.0, this behavior will change: the default value of `keepdims` will become False, the `axis` over which the statistic is taken will be eliminated, and the value None will no longer be accepted. Set `keepdims` to True or False to avoid this warning.\n",
      "  mode, _ = stats.mode(_y[neigh_ind, k], axis=1)\n",
      "C:\\Users\\Thom\\anaconda3\\lib\\site-packages\\sklearn\\neighbors\\_classification.py:211: FutureWarning: Unlike other reduction functions (e.g. `skew`, `kurtosis`), the default behavior of `mode` typically preserves the axis it acts along. In SciPy 1.11.0, this behavior will change: the default value of `keepdims` will become False, the `axis` over which the statistic is taken will be eliminated, and the value None will no longer be accepted. Set `keepdims` to True or False to avoid this warning.\n",
      "  mode, _ = stats.mode(_y[neigh_ind, k], axis=1)\n"
     ]
    },
    {
     "name": "stdout",
     "output_type": "stream",
     "text": [
      "item\n",
      "480      Industrialist John Hammond and his bioengineer...\n",
      "3752     Charlie Baileygates (Jim Carrey) is a veteran ...\n",
      "3949     During the summer in Brighton Beach, Brooklyn,...\n",
      "96079    MI6 agents James Bond and Eve Moneypenny pursu...\n",
      "344      Ace Ventura is an eccentric Miami-based privat...\n",
      "                               ...                        \n",
      "71535    Two months have passed since a strain of mad c...\n",
      "1080     Brian Cohen is born in a stable next door to t...\n",
      "77800    A group of radicalised young British Muslim me...\n",
      "3481     Rob Gordon is a self-confessed music loving ev...\n",
      "2000     Shortly after his 50th birthday, LAPD Homicide...\n",
      "Name: plot, Length: 127, dtype: object\n",
      "item\n",
      "1225    An elderly Antonio Salieri confesses to the mu...\n",
      "6539    While sailing to Port Royal, Jamaica, Governor...\n",
      "3752    Charlie Baileygates (Jim Carrey) is a veteran ...\n",
      "39      Cheryl \"Cher\" Horowitz is a well-intentioned b...\n",
      "3793    In Nazi-occupied Poland, 12-year-old Erik Lehn...\n",
      "                              ...                        \n",
      "2329    High school student Danny Vinyard receives an ...\n",
      "7451    Sixteen-year-old homeschooled Cady Heron and h...\n",
      "6323    A convict named Malcolm Rivers awaits executio...\n",
      "3916    In July 1971, at the desegregated T. C. Willia...\n",
      "16      In 1973, sports handicapper and Mafia associat...\n",
      "Name: plot, Length: 263, dtype: object\n"
     ]
    },
    {
     "name": "stderr",
     "output_type": "stream",
     "text": [
      "C:\\Users\\Thom\\anaconda3\\lib\\site-packages\\sklearn\\neighbors\\_classification.py:211: FutureWarning: Unlike other reduction functions (e.g. `skew`, `kurtosis`), the default behavior of `mode` typically preserves the axis it acts along. In SciPy 1.11.0, this behavior will change: the default value of `keepdims` will become False, the `axis` over which the statistic is taken will be eliminated, and the value None will no longer be accepted. Set `keepdims` to True or False to avoid this warning.\n",
      "  mode, _ = stats.mode(_y[neigh_ind, k], axis=1)\n",
      "C:\\Users\\Thom\\anaconda3\\lib\\site-packages\\sklearn\\neighbors\\_classification.py:211: FutureWarning: Unlike other reduction functions (e.g. `skew`, `kurtosis`), the default behavior of `mode` typically preserves the axis it acts along. In SciPy 1.11.0, this behavior will change: the default value of `keepdims` will become False, the `axis` over which the statistic is taken will be eliminated, and the value None will no longer be accepted. Set `keepdims` to True or False to avoid this warning.\n",
      "  mode, _ = stats.mode(_y[neigh_ind, k], axis=1)\n"
     ]
    },
    {
     "name": "stdout",
     "output_type": "stream",
     "text": [
      "item\n",
      "5957    Lucy Kelson (Sandra Bullock) is a frumpy, nerv...\n",
      "1224    The film begins with Chorus, in this case a pe...\n",
      "7018    Rozat \"Rusty\" Sabich is a prosecutor and the r...\n",
      "849     In 1998, Los Angeles has become immensely crim...\n",
      "3578    In AD 180, Hispano-Roman General Maximus Decim...\n",
      "                              ...                        \n",
      "7015    Danny Muldoon (John Candy), a 38-year-old Chic...\n",
      "7173    Reuben Feffer (Ben Stiller), a risk analyst fo...\n",
      "1285    Veronica Sawyer is one of the most popular gir...\n",
      "356     In 1981, Forrest Gump recounts his life story ...\n",
      "3052    Bartleby and Loki are fallen angels, eternally...\n",
      "Name: plot, Length: 180, dtype: object\n",
      "item\n",
      "53125     In order to control the oceans, Lord Cutler Be...\n",
      "52973     Alison Scott (Katherine Heigl) is a career-min...\n",
      "3578      In AD 180, Hispano-Roman General Maximus Decim...\n",
      "1895      The senior class of a suburban high school, Hu...\n",
      "1200      Ellen Ripley has been in stasis in a shuttle f...\n",
      "                                ...                        \n",
      "88129     An unnamed mechanic who is a stunt double, a s...\n",
      "116797    In 1952, two policemen, Nock and Staehl, inves...\n",
      "62        In Portland, Oregon in 1965, Glenn Holland is ...\n",
      "57640     During Christmas 1955, a young Hellboy is told...\n",
      "3798      After her daughter leaves for college, Claire ...\n",
      "Name: plot, Length: 671, dtype: object\n"
     ]
    },
    {
     "name": "stderr",
     "output_type": "stream",
     "text": [
      "C:\\Users\\Thom\\anaconda3\\lib\\site-packages\\sklearn\\neighbors\\_classification.py:211: FutureWarning: Unlike other reduction functions (e.g. `skew`, `kurtosis`), the default behavior of `mode` typically preserves the axis it acts along. In SciPy 1.11.0, this behavior will change: the default value of `keepdims` will become False, the `axis` over which the statistic is taken will be eliminated, and the value None will no longer be accepted. Set `keepdims` to True or False to avoid this warning.\n",
      "  mode, _ = stats.mode(_y[neigh_ind, k], axis=1)\n",
      "C:\\Users\\Thom\\anaconda3\\lib\\site-packages\\sklearn\\neighbors\\_classification.py:211: FutureWarning: Unlike other reduction functions (e.g. `skew`, `kurtosis`), the default behavior of `mode` typically preserves the axis it acts along. In SciPy 1.11.0, this behavior will change: the default value of `keepdims` will become False, the `axis` over which the statistic is taken will be eliminated, and the value None will no longer be accepted. Set `keepdims` to True or False to avoid this warning.\n",
      "  mode, _ = stats.mode(_y[neigh_ind, k], axis=1)\n"
     ]
    },
    {
     "name": "stdout",
     "output_type": "stream",
     "text": [
      "item\n",
      "4886      The city of Monstropolis in the monster world ...\n",
      "59315     Genius, billionaire, and playboy Tony Stark, w...\n",
      "71535     Two months have passed since a strain of mad c...\n",
      "3911      Best in Show is presented as a documentary of ...\n",
      "1193      In 1963 Oregon, recidivist criminal Randle McM...\n",
      "                                ...                        \n",
      "1         In a world where toys are living things who pr...\n",
      "112788    Jay and Annie Hargrove are a married couple, w...\n",
      "95441     In 1985, eight-year-old John Bennett is an onl...\n",
      "8641      In 1974, Ron Burgundy is the famous anchorman ...\n",
      "97921     After eight months of treatment in a mental he...\n",
      "Name: plot, Length: 125, dtype: object\n",
      "item\n",
      "60030     The story follows lonely introvert Mason, a te...\n",
      "3300      In the distant future, the ship Hunter-Gratzne...\n",
      "5445      In April 2054, Washington, DC's PreCrime polic...\n",
      "51935     Bob Lee Swagger reluctantly leaves a self-impo...\n",
      "90405     In 2169, people are genetically engineered to ...\n",
      "                                ...                        \n",
      "102125    At a New Year's Eve party in 1999, Tony Stark ...\n",
      "3534      Gwen Cummings (Sandra Bullock) spends her nigh...\n",
      "6539      While sailing to Port Royal, Jamaica, Governor...\n",
      "53322     Reuben Tishkoff is coerced by thugs employed b...\n",
      "75395     Childhood friends Dan Walker and Joe Lynch, al...\n",
      "Name: plot, Length: 87, dtype: object\n"
     ]
    },
    {
     "name": "stderr",
     "output_type": "stream",
     "text": [
      "C:\\Users\\Thom\\anaconda3\\lib\\site-packages\\sklearn\\neighbors\\_classification.py:211: FutureWarning: Unlike other reduction functions (e.g. `skew`, `kurtosis`), the default behavior of `mode` typically preserves the axis it acts along. In SciPy 1.11.0, this behavior will change: the default value of `keepdims` will become False, the `axis` over which the statistic is taken will be eliminated, and the value None will no longer be accepted. Set `keepdims` to True or False to avoid this warning.\n",
      "  mode, _ = stats.mode(_y[neigh_ind, k], axis=1)\n",
      "C:\\Users\\Thom\\anaconda3\\lib\\site-packages\\sklearn\\neighbors\\_classification.py:211: FutureWarning: Unlike other reduction functions (e.g. `skew`, `kurtosis`), the default behavior of `mode` typically preserves the axis it acts along. In SciPy 1.11.0, this behavior will change: the default value of `keepdims` will become False, the `axis` over which the statistic is taken will be eliminated, and the value None will no longer be accepted. Set `keepdims` to True or False to avoid this warning.\n",
      "  mode, _ = stats.mode(_y[neigh_ind, k], axis=1)\n"
     ]
    },
    {
     "name": "stdout",
     "output_type": "stream",
     "text": [
      "item\n",
      "832     While multi-millionaire Tom Mullen and his wif...\n",
      "4306    Shrek, a green ogre who loves the solitude in ...\n",
      "3638    A Drax Industries Moonraker space shuttle on l...\n",
      "1517    In 1967, British spy Austin Powers thwarts an ...\n",
      "5349    High-school senior Peter Parker lives with his...\n",
      "                              ...                        \n",
      "480     Industrialist John Hammond and his bioengineer...\n",
      "3717    Kip Raines (Giovanni Ribisi), an aspiring car ...\n",
      "4084    Beverly Hills Police Captain Andrew Bogomil, D...\n",
      "1923    In 1985, 16-year-old high school student Ted S...\n",
      "4718    After their freshman year at college, the four...\n",
      "Name: plot, Length: 129, dtype: object\n",
      "item\n",
      "1272    General George S. Patton addresses an unseen a...\n",
      "150     In July 1969, astronaut Jim Lovell hosts a hou...\n",
      "726     Cindy Liggett (Sharon Stone) is waiting on dea...\n",
      "1271    Evelyn Couch, a timid, unhappy housewife in he...\n",
      "1042    In 1964, in Erie, Pennsylvania, aspiring jazz ...\n",
      "                              ...                        \n",
      "1292    The middle-aged and simple-minded Chance lives...\n",
      "1286    On May 19, 1972, college theatre student Richa...\n",
      "931     Dr. Constance Petersen (Ingrid Bergman) is a p...\n",
      "62      In Portland, Oregon in 1965, Glenn Holland is ...\n",
      "1092    In San Francisco, homicide detective Nick Curr...\n",
      "Name: plot, Length: 152, dtype: object\n"
     ]
    },
    {
     "name": "stderr",
     "output_type": "stream",
     "text": [
      "C:\\Users\\Thom\\anaconda3\\lib\\site-packages\\sklearn\\neighbors\\_classification.py:211: FutureWarning: Unlike other reduction functions (e.g. `skew`, `kurtosis`), the default behavior of `mode` typically preserves the axis it acts along. In SciPy 1.11.0, this behavior will change: the default value of `keepdims` will become False, the `axis` over which the statistic is taken will be eliminated, and the value None will no longer be accepted. Set `keepdims` to True or False to avoid this warning.\n",
      "  mode, _ = stats.mode(_y[neigh_ind, k], axis=1)\n"
     ]
    },
    {
     "name": "stdout",
     "output_type": "stream",
     "text": [
      "item\n",
      "108156    James Payton is a detective, on an undercover ...\n",
      "104211    A small-time cannabis dealer named David Clark...\n",
      "2539      Mob boss Paul Vitti and his consigliere Domini...\n",
      "117590    In November 2014, Nick Hendricks, Dale Arbus, ...\n",
      "54503     Seth (Jonah Hill) and Evan (Michael Cera) are ...\n",
      "                                ...                        \n",
      "70697     The film revolves around a special team of tra...\n",
      "902       Early one morning, a taxi pulls up at Tiffany ...\n",
      "1278      Dr. Frederick Frankenstein is a lecturing phys...\n",
      "5218      A saber-toothed squirrel (known as Scrat) is t...\n",
      "5529      Joe Tyler (Matthew Perry), a process server, i...\n",
      "Name: plot, Length: 194, dtype: object\n",
      "item\n",
      "4214    Best friends and nerds Lewis Skolnick and Gilb...\n",
      "778     Edinburgh heroin addict Mark Renton buys opium...\n",
      "1391    In Kentucky, a family watches in confusion as ...\n",
      "2291    An elderly woman tells her granddaughter the s...\n",
      "1225    An elderly Antonio Salieri confesses to the mu...\n",
      "                              ...                        \n",
      "2985    In the near future, Detroit, Michigan, is a dy...\n",
      "1981    Two graduating high school students are aboard...\n",
      "4645    Kenichi Takabe (Kōji Yakusho) is an emotionall...\n",
      "434     Rangers Gabriel \"Gabe\" Walker and Jessie Deigh...\n",
      "41      In late 1930s England, a chaotic and bloody ci...\n",
      "Name: plot, Length: 295, dtype: object\n"
     ]
    },
    {
     "name": "stderr",
     "output_type": "stream",
     "text": [
      "C:\\Users\\Thom\\anaconda3\\lib\\site-packages\\sklearn\\neighbors\\_classification.py:211: FutureWarning: Unlike other reduction functions (e.g. `skew`, `kurtosis`), the default behavior of `mode` typically preserves the axis it acts along. In SciPy 1.11.0, this behavior will change: the default value of `keepdims` will become False, the `axis` over which the statistic is taken will be eliminated, and the value None will no longer be accepted. Set `keepdims` to True or False to avoid this warning.\n",
      "  mode, _ = stats.mode(_y[neigh_ind, k], axis=1)\n",
      "C:\\Users\\Thom\\anaconda3\\lib\\site-packages\\sklearn\\neighbors\\_classification.py:211: FutureWarning: Unlike other reduction functions (e.g. `skew`, `kurtosis`), the default behavior of `mode` typically preserves the axis it acts along. In SciPy 1.11.0, this behavior will change: the default value of `keepdims` will become False, the `axis` over which the statistic is taken will be eliminated, and the value None will no longer be accepted. Set `keepdims` to True or False to avoid this warning.\n",
      "  mode, _ = stats.mode(_y[neigh_ind, k], axis=1)\n",
      "C:\\Users\\Thom\\anaconda3\\lib\\site-packages\\sklearn\\neighbors\\_classification.py:211: FutureWarning: Unlike other reduction functions (e.g. `skew`, `kurtosis`), the default behavior of `mode` typically preserves the axis it acts along. In SciPy 1.11.0, this behavior will change: the default value of `keepdims` will become False, the `axis` over which the statistic is taken will be eliminated, and the value None will no longer be accepted. Set `keepdims` to True or False to avoid this warning.\n",
      "  mode, _ = stats.mode(_y[neigh_ind, k], axis=1)\n"
     ]
    },
    {
     "name": "stdout",
     "output_type": "stream",
     "text": [
      "item\n",
      "2021    In the distant future, the known universe is r...\n",
      "2280    \"Clay Bidwell\" is a young man in a small town ...\n",
      "5693    Anthony \"Tony\" Manero is a 19-year-old Italian...\n",
      "5792    After cynical New York advertising copywriter ...\n",
      "18      The film is set on New Year's Eve, and starts ...\n",
      "                              ...                        \n",
      "3361    \"Crash\" Davis (Costner), a veteran of 12 years...\n",
      "6333    At the White House, brainwashed teleporting mu...\n",
      "1228    In a brief scene in 1964, an aging, overweight...\n",
      "8636    Peter Parker, secretly the superhero Spider-Ma...\n",
      "5812    In 1957 suburban Connecticut, Cathy Whitaker a...\n",
      "Name: plot, Length: 91, dtype: object\n",
      "item\n",
      "916     Ann (Audrey Hepburn), a crown princess on a st...\n",
      "1958    Widowed Aurora Greenway (Shirley MacLaine) kee...\n",
      "1674    In 1984, an Amish community attends the funera...\n",
      "28      The film opens by cutting back and forth betwe...\n",
      "1265    Weatherman Phil Connors reassures Pittsburgh v...\n",
      "                              ...                        \n",
      "648     Years after the events of the series, Jim Phel...\n",
      "74      Lisa Walker (Mary Stuart Masterson) is a busin...\n",
      "3536    The film begins with a drunken and downtrodden...\n",
      "1380    In the summer of 1958, greaser Danny Zuko and ...\n",
      "6377    Two clownfish, Marlin and Coral, admire their ...\n",
      "Name: plot, Length: 92, dtype: object\n"
     ]
    },
    {
     "name": "stderr",
     "output_type": "stream",
     "text": [
      "C:\\Users\\Thom\\anaconda3\\lib\\site-packages\\sklearn\\neighbors\\_classification.py:211: FutureWarning: Unlike other reduction functions (e.g. `skew`, `kurtosis`), the default behavior of `mode` typically preserves the axis it acts along. In SciPy 1.11.0, this behavior will change: the default value of `keepdims` will become False, the `axis` over which the statistic is taken will be eliminated, and the value None will no longer be accepted. Set `keepdims` to True or False to avoid this warning.\n",
      "  mode, _ = stats.mode(_y[neigh_ind, k], axis=1)\n"
     ]
    },
    {
     "name": "stdout",
     "output_type": "stream",
     "text": [
      "item\n",
      "1693      La Amistad is the name of a slave ship traveli...\n",
      "88108     Grace Bennett (Selena Gomez) is a New York Uni...\n",
      "750       United States Air Force Brigadier General Jack...\n",
      "4148      Ten years after tracking down serial killer Ja...\n",
      "168250    African-American photographer Chris Washington...\n",
      "                                ...                        \n",
      "56757     In 1846, Benjamin Barker, a barber, arrives in...\n",
      "150       In July 1969, astronaut Jim Lovell hosts a hou...\n",
      "72226     While raiding Berk's Squab Farm, Mr. Fox and h...\n",
      "89492     Oakland Athletics general manager Billy Beane ...\n",
      "86298     In Brazil, various exotic birds are smuggled o...\n",
      "Name: plot, Length: 208, dtype: object\n"
     ]
    },
    {
     "name": "stderr",
     "output_type": "stream",
     "text": [
      "C:\\Users\\Thom\\anaconda3\\lib\\site-packages\\sklearn\\neighbors\\_classification.py:211: FutureWarning: Unlike other reduction functions (e.g. `skew`, `kurtosis`), the default behavior of `mode` typically preserves the axis it acts along. In SciPy 1.11.0, this behavior will change: the default value of `keepdims` will become False, the `axis` over which the statistic is taken will be eliminated, and the value None will no longer be accepted. Set `keepdims` to True or False to avoid this warning.\n",
      "  mode, _ = stats.mode(_y[neigh_ind, k], axis=1)\n"
     ]
    },
    {
     "name": "stdout",
     "output_type": "stream",
     "text": [
      "item\n",
      "52722    Three years after the events of the second fil...\n",
      "3911     Best in Show is presented as a documentary of ...\n",
      "2294     In an ant colony, Z-4195, or \"Z\" for short, is...\n",
      "54001    During another summer with his Aunt Petunia an...\n",
      "2724     Maggie Carpenter (Julia Roberts) is a spirited...\n",
      "                               ...                        \n",
      "4447     Fashion merchandising student Elle Woods has e...\n",
      "54259    The magical kingdom of Stormhold is surrounded...\n",
      "8368     Harry Potter has been spending another dissati...\n",
      "1391     In Kentucky, a family watches in confusion as ...\n",
      "47997    A United States Army librarian, Corporal \"Aver...\n",
      "Name: plot, Length: 144, dtype: object\n",
      "item\n",
      "4886      The city of Monstropolis in the monster world ...\n",
      "68157     In 1941, SS colonel Hans Landa interrogates Fr...\n",
      "120138    A humanoid alien lands on Earth naked on a res...\n",
      "431       In 1975, after serving 5 years of a 30-year pr...\n",
      "31696     God and Lucifer have a standing wager for mank...\n",
      "                                ...                        \n",
      "3052      Bartleby and Loki are fallen angels, eternally...\n",
      "86628     In 1960, Danny Greene and his childhood friend...\n",
      "68237     In the near future,[3] Lunar Industries has ma...\n",
      "57669     Carrying out orders, rookie hitman Ray shoots ...\n",
      "4025      In 1982, a very young Gracie Hart steps into a...\n",
      "Name: plot, Length: 263, dtype: object\n"
     ]
    },
    {
     "name": "stderr",
     "output_type": "stream",
     "text": [
      "C:\\Users\\Thom\\anaconda3\\lib\\site-packages\\sklearn\\neighbors\\_classification.py:211: FutureWarning: Unlike other reduction functions (e.g. `skew`, `kurtosis`), the default behavior of `mode` typically preserves the axis it acts along. In SciPy 1.11.0, this behavior will change: the default value of `keepdims` will become False, the `axis` over which the statistic is taken will be eliminated, and the value None will no longer be accepted. Set `keepdims` to True or False to avoid this warning.\n",
      "  mode, _ = stats.mode(_y[neigh_ind, k], axis=1)\n",
      "C:\\Users\\Thom\\anaconda3\\lib\\site-packages\\sklearn\\neighbors\\_classification.py:211: FutureWarning: Unlike other reduction functions (e.g. `skew`, `kurtosis`), the default behavior of `mode` typically preserves the axis it acts along. In SciPy 1.11.0, this behavior will change: the default value of `keepdims` will become False, the `axis` over which the statistic is taken will be eliminated, and the value None will no longer be accepted. Set `keepdims` to True or False to avoid this warning.\n",
      "  mode, _ = stats.mode(_y[neigh_ind, k], axis=1)\n"
     ]
    },
    {
     "name": "stdout",
     "output_type": "stream",
     "text": [
      "item\n",
      "5218      A saber-toothed squirrel (known as Scrat) is t...\n",
      "134393    Gordon Townsend tells his two young daughters ...\n",
      "100507    Friends since high school, Casey and Miller ar...\n",
      "71057     In Germany, 1930, a scientist (Alan Oppenheime...\n",
      "4148      Ten years after tracking down serial killer Ja...\n",
      "                                ...                        \n",
      "81834     Minister of Magic Rufus Scrimgeour addresses t...\n",
      "65585     Emma Allen and Olivia \"Liv\" Lerner are best fr...\n",
      "68954     In 1940, nine-year-old Carl Fredricksen idoliz...\n",
      "3174      Kaufman is a struggling performer whose act fa...\n",
      "73929     The Archangel Michael (Paul Bettany) falls to ...\n",
      "Name: plot, Length: 336, dtype: object\n"
     ]
    },
    {
     "name": "stderr",
     "output_type": "stream",
     "text": [
      "C:\\Users\\Thom\\anaconda3\\lib\\site-packages\\sklearn\\neighbors\\_classification.py:211: FutureWarning: Unlike other reduction functions (e.g. `skew`, `kurtosis`), the default behavior of `mode` typically preserves the axis it acts along. In SciPy 1.11.0, this behavior will change: the default value of `keepdims` will become False, the `axis` over which the statistic is taken will be eliminated, and the value None will no longer be accepted. Set `keepdims` to True or False to avoid this warning.\n",
      "  mode, _ = stats.mode(_y[neigh_ind, k], axis=1)\n",
      "C:\\Users\\Thom\\anaconda3\\lib\\site-packages\\sklearn\\neighbors\\_classification.py:211: FutureWarning: Unlike other reduction functions (e.g. `skew`, `kurtosis`), the default behavior of `mode` typically preserves the axis it acts along. In SciPy 1.11.0, this behavior will change: the default value of `keepdims` will become False, the `axis` over which the statistic is taken will be eliminated, and the value None will no longer be accepted. Set `keepdims` to True or False to avoid this warning.\n",
      "  mode, _ = stats.mode(_y[neigh_ind, k], axis=1)\n"
     ]
    },
    {
     "name": "stdout",
     "output_type": "stream",
     "text": [
      "item\n",
      "4130    Jessie Montgomery (Ally Sheedy) is a spoiled r...\n",
      "3831    After being unexpectedly widowed, respectable ...\n",
      "804     Irish Catholic Mickey Fitzpatrick is a New Yor...\n",
      "3251    In a Roman Catholic convent near Montreal, Que...\n",
      "1955    Ted Kramer (Dustin Hoffman) is a workaholic ad...\n",
      "                              ...                        \n",
      "4126    Clay Easton (Andrew McCarthy) is a straitlaced...\n",
      "1357    A man (Geoffrey Rush) wanders through a heavy ...\n",
      "1459    During the course of a burglary, master jewel ...\n",
      "1018    \"Darn Cat\" or \"DC\" is a wily, adventurous Siam...\n",
      "3168    Wyatt (Wyatt Earp) and Billy (Billy the Kid) a...\n",
      "Name: plot, Length: 85, dtype: object\n",
      "item\n",
      "36     Matthew Poncelet has been in prison for six ye...\n",
      "160    While testing a communications laser in a remo...\n",
      "497    Having just crushed an uprising by his half-br...\n",
      "377    Los Angeles Police Department (LAPD) SWAT offi...\n",
      "480    Industrialist John Hammond and his bioengineer...\n",
      "                             ...                        \n",
      "356    In 1981, Forrest Gump recounts his life story ...\n",
      "151    In Scotland, 1713, Robert Roy MacGregor is the...\n",
      "7      Sabrina Fairchild is the young daughter of the...\n",
      "527    In Kraków during World War II, the Germans hav...\n",
      "380    Harry Tasker leads a double life: to his wife ...\n",
      "Name: plot, Length: 88, dtype: object\n"
     ]
    },
    {
     "name": "stderr",
     "output_type": "stream",
     "text": [
      "C:\\Users\\Thom\\anaconda3\\lib\\site-packages\\sklearn\\neighbors\\_classification.py:211: FutureWarning: Unlike other reduction functions (e.g. `skew`, `kurtosis`), the default behavior of `mode` typically preserves the axis it acts along. In SciPy 1.11.0, this behavior will change: the default value of `keepdims` will become False, the `axis` over which the statistic is taken will be eliminated, and the value None will no longer be accepted. Set `keepdims` to True or False to avoid this warning.\n",
      "  mode, _ = stats.mode(_y[neigh_ind, k], axis=1)\n",
      "C:\\Users\\Thom\\anaconda3\\lib\\site-packages\\sklearn\\neighbors\\_classification.py:211: FutureWarning: Unlike other reduction functions (e.g. `skew`, `kurtosis`), the default behavior of `mode` typically preserves the axis it acts along. In SciPy 1.11.0, this behavior will change: the default value of `keepdims` will become False, the `axis` over which the statistic is taken will be eliminated, and the value None will no longer be accepted. Set `keepdims` to True or False to avoid this warning.\n",
      "  mode, _ = stats.mode(_y[neigh_ind, k], axis=1)\n"
     ]
    },
    {
     "name": "stdout",
     "output_type": "stream",
     "text": [
      "item\n",
      "87869     Nick Hendricks and Dale Arbus are friends who ...\n",
      "89087     In 1992, in Bogota, Colombia, a drug lord's as...\n",
      "4963      Following release from prison, Danny Ocean vio...\n",
      "2353      NSA official Thomas Bryan Reynolds meets with ...\n",
      "165551    In 1986, Saroo, a five-year-old boy, lives wit...\n",
      "                                ...                        \n",
      "122904    Wade Wilson is a dishonorably discharged speci...\n",
      "59784     In the Valley of Peace, a land in ancient Chin...\n",
      "44        Mortal Kombat is a fighting tournament between...\n",
      "99114     In 1858 Texas, the Speck brothers, Ace and Dic...\n",
      "434       Rangers Gabriel \"Gabe\" Walker and Jessie Deigh...\n",
      "Name: plot, Length: 104, dtype: object\n",
      "item\n",
      "296       Hitmen Jules Winnfield and Vincent Vega arrive...\n",
      "55765     In 1968, Frank Lucas is the right-hand man of ...\n",
      "56174     In 2009, a genetically re-engineered measles v...\n",
      "4011      After stealing an 86-carat (17.2 g) diamond in...\n",
      "46578     Sheryl Hoover is an overworked mother of two l...\n",
      "                                ...                        \n",
      "139385    In 1823, Hugh Glass guides Andrew Henry’s trap...\n",
      "356       In 1981, Forrest Gump recounts his life story ...\n",
      "63113     James Bond is driving from Lake Garda to Siena...\n",
      "89470     Returning from a Hong Kong business trip, Beth...\n",
      "122900    In 1989, scientist Hank Pym resigns from S.H.I...\n",
      "Name: plot, Length: 150, dtype: object\n"
     ]
    },
    {
     "name": "stderr",
     "output_type": "stream",
     "text": [
      "C:\\Users\\Thom\\anaconda3\\lib\\site-packages\\sklearn\\neighbors\\_classification.py:211: FutureWarning: Unlike other reduction functions (e.g. `skew`, `kurtosis`), the default behavior of `mode` typically preserves the axis it acts along. In SciPy 1.11.0, this behavior will change: the default value of `keepdims` will become False, the `axis` over which the statistic is taken will be eliminated, and the value None will no longer be accepted. Set `keepdims` to True or False to avoid this warning.\n",
      "  mode, _ = stats.mode(_y[neigh_ind, k], axis=1)\n",
      "C:\\Users\\Thom\\anaconda3\\lib\\site-packages\\sklearn\\neighbors\\_classification.py:211: FutureWarning: Unlike other reduction functions (e.g. `skew`, `kurtosis`), the default behavior of `mode` typically preserves the axis it acts along. In SciPy 1.11.0, this behavior will change: the default value of `keepdims` will become False, the `axis` over which the statistic is taken will be eliminated, and the value None will no longer be accepted. Set `keepdims` to True or False to avoid this warning.\n",
      "  mode, _ = stats.mode(_y[neigh_ind, k], axis=1)\n"
     ]
    },
    {
     "name": "stdout",
     "output_type": "stream",
     "text": [
      "item\n",
      "127198    Malcolm Adekanbi and his best friends, Jib and...\n",
      "8368      Harry Potter has been spending another dissati...\n",
      "152083    In 2003 New York City, dissatisfied with the s...\n",
      "140928    In 1990, Joy Mangano is a divorced mother of t...\n",
      "122882    Following a nuclear holocaust, the world has b...\n",
      "                                ...                        \n",
      "162350    In 1879, robber baron and gold-mining tycoon B...\n",
      "6502      In Cambridge, three animal liberation activist...\n",
      "52973     Alison Scott (Katherine Heigl) is a career-min...\n",
      "155064    Sixteen-year-old aspiring model Jesse has just...\n",
      "65514     In the 1930s, Foshan is a hub of Southern Chin...\n",
      "Name: plot, Length: 168, dtype: object\n",
      "item\n",
      "6333     At the White House, brainwashed teleporting mu...\n",
      "5991     In 1924, Roxie Hart sees star Velma Kelly perf...\n",
      "48       In 1607, the Susan Constant sails to the New W...\n",
      "4865     In 1888, Mary Kelly (Heather Graham) and her s...\n",
      "30793    Charlie Bucket is a kind and loving boy living...\n",
      "                               ...                        \n",
      "45499    Twenty years in the past, Professor Charles Xa...\n",
      "3261     Singles centers on the precarious romantic liv...\n",
      "4447     Fashion merchandising student Elle Woods has e...\n",
      "8638     Nine years before, Jesse and Céline had met an...\n",
      "673      On a summer night in 1973, a young Michael Jor...\n",
      "Name: plot, Length: 172, dtype: object\n",
      "item\n",
      "267     U.S. Marine Corps Major Benson Winifred Payne,...\n",
      "1722    MI6 sends James Bond, agent 007, into the fiel...\n",
      "589     In 1995, John Connor is living in Los Angeles ...\n",
      "2470    Sue Charlton is a feature writer for her fathe...\n",
      "4326    In 1964, three civil rights workers — two Jewi...\n",
      "                              ...                        \n",
      "2791    As a parody film, Airplane! tells its story in...\n",
      "1291    In 1912, thirteen-year-old Indiana Jones is ho...\n",
      "608     In the winter of 1987, Jerry Lundegaard, the s...\n",
      "2       In 1869, near Brantford, New Hampshire, two br...\n",
      "2858    Lester Burnham is a middle-aged office worker ...\n",
      "Name: plot, Length: 157, dtype: object\n"
     ]
    },
    {
     "name": "stderr",
     "output_type": "stream",
     "text": [
      "C:\\Users\\Thom\\anaconda3\\lib\\site-packages\\sklearn\\neighbors\\_classification.py:211: FutureWarning: Unlike other reduction functions (e.g. `skew`, `kurtosis`), the default behavior of `mode` typically preserves the axis it acts along. In SciPy 1.11.0, this behavior will change: the default value of `keepdims` will become False, the `axis` over which the statistic is taken will be eliminated, and the value None will no longer be accepted. Set `keepdims` to True or False to avoid this warning.\n",
      "  mode, _ = stats.mode(_y[neigh_ind, k], axis=1)\n",
      "C:\\Users\\Thom\\anaconda3\\lib\\site-packages\\sklearn\\neighbors\\_classification.py:211: FutureWarning: Unlike other reduction functions (e.g. `skew`, `kurtosis`), the default behavior of `mode` typically preserves the axis it acts along. In SciPy 1.11.0, this behavior will change: the default value of `keepdims` will become False, the `axis` over which the statistic is taken will be eliminated, and the value None will no longer be accepted. Set `keepdims` to True or False to avoid this warning.\n",
      "  mode, _ = stats.mode(_y[neigh_ind, k], axis=1)\n"
     ]
    },
    {
     "name": "stdout",
     "output_type": "stream",
     "text": [
      "item\n",
      "5464      In 1931, during the Great Depression, Michael ...\n",
      "59784     In the Valley of Peace, a land in ancient Chin...\n",
      "48304     While hunting in the Mesoamerican rainforest, ...\n",
      "34405     In the 26th century, humanity has left an over...\n",
      "115617    Hiro Hamada is a 14-year-old robotics genius l...\n",
      "                                ...                        \n",
      "5810      In the Fall of 1995 in Detroit, Jimmy \"B-Rabbi...\n",
      "34150     Physicist Reed Richards is convinced evolution...\n",
      "6157      Matt Murdock is a blind lawyer in New York Cit...\n",
      "4036      In 1921, German director F. W. Murnau takes hi...\n",
      "45722     The wedding of Will Turner and Elizabeth Swann...\n",
      "Name: plot, Length: 108, dtype: object\n",
      "item\n",
      "6870     Three boys, Jimmy Markum, Sean Devine, and Dav...\n",
      "1393     Jerry Maguire (Tom Cruise) is a glossy 35-year...\n",
      "49910    In 1994, in Long Beach, California, Erin Gruwe...\n",
      "2000     Shortly after his 50th birthday, LAPD Homicide...\n",
      "3735     Working as a uniformed patrolman, Frank Serpic...\n",
      "                               ...                        \n",
      "5218     A saber-toothed squirrel (known as Scrat) is t...\n",
      "2590     In 1972, disenchanted about the dreary convent...\n",
      "5959     Undercover narcotics officer Nick Tellis chase...\n",
      "8798     Max Durocher (Jamie Foxx), a meticulous Los An...\n",
      "2529     Astronauts Taylor (Charlton Heston), Landon (R...\n",
      "Name: plot, Length: 312, dtype: object\n"
     ]
    },
    {
     "name": "stderr",
     "output_type": "stream",
     "text": [
      "C:\\Users\\Thom\\anaconda3\\lib\\site-packages\\sklearn\\neighbors\\_classification.py:211: FutureWarning: Unlike other reduction functions (e.g. `skew`, `kurtosis`), the default behavior of `mode` typically preserves the axis it acts along. In SciPy 1.11.0, this behavior will change: the default value of `keepdims` will become False, the `axis` over which the statistic is taken will be eliminated, and the value None will no longer be accepted. Set `keepdims` to True or False to avoid this warning.\n",
      "  mode, _ = stats.mode(_y[neigh_ind, k], axis=1)\n",
      "C:\\Users\\Thom\\anaconda3\\lib\\site-packages\\sklearn\\neighbors\\_classification.py:211: FutureWarning: Unlike other reduction functions (e.g. `skew`, `kurtosis`), the default behavior of `mode` typically preserves the axis it acts along. In SciPy 1.11.0, this behavior will change: the default value of `keepdims` will become False, the `axis` over which the statistic is taken will be eliminated, and the value None will no longer be accepted. Set `keepdims` to True or False to avoid this warning.\n",
      "  mode, _ = stats.mode(_y[neigh_ind, k], axis=1)\n",
      "C:\\Users\\Thom\\anaconda3\\lib\\site-packages\\sklearn\\neighbors\\_classification.py:211: FutureWarning: Unlike other reduction functions (e.g. `skew`, `kurtosis`), the default behavior of `mode` typically preserves the axis it acts along. In SciPy 1.11.0, this behavior will change: the default value of `keepdims` will become False, the `axis` over which the statistic is taken will be eliminated, and the value None will no longer be accepted. Set `keepdims` to True or False to avoid this warning.\n",
      "  mode, _ = stats.mode(_y[neigh_ind, k], axis=1)\n"
     ]
    },
    {
     "name": "stdout",
     "output_type": "stream",
     "text": [
      "item\n",
      "6539     While sailing to Port Royal, Jamaica, Governor...\n",
      "3535     In 1987, wealthy New York investment banker Pa...\n",
      "2028     An elderly veteran visits the Normandy America...\n",
      "8784     Struggling actor Andrew Largeman (Zach Braff) ...\n",
      "46976    Harold Crick, an agent for the Internal Revenu...\n",
      "                               ...                        \n",
      "344      Ace Ventura is an eccentric Miami-based privat...\n",
      "5502     Graham Hess (Mel Gibson), a former reverend, l...\n",
      "81834    Minister of Magic Rufus Scrimgeour addresses t...\n",
      "6377     Two clownfish, Marlin and Coral, admire their ...\n",
      "1265     Weatherman Phil Connors reassures Pittsburgh v...\n",
      "Name: plot, Length: 87, dtype: object\n",
      "item\n",
      "44191     In 2027, the world is in turmoil and warfare, ...\n",
      "1271      Evelyn Couch, a timid, unhappy housewife in he...\n",
      "177615    Christine \"Lady Bird\" McPherson is a senior st...\n",
      "2671      William \"Will\" Thacker owns an independent boo...\n",
      "4878      On October 2, 1988, troubled teenager Donald \"...\n",
      "                                ...                        \n",
      "2011      On October 26, 1985, Dr. Emmett Brown arrives ...\n",
      "81591     Nina Sayers is a 28-year-old dancer in a New Y...\n",
      "63082     18-year-old Jamal Malik, an Indian Muslim from...\n",
      "1961      Charlie Babbitt is in the middle of importing ...\n",
      "1485      In Los Angeles, career-focused lawyer Fletcher...\n",
      "Name: plot, Length: 91, dtype: object\n"
     ]
    },
    {
     "name": "stderr",
     "output_type": "stream",
     "text": [
      "C:\\Users\\Thom\\anaconda3\\lib\\site-packages\\sklearn\\neighbors\\_classification.py:211: FutureWarning: Unlike other reduction functions (e.g. `skew`, `kurtosis`), the default behavior of `mode` typically preserves the axis it acts along. In SciPy 1.11.0, this behavior will change: the default value of `keepdims` will become False, the `axis` over which the statistic is taken will be eliminated, and the value None will no longer be accepted. Set `keepdims` to True or False to avoid this warning.\n",
      "  mode, _ = stats.mode(_y[neigh_ind, k], axis=1)\n"
     ]
    },
    {
     "name": "stdout",
     "output_type": "stream",
     "text": [
      "item\n",
      "2384    Months after the events of the first film, Bab...\n",
      "2130    Sally (Susan Sarandon) is a young waitress in ...\n",
      "904     After breaking his leg photographing a racetra...\n",
      "3341    Uncouth tycoon Harry Brock (Broderick Crawford...\n",
      "1882    In the 1960s, a marine iguana nest is exposed ...\n",
      "                              ...                        \n",
      "6218    Jesminder \"Jess\" Bhamra (Parminder Nagra) is t...\n",
      "1704    Twenty-year-old Will Hunting of South Boston i...\n",
      "1222    During the United States' involvement in the V...\n",
      "17      On his deathbed, Mr. Dashwood tells his son fr...\n",
      "2065    Set in New Jersey during the Great Depression ...\n",
      "Name: plot, Length: 200, dtype: object\n"
     ]
    },
    {
     "name": "stderr",
     "output_type": "stream",
     "text": [
      "C:\\Users\\Thom\\anaconda3\\lib\\site-packages\\sklearn\\neighbors\\_classification.py:211: FutureWarning: Unlike other reduction functions (e.g. `skew`, `kurtosis`), the default behavior of `mode` typically preserves the axis it acts along. In SciPy 1.11.0, this behavior will change: the default value of `keepdims` will become False, the `axis` over which the statistic is taken will be eliminated, and the value None will no longer be accepted. Set `keepdims` to True or False to avoid this warning.\n",
      "  mode, _ = stats.mode(_y[neigh_ind, k], axis=1)\n"
     ]
    },
    {
     "name": "stdout",
     "output_type": "stream",
     "text": [
      "item\n",
      "2642    Gus Gorman, a chronically unemployed ne'er do ...\n",
      "2002    A week before his retirement, L.A.P.D. Sergean...\n",
      "2806    In Grandsboro, Northern California, Leigh Ann ...\n",
      "3877    Kara Zor-El lives in an isolated Kryptonian co...\n",
      "434     Rangers Gabriel \"Gabe\" Walker and Jessie Deigh...\n",
      "                              ...                        \n",
      "485     Danny Madigan is a teenager living in a crime-...\n",
      "196     During the SETI program, Earth's scientists se...\n",
      "76      In the year 2078, the planet Sirius 6B, once a...\n",
      "2959    The unnamed Narrator is a traveling automobile...\n",
      "1552    Honorably discharged Army Ranger Cameron Poe i...\n",
      "Name: plot, Length: 233, dtype: object\n"
     ]
    },
    {
     "name": "stderr",
     "output_type": "stream",
     "text": [
      "C:\\Users\\Thom\\anaconda3\\lib\\site-packages\\sklearn\\neighbors\\_classification.py:211: FutureWarning: Unlike other reduction functions (e.g. `skew`, `kurtosis`), the default behavior of `mode` typically preserves the axis it acts along. In SciPy 1.11.0, this behavior will change: the default value of `keepdims` will become False, the `axis` over which the statistic is taken will be eliminated, and the value None will no longer be accepted. Set `keepdims` to True or False to avoid this warning.\n",
      "  mode, _ = stats.mode(_y[neigh_ind, k], axis=1)\n",
      "C:\\Users\\Thom\\anaconda3\\lib\\site-packages\\sklearn\\neighbors\\_classification.py:211: FutureWarning: Unlike other reduction functions (e.g. `skew`, `kurtosis`), the default behavior of `mode` typically preserves the axis it acts along. In SciPy 1.11.0, this behavior will change: the default value of `keepdims` will become False, the `axis` over which the statistic is taken will be eliminated, and the value None will no longer be accepted. Set `keepdims` to True or False to avoid this warning.\n",
      "  mode, _ = stats.mode(_y[neigh_ind, k], axis=1)\n"
     ]
    },
    {
     "name": "stdout",
     "output_type": "stream",
     "text": [
      "item\n",
      "4865     In 1888, Mary Kelly (Heather Graham) and her s...\n",
      "5673     Barry Egan is a single man who owns a company ...\n",
      "32587    The Salesman walks onto a penthouse balcony wh...\n",
      "3438     As a crime wave rises in New York City, report...\n",
      "1784     Melvin Udall is a misanthrope who works at hom...\n",
      "                               ...                        \n",
      "2329     High school student Danny Vinyard receives an ...\n",
      "2115     In 1935, Indiana Jones narrowly escapes the cl...\n",
      "1584     Dr. Ellie Arroway works for the SETI program a...\n",
      "1517     In 1967, British spy Austin Powers thwarts an ...\n",
      "55232    Alice (Milla Jovovich) wakes up disoriented in...\n",
      "Name: plot, Length: 88, dtype: object\n",
      "item\n",
      "69      Craig Jones, a young man living in South Centr...\n",
      "2797     Twelve-year-old Josh Baskin, who lives with h...\n",
      "1214    The commercial space tug Nostromo is on a retu...\n",
      "3087    IBC Television president Frank Cross is pushin...\n",
      "1080    Brian Cohen is born in a stable next door to t...\n",
      "                              ...                        \n",
      "3793    In Nazi-occupied Poland, 12-year-old Erik Lehn...\n",
      "2174    Barbara and Adam Maitland decide to spend thei...\n",
      "1278    Dr. Frederick Frankenstein is a lecturing phys...\n",
      "2231    Gifted poker player and law student Mike McDer...\n",
      "5650    Two unemployed brothers, Bob and Doug McKenzie...\n",
      "Name: plot, Length: 89, dtype: object\n"
     ]
    },
    {
     "name": "stderr",
     "output_type": "stream",
     "text": [
      "C:\\Users\\Thom\\anaconda3\\lib\\site-packages\\sklearn\\neighbors\\_classification.py:211: FutureWarning: Unlike other reduction functions (e.g. `skew`, `kurtosis`), the default behavior of `mode` typically preserves the axis it acts along. In SciPy 1.11.0, this behavior will change: the default value of `keepdims` will become False, the `axis` over which the statistic is taken will be eliminated, and the value None will no longer be accepted. Set `keepdims` to True or False to avoid this warning.\n",
      "  mode, _ = stats.mode(_y[neigh_ind, k], axis=1)\n"
     ]
    },
    {
     "name": "stdout",
     "output_type": "stream",
     "text": [
      "item\n",
      "39      Cheryl \"Cher\" Horowitz is a well-intentioned b...\n",
      "6565    Three men, Red Pollard (Tobey Maguire), Charle...\n",
      "1961    Charlie Babbitt is in the middle of importing ...\n",
      "3448    In 1965, Airman First Class Adrian Cronauer ar...\n",
      "5873    William Hundert works at a boarding school for...\n",
      "                              ...                        \n",
      "1367    American video game designer Roger Dearly (Dan...\n",
      "4025    In 1982, a very young Gracie Hart steps into a...\n",
      "6377    Two clownfish, Marlin and Coral, admire their ...\n",
      "5816    Harry Potter spends the summer with The Dursle...\n",
      "1381    It is 1961, two years after the original Greas...\n",
      "Name: plot, Length: 153, dtype: object\n"
     ]
    },
    {
     "name": "stderr",
     "output_type": "stream",
     "text": [
      "C:\\Users\\Thom\\anaconda3\\lib\\site-packages\\sklearn\\neighbors\\_classification.py:211: FutureWarning: Unlike other reduction functions (e.g. `skew`, `kurtosis`), the default behavior of `mode` typically preserves the axis it acts along. In SciPy 1.11.0, this behavior will change: the default value of `keepdims` will become False, the `axis` over which the statistic is taken will be eliminated, and the value None will no longer be accepted. Set `keepdims` to True or False to avoid this warning.\n",
      "  mode, _ = stats.mode(_y[neigh_ind, k], axis=1)\n"
     ]
    },
    {
     "name": "stdout",
     "output_type": "stream",
     "text": [
      "item\n",
      "8798     Max Durocher (Jamie Foxx), a meticulous Los An...\n",
      "924      In an African desert millions of years ago, a ...\n",
      "1955     Ted Kramer (Dustin Hoffman) is a workaholic ad...\n",
      "7369     Mystery Inc. (Fred, Daphne, Velma, Shaggy and ...\n",
      "923      In a mansion in Xanadu, a vast palatial estate...\n",
      "                               ...                        \n",
      "6708     Roy Waller (Nicolas Cage) is a con artist resi...\n",
      "53121    Prince Charming vows that he will become King ...\n",
      "587      Sam Wheat, a banker, and his girlfriend Molly ...\n",
      "56788    In 1980, Congressman Charlie Wilson is more in...\n",
      "3461     A group of British schoolboys, living in the m...\n",
      "Name: plot, Length: 483, dtype: object\n"
     ]
    },
    {
     "name": "stderr",
     "output_type": "stream",
     "text": [
      "C:\\Users\\Thom\\anaconda3\\lib\\site-packages\\sklearn\\neighbors\\_classification.py:211: FutureWarning: Unlike other reduction functions (e.g. `skew`, `kurtosis`), the default behavior of `mode` typically preserves the axis it acts along. In SciPy 1.11.0, this behavior will change: the default value of `keepdims` will become False, the `axis` over which the statistic is taken will be eliminated, and the value None will no longer be accepted. Set `keepdims` to True or False to avoid this warning.\n",
      "  mode, _ = stats.mode(_y[neigh_ind, k], axis=1)\n"
     ]
    },
    {
     "name": "stdout",
     "output_type": "stream",
     "text": [
      "item\n",
      "6333    At the White House, brainwashed teleporting mu...\n",
      "5266    Recently divorced Meg Altman, and her eleven-y...\n",
      "2443    Among the characters are an older couple about...\n",
      "3882    Torrance Shipman, a student at Rancho Carne Hi...\n",
      "3998    Alice Bowman (Meg Ryan) moves to the (fictiona...\n",
      "                              ...                        \n",
      "3198    Henri Charrière (Steve McQueen), a safecracker...\n",
      "3033    Planet Spaceball, led by the incompetent Presi...\n",
      "2805    Michael Felgate is an English auctioneer livin...\n",
      "2502    Peter Gibbons is a programmer at a company cal...\n",
      "2551    Elliot and Beverly Mantle are identical twins ...\n",
      "Name: plot, Length: 482, dtype: object\n"
     ]
    },
    {
     "name": "stderr",
     "output_type": "stream",
     "text": [
      "C:\\Users\\Thom\\anaconda3\\lib\\site-packages\\sklearn\\neighbors\\_classification.py:211: FutureWarning: Unlike other reduction functions (e.g. `skew`, `kurtosis`), the default behavior of `mode` typically preserves the axis it acts along. In SciPy 1.11.0, this behavior will change: the default value of `keepdims` will become False, the `axis` over which the statistic is taken will be eliminated, and the value None will no longer be accepted. Set `keepdims` to True or False to avoid this warning.\n",
      "  mode, _ = stats.mode(_y[neigh_ind, k], axis=1)\n",
      "C:\\Users\\Thom\\anaconda3\\lib\\site-packages\\sklearn\\neighbors\\_classification.py:211: FutureWarning: Unlike other reduction functions (e.g. `skew`, `kurtosis`), the default behavior of `mode` typically preserves the axis it acts along. In SciPy 1.11.0, this behavior will change: the default value of `keepdims` will become False, the `axis` over which the statistic is taken will be eliminated, and the value None will no longer be accepted. Set `keepdims` to True or False to avoid this warning.\n",
      "  mode, _ = stats.mode(_y[neigh_ind, k], axis=1)\n"
     ]
    },
    {
     "name": "stdout",
     "output_type": "stream",
     "text": [
      "item\n",
      "1371    In 2271, a Starfleet monitoring station, Epsil...\n",
      "3740    Big-talking rough-and-tumble truck driver Jack...\n",
      "902     Early one morning, a taxi pulls up at Tiffany ...\n",
      "4027    Three convicts, Ulysses Everett McGill, Pete H...\n",
      "2916    Construction worker Douglas Quaid is having tr...\n",
      "                              ...                        \n",
      "3638    A Drax Industries Moonraker space shuttle on l...\n",
      "3471    In the Sonoran Desert, French scientist Claude...\n",
      "3516    During the Christmas holiday season, Greenwich...\n",
      "2713    In Aroostook County, Maine, Marine fish and Ga...\n",
      "5472    While General George Washington is conducting ...\n",
      "Name: plot, Length: 116, dtype: object\n",
      "item\n",
      "6377    Two clownfish, Marlin and Coral, admire their ...\n",
      "5954    A canary yellow vintage Super Bee pulls up sho...\n",
      "1200    Ellen Ripley has been in stasis in a shuttle f...\n",
      "590     In 1863, First Lieutenant John J. Dunbar is wo...\n",
      "2329    High school student Danny Vinyard receives an ...\n",
      "                              ...                        \n",
      "1222    During the United States' involvement in the V...\n",
      "3328    Ghost Dog sees himself as a retainer of Louie,...\n",
      "7445    In 2003, burnt-out former CIA Special Activiti...\n",
      "25      Ben Sanderson is a Hollywood screenwriter whos...\n",
      "8874    Shaun is an electronics salesman with no direc...\n",
      "Name: plot, Length: 96, dtype: object\n"
     ]
    },
    {
     "name": "stderr",
     "output_type": "stream",
     "text": [
      "C:\\Users\\Thom\\anaconda3\\lib\\site-packages\\sklearn\\neighbors\\_classification.py:211: FutureWarning: Unlike other reduction functions (e.g. `skew`, `kurtosis`), the default behavior of `mode` typically preserves the axis it acts along. In SciPy 1.11.0, this behavior will change: the default value of `keepdims` will become False, the `axis` over which the statistic is taken will be eliminated, and the value None will no longer be accepted. Set `keepdims` to True or False to avoid this warning.\n",
      "  mode, _ = stats.mode(_y[neigh_ind, k], axis=1)\n",
      "C:\\Users\\Thom\\anaconda3\\lib\\site-packages\\sklearn\\neighbors\\_classification.py:211: FutureWarning: Unlike other reduction functions (e.g. `skew`, `kurtosis`), the default behavior of `mode` typically preserves the axis it acts along. In SciPy 1.11.0, this behavior will change: the default value of `keepdims` will become False, the `axis` over which the statistic is taken will be eliminated, and the value None will no longer be accepted. Set `keepdims` to True or False to avoid this warning.\n",
      "  mode, _ = stats.mode(_y[neigh_ind, k], axis=1)\n"
     ]
    },
    {
     "name": "stdout",
     "output_type": "stream",
     "text": [
      "item\n",
      "1097    While visiting the earth in a California fores...\n",
      "1805    A popular Miami area high school guidance coun...\n",
      "190     Set in an affluent neighborhood of the San Fer...\n",
      "553     In 1879, members of the outlaw gang known as t...\n",
      "2329    High school student Danny Vinyard receives an ...\n",
      "                              ...                        \n",
      "3347    Young, naive Canadian biologist Tyler (Charles...\n",
      "3535    In 1987, wealthy New York investment banker Pa...\n",
      "233     A tax auditor for Revenue Canada, Francis Brow...\n",
      "3510    In October 1969, firefighter Frank Sullivan (Q...\n",
      "2166    Three friends, Lewis McBride, Sheriff and Tony...\n",
      "Name: plot, Length: 107, dtype: object\n",
      "item\n",
      "1393    Jerry Maguire (Tom Cruise) is a glossy 35-year...\n",
      "4718    After their freshman year at college, the four...\n",
      "1213    In 1955, Henry Hill works for Paul \"Paulie\" Ci...\n",
      "4014    An unnamed female storyteller narrates the sto...\n",
      "1274    In July 1988, a massive explosion annihilates ...\n",
      "                              ...                        \n",
      "1259    Author Gordie Lachance reads in the newspaper ...\n",
      "2997    Craig Schwartz is an unemployed puppeteer in a...\n",
      "2080    On Christmas morning, 1909, in a quaint Midwes...\n",
      "1876    On May 10, 1998, teenaged amateur astronomer L...\n",
      "1089    Eight men eat breakfast at a Los Angeles diner...\n",
      "Name: plot, Length: 114, dtype: object\n"
     ]
    },
    {
     "name": "stderr",
     "output_type": "stream",
     "text": [
      "C:\\Users\\Thom\\anaconda3\\lib\\site-packages\\sklearn\\neighbors\\_classification.py:211: FutureWarning: Unlike other reduction functions (e.g. `skew`, `kurtosis`), the default behavior of `mode` typically preserves the axis it acts along. In SciPy 1.11.0, this behavior will change: the default value of `keepdims` will become False, the `axis` over which the statistic is taken will be eliminated, and the value None will no longer be accepted. Set `keepdims` to True or False to avoid this warning.\n",
      "  mode, _ = stats.mode(_y[neigh_ind, k], axis=1)\n",
      "C:\\Users\\Thom\\anaconda3\\lib\\site-packages\\sklearn\\neighbors\\_classification.py:211: FutureWarning: Unlike other reduction functions (e.g. `skew`, `kurtosis`), the default behavior of `mode` typically preserves the axis it acts along. In SciPy 1.11.0, this behavior will change: the default value of `keepdims` will become False, the `axis` over which the statistic is taken will be eliminated, and the value None will no longer be accepted. Set `keepdims` to True or False to avoid this warning.\n",
      "  mode, _ = stats.mode(_y[neigh_ind, k], axis=1)\n"
     ]
    },
    {
     "name": "stdout",
     "output_type": "stream",
     "text": [
      "item\n",
      "7361     Shy, soft-spoken Joel Barish and unrestrained ...\n",
      "6218     Jesminder \"Jess\" Bhamra (Parminder Nagra) is t...\n",
      "2003     Randall Peltzer, a struggling inventor, visits...\n",
      "41997    At the 1972 Munich Olympics, the Palestinian t...\n",
      "4022     In December 1995, Chuck Noland is a time-obses...\n",
      "                               ...                        \n",
      "5292     In the fictional small town of Charlestown, th...\n",
      "1704     Twenty-year-old Will Hunting of South Boston i...\n",
      "1091     Larry Wilson (Andrew McCarthy) and Richard Par...\n",
      "37741    In 1959, the four dead bodies of the Clutter f...\n",
      "6947     During the Napoleonic Wars, Captain Jack Aubre...\n",
      "Name: plot, Length: 194, dtype: object\n",
      "item\n",
      "2321     David and his twin sister Jennifer lead very d...\n",
      "5816     Harry Potter spends the summer with The Dursle...\n",
      "6333     At the White House, brainwashed teleporting mu...\n",
      "480      Industrialist John Hammond and his bioengineer...\n",
      "4571     In 1988 San Dimas, California, slackers Bill a...\n",
      "                               ...                        \n",
      "10       In 1986, at Arkhangelsk, MI6 agents James Bond...\n",
      "852      Roy \"Tin Cup\" McAvoy (Kevin Costner) is a form...\n",
      "6708     Roy Waller (Nicolas Cage) is a con artist resi...\n",
      "46970    Ricky Bobby is a man who grew up dreaming of g...\n",
      "508      Andrew Beckett is a senior associate at the la...\n",
      "Name: plot, Length: 196, dtype: object\n"
     ]
    },
    {
     "name": "stderr",
     "output_type": "stream",
     "text": [
      "C:\\Users\\Thom\\anaconda3\\lib\\site-packages\\sklearn\\neighbors\\_classification.py:211: FutureWarning: Unlike other reduction functions (e.g. `skew`, `kurtosis`), the default behavior of `mode` typically preserves the axis it acts along. In SciPy 1.11.0, this behavior will change: the default value of `keepdims` will become False, the `axis` over which the statistic is taken will be eliminated, and the value None will no longer be accepted. Set `keepdims` to True or False to avoid this warning.\n",
      "  mode, _ = stats.mode(_y[neigh_ind, k], axis=1)\n",
      "C:\\Users\\Thom\\anaconda3\\lib\\site-packages\\sklearn\\neighbors\\_classification.py:211: FutureWarning: Unlike other reduction functions (e.g. `skew`, `kurtosis`), the default behavior of `mode` typically preserves the axis it acts along. In SciPy 1.11.0, this behavior will change: the default value of `keepdims` will become False, the `axis` over which the statistic is taken will be eliminated, and the value None will no longer be accepted. Set `keepdims` to True or False to avoid this warning.\n",
      "  mode, _ = stats.mode(_y[neigh_ind, k], axis=1)\n"
     ]
    },
    {
     "name": "stdout",
     "output_type": "stream",
     "text": [
      "item\n",
      "3329    In the 1960s, Danny, a thin, socially awkward ...\n",
      "2872    The sorcerer Merlin retrieves Excalibur from t...\n",
      "3526    Gil Buckman, a neurotic sales executive, is tr...\n",
      "1957    In 1919, Harold Abrahams (Ben Cross) enters th...\n",
      "2989    The British information gathering vessel St Ge...\n",
      "                              ...                        \n",
      "1485    In Los Angeles, career-focused lawyer Fletcher...\n",
      "44      Mortal Kombat is a fighting tournament between...\n",
      "2291    An elderly woman tells her granddaughter the s...\n",
      "377     Los Angeles Police Department (LAPD) SWAT offi...\n",
      "2712    Dr. Bill Harford and Alice are a young married...\n",
      "Name: plot, Length: 195, dtype: object\n",
      "item\n",
      "68157     In 1941, SS colonel Hans Landa interrogates Fr...\n",
      "72998     In 2154, humans have depleted Earth's natural ...\n",
      "2005      Facing foreclosure of their homes in the Goon ...\n",
      "68237     In the near future,[3] Lunar Industries has ma...\n",
      "79702     In Toronto, 23-year-old Scott Pilgrim is a bas...\n",
      "                                ...                        \n",
      "177593    In the town of Ebbing, Missouri, Mildred Hayes...\n",
      "51540     On July 4, 1969, an unknown man attacks Darlen...\n",
      "64614     Walt Kowalski (Clint Eastwood) is a cantankero...\n",
      "122916    Two years after the battle of Sokovia,[N 1] Th...\n",
      "112852    In 1988, following his mother's death, a young...\n",
      "Name: plot, Length: 117, dtype: object\n",
      "item\n",
      "930     In April 1946, Alicia Huberman (Ingrid Bergman...\n",
      "1265    Weatherman Phil Connors reassures Pittsburgh v...\n",
      "1394    Convenience store robber Herbert I. \"Hi\" McDun...\n",
      "2858    Lester Burnham is a middle-aged office worker ...\n",
      "1948    The story begins with a silent film sequence d...\n",
      "                              ...                        \n",
      "1256    The wealthy Mrs. Teasdale (Margaret Dumont) in...\n",
      "4007    In 1985, Bud Fox (Charlie Sheen) is working as...\n",
      "910     It is February 1929 in the city of Chicago, du...\n",
      "125     Mel Coplin and his wife, Nancy, live in New Yo...\n",
      "3685    Charley Partanna is a hit man for a New York c...\n",
      "Name: plot, Length: 86, dtype: object\n"
     ]
    },
    {
     "name": "stderr",
     "output_type": "stream",
     "text": [
      "C:\\Users\\Thom\\anaconda3\\lib\\site-packages\\sklearn\\neighbors\\_classification.py:211: FutureWarning: Unlike other reduction functions (e.g. `skew`, `kurtosis`), the default behavior of `mode` typically preserves the axis it acts along. In SciPy 1.11.0, this behavior will change: the default value of `keepdims` will become False, the `axis` over which the statistic is taken will be eliminated, and the value None will no longer be accepted. Set `keepdims` to True or False to avoid this warning.\n",
      "  mode, _ = stats.mode(_y[neigh_ind, k], axis=1)\n",
      "C:\\Users\\Thom\\anaconda3\\lib\\site-packages\\sklearn\\neighbors\\_classification.py:211: FutureWarning: Unlike other reduction functions (e.g. `skew`, `kurtosis`), the default behavior of `mode` typically preserves the axis it acts along. In SciPy 1.11.0, this behavior will change: the default value of `keepdims` will become False, the `axis` over which the statistic is taken will be eliminated, and the value None will no longer be accepted. Set `keepdims` to True or False to avoid this warning.\n",
      "  mode, _ = stats.mode(_y[neigh_ind, k], axis=1)\n"
     ]
    },
    {
     "name": "stdout",
     "output_type": "stream",
     "text": [
      "item\n",
      "218     Three unique women embark on a cross-country r...\n",
      "2100    In 1964, 8-year-old Allen Bauer (David Kreps) ...\n",
      "1018    \"Darn Cat\" or \"DC\" is a wily, adventurous Siam...\n",
      "2195    Growing up, friends Mitch Weaver (Norm Macdona...\n",
      "95      Major Vic Deakins (John Travolta) and Captain ...\n",
      "                              ...                        \n",
      "1883    In March 1996, Democratic U.S. Senator Jay Bul...\n",
      "2411    Ivan Drago, a Soviet boxer, arrives in the Uni...\n",
      "2537    The capsized luxury liner S.S. Poseidon is sti...\n",
      "3361    \"Crash\" Davis (Costner), a veteran of 12 years...\n",
      "1626    In the peaceful Appalachian hills of eastern K...\n",
      "Name: plot, Length: 352, dtype: object\n"
     ]
    },
    {
     "name": "stderr",
     "output_type": "stream",
     "text": [
      "C:\\Users\\Thom\\anaconda3\\lib\\site-packages\\sklearn\\neighbors\\_classification.py:211: FutureWarning: Unlike other reduction functions (e.g. `skew`, `kurtosis`), the default behavior of `mode` typically preserves the axis it acts along. In SciPy 1.11.0, this behavior will change: the default value of `keepdims` will become False, the `axis` over which the statistic is taken will be eliminated, and the value None will no longer be accepted. Set `keepdims` to True or False to avoid this warning.\n",
      "  mode, _ = stats.mode(_y[neigh_ind, k], axis=1)\n"
     ]
    },
    {
     "name": "stdout",
     "output_type": "stream",
     "text": [
      "item\n",
      "6188     Upon returning home early from a business trip...\n",
      "1747     The President is caught making advances on an ...\n",
      "1573     FBI Special Agent Sean Archer (John Travolta) ...\n",
      "930      In April 1946, Alicia Huberman (Ingrid Bergman...\n",
      "541      In 2019 Los Angeles, former police officer Ric...\n",
      "                               ...                        \n",
      "1920     Top defense contractor GloboTech Industries ac...\n",
      "3752     Charlie Baileygates (Jim Carrey) is a veteran ...\n",
      "4052     Working with his three friends at their new so...\n",
      "46965    After witnessing California-based gang boss Ed...\n",
      "8957     Adam, a photographer, awakens in a bathtub in ...\n",
      "Name: plot, Length: 272, dtype: object\n"
     ]
    },
    {
     "name": "stderr",
     "output_type": "stream",
     "text": [
      "C:\\Users\\Thom\\anaconda3\\lib\\site-packages\\sklearn\\neighbors\\_classification.py:211: FutureWarning: Unlike other reduction functions (e.g. `skew`, `kurtosis`), the default behavior of `mode` typically preserves the axis it acts along. In SciPy 1.11.0, this behavior will change: the default value of `keepdims` will become False, the `axis` over which the statistic is taken will be eliminated, and the value None will no longer be accepted. Set `keepdims` to True or False to avoid this warning.\n",
      "  mode, _ = stats.mode(_y[neigh_ind, k], axis=1)\n",
      "C:\\Users\\Thom\\anaconda3\\lib\\site-packages\\sklearn\\neighbors\\_classification.py:211: FutureWarning: Unlike other reduction functions (e.g. `skew`, `kurtosis`), the default behavior of `mode` typically preserves the axis it acts along. In SciPy 1.11.0, this behavior will change: the default value of `keepdims` will become False, the `axis` over which the statistic is taken will be eliminated, and the value None will no longer be accepted. Set `keepdims` to True or False to avoid this warning.\n",
      "  mode, _ = stats.mode(_y[neigh_ind, k], axis=1)\n"
     ]
    },
    {
     "name": "stdout",
     "output_type": "stream",
     "text": [
      "item\n",
      "736      One stormy night in June 1969, a monstrous F5 ...\n",
      "608      In the winter of 1987, Jerry Lundegaard, the s...\n",
      "5349     High-school senior Peter Parker lives with his...\n",
      "6        Neil McCauley, a career criminal, hires Waingr...\n",
      "5872     MI6 officer James Bond—agent 007—infiltrates a...\n",
      "                               ...                        \n",
      "4226     The film starts with the Polaroid photograph o...\n",
      "4011     After stealing an 86-carat (17.2 g) diamond in...\n",
      "61160    During the Clone Wars, Jedi Knights Anakin Sky...\n",
      "2028     An elderly veteran visits the Normandy America...\n",
      "57368    The film is presented as footage from a person...\n",
      "Name: plot, Length: 110, dtype: object\n",
      "item\n",
      "3671    In the American frontier of 1874, construction...\n",
      "4321    In New York City, Mitch Robbins, a radio adver...\n",
      "3897    In 1969, child prodigy William Miller struggle...\n",
      "2921    A mysterious stranger rides out of the desert ...\n",
      "1208    In 1969, during the Vietnam War, United States...\n",
      "                              ...                        \n",
      "7076    Ambitious San Francisco politician Walter Chal...\n",
      "2301    The film is a parody of the historical spectac...\n",
      "3253    In Aurora, Illinois, rock and roll fans Wayne ...\n",
      "1674    In 1984, an Amish community attends the funera...\n",
      "6711    Bob Harris, an aging American movie star, arri...\n",
      "Name: plot, Length: 156, dtype: object\n"
     ]
    },
    {
     "name": "stderr",
     "output_type": "stream",
     "text": [
      "C:\\Users\\Thom\\anaconda3\\lib\\site-packages\\sklearn\\neighbors\\_classification.py:211: FutureWarning: Unlike other reduction functions (e.g. `skew`, `kurtosis`), the default behavior of `mode` typically preserves the axis it acts along. In SciPy 1.11.0, this behavior will change: the default value of `keepdims` will become False, the `axis` over which the statistic is taken will be eliminated, and the value None will no longer be accepted. Set `keepdims` to True or False to avoid this warning.\n",
      "  mode, _ = stats.mode(_y[neigh_ind, k], axis=1)\n",
      "C:\\Users\\Thom\\anaconda3\\lib\\site-packages\\sklearn\\neighbors\\_classification.py:211: FutureWarning: Unlike other reduction functions (e.g. `skew`, `kurtosis`), the default behavior of `mode` typically preserves the axis it acts along. In SciPy 1.11.0, this behavior will change: the default value of `keepdims` will become False, the `axis` over which the statistic is taken will be eliminated, and the value None will no longer be accepted. Set `keepdims` to True or False to avoid this warning.\n",
      "  mode, _ = stats.mode(_y[neigh_ind, k], axis=1)\n"
     ]
    },
    {
     "name": "stdout",
     "output_type": "stream",
     "text": [
      "item\n",
      "49651    Rocky Balboa, now in his late fifties and reti...\n",
      "56367    Sixteen-year-old Minnesota high-schooler Juno ...\n",
      "87869    Nick Hendricks and Dale Arbus are friends who ...\n",
      "42011    In the year 2000, Dick Harper (Jim Carrey) has...\n",
      "6539     While sailing to Port Royal, Jamaica, Governor...\n",
      "                               ...                        \n",
      "5989     In 1963, teenaged Frank Abagnale lives in New ...\n",
      "59900    Zohan Dvir (Adam Sandler) is a superhuman Isra...\n",
      "1270     In 1985 Hill Valley, California, teenager Mart...\n",
      "1092     In San Francisco, homicide detective Nick Curr...\n",
      "296      Hitmen Jules Winnfield and Vincent Vega arrive...\n",
      "Name: plot, Length: 118, dtype: object\n",
      "item\n",
      "7325     In the 1970s, detectives David Starsky and Ken...\n",
      "500      Daniel Hillard is a freelance voice actor in S...\n",
      "1136     In 932 AD, King Arthur and his squire, Patsy, ...\n",
      "8949     Miles Raymond is an unsuccessful writer, a win...\n",
      "5107     During the Battle of the Bulge in World War II...\n",
      "                               ...                        \n",
      "56805    Dewey Cox begins his quest for stardom in Spri...\n",
      "765      The film begins with Karen Powell (Diane Lane)...\n",
      "5500     Nick Rivers, an American rock star (\"Skeet Sur...\n",
      "3440     In 1593, in feudal Japan, a young man is being...\n",
      "150      In July 1969, astronaut Jim Lovell hosts a hou...\n",
      "Name: plot, Length: 294, dtype: object\n"
     ]
    },
    {
     "name": "stderr",
     "output_type": "stream",
     "text": [
      "C:\\Users\\Thom\\anaconda3\\lib\\site-packages\\sklearn\\neighbors\\_classification.py:211: FutureWarning: Unlike other reduction functions (e.g. `skew`, `kurtosis`), the default behavior of `mode` typically preserves the axis it acts along. In SciPy 1.11.0, this behavior will change: the default value of `keepdims` will become False, the `axis` over which the statistic is taken will be eliminated, and the value None will no longer be accepted. Set `keepdims` to True or False to avoid this warning.\n",
      "  mode, _ = stats.mode(_y[neigh_ind, k], axis=1)\n"
     ]
    },
    {
     "name": "stdout",
     "output_type": "stream",
     "text": [
      "item\n",
      "31685    Alex \"Hitch\" Hitchens (Will Smith) is a profes...\n",
      "4039     In 1933, during the Great Depression, a young ...\n",
      "52458    Troubled by the death of his father (Matt Crav...\n",
      "7142     Honey Daniels holds down jobs as a bartender, ...\n",
      "40826    On Christmas Eve 1989, aspiring filmmaker Mark...\n",
      "                               ...                        \n",
      "61323    Faced with a demotion at work due to a drinkin...\n",
      "8866     Peter Colt, a British professional tennis play...\n",
      "527      In Kraków during World War II, the Germans hav...\n",
      "51935    Bob Lee Swagger reluctantly leaves a self-impo...\n",
      "8937     As preseason practice begins for the Permian H...\n",
      "Name: plot, Length: 464, dtype: object\n"
     ]
    },
    {
     "name": "stderr",
     "output_type": "stream",
     "text": [
      "C:\\Users\\Thom\\anaconda3\\lib\\site-packages\\sklearn\\neighbors\\_classification.py:211: FutureWarning: Unlike other reduction functions (e.g. `skew`, `kurtosis`), the default behavior of `mode` typically preserves the axis it acts along. In SciPy 1.11.0, this behavior will change: the default value of `keepdims` will become False, the `axis` over which the statistic is taken will be eliminated, and the value None will no longer be accepted. Set `keepdims` to True or False to avoid this warning.\n",
      "  mode, _ = stats.mode(_y[neigh_ind, k], axis=1)\n",
      "C:\\Users\\Thom\\anaconda3\\lib\\site-packages\\sklearn\\neighbors\\_classification.py:211: FutureWarning: Unlike other reduction functions (e.g. `skew`, `kurtosis`), the default behavior of `mode` typically preserves the axis it acts along. In SciPy 1.11.0, this behavior will change: the default value of `keepdims` will become False, the `axis` over which the statistic is taken will be eliminated, and the value None will no longer be accepted. Set `keepdims` to True or False to avoid this warning.\n",
      "  mode, _ = stats.mode(_y[neigh_ind, k], axis=1)\n"
     ]
    },
    {
     "name": "stdout",
     "output_type": "stream",
     "text": [
      "item\n",
      "65      Bud \"Squirrel\" Macintosh and Doyle \"Stubs\" Joh...\n",
      "1378    John Tunstall (Terence Stamp), an educated Eng...\n",
      "2253    Kenneth Zevo, the owner of the Zevo Toys facto...\n",
      "4638    Ben Hildebrand and 12-year-old Eric Kirby go p...\n",
      "1587    A sword is forged by a blacksmith, who then sh...\n",
      "                              ...                        \n",
      "594     Snow White is a lonely princess living with he...\n",
      "4239    A young George Jung and his parents Fred and E...\n",
      "762     Former FBI secretary Erin Grant (Demi Moore), ...\n",
      "2414    Teenagers Sherlock Holmes and John Watson meet...\n",
      "1021    Young foster child Roger (Joseph Gordon-Levitt...\n",
      "Name: plot, Length: 110, dtype: object\n",
      "item\n",
      "1704     Twenty-year-old Will Hunting of South Boston i...\n",
      "6377     Two clownfish, Marlin and Coral, admire their ...\n",
      "2470     Sue Charlton is a feature writer for her fathe...\n",
      "4011     After stealing an 86-carat (17.2 g) diamond in...\n",
      "595      One winter's night, an enchantress disguised a...\n",
      "                               ...                        \n",
      "5464     In 1931, during the Great Depression, Michael ...\n",
      "524      In the late 1960s, Daniel Eugene \"Rudy\" Ruetti...\n",
      "4880     George Monroe, an architectural model fabricat...\n",
      "52973    Alison Scott (Katherine Heigl) is a career-min...\n",
      "3578     In AD 180, Hispano-Roman General Maximus Decim...\n",
      "Name: plot, Length: 152, dtype: object\n"
     ]
    },
    {
     "name": "stderr",
     "output_type": "stream",
     "text": [
      "C:\\Users\\Thom\\anaconda3\\lib\\site-packages\\sklearn\\neighbors\\_classification.py:211: FutureWarning: Unlike other reduction functions (e.g. `skew`, `kurtosis`), the default behavior of `mode` typically preserves the axis it acts along. In SciPy 1.11.0, this behavior will change: the default value of `keepdims` will become False, the `axis` over which the statistic is taken will be eliminated, and the value None will no longer be accepted. Set `keepdims` to True or False to avoid this warning.\n",
      "  mode, _ = stats.mode(_y[neigh_ind, k], axis=1)\n",
      "C:\\Users\\Thom\\anaconda3\\lib\\site-packages\\sklearn\\neighbors\\_classification.py:211: FutureWarning: Unlike other reduction functions (e.g. `skew`, `kurtosis`), the default behavior of `mode` typically preserves the axis it acts along. In SciPy 1.11.0, this behavior will change: the default value of `keepdims` will become False, the `axis` over which the statistic is taken will be eliminated, and the value None will no longer be accepted. Set `keepdims` to True or False to avoid this warning.\n",
      "  mode, _ = stats.mode(_y[neigh_ind, k], axis=1)\n"
     ]
    },
    {
     "name": "stdout",
     "output_type": "stream",
     "text": [
      "item\n",
      "1387     During a beach party at dusk on Amity Island, ...\n",
      "1246     In the autumn of 1959, shy Todd Anderson begin...\n",
      "80969    The film begins with on-screen captions explai...\n",
      "4239     A young George Jung and his parents Fred and E...\n",
      "95167    In Medieval Scotland, Princess Merida of the c...\n",
      "                               ...                        \n",
      "28       The film opens by cutting back and forth betwe...\n",
      "4011     After stealing an 86-carat (17.2 g) diamond in...\n",
      "40815    Harry Potter awakens from a nightmare wherein ...\n",
      "32587    The Salesman walks onto a penthouse balcony wh...\n",
      "5816     Harry Potter spends the summer with The Dursle...\n",
      "Name: plot, Length: 86, dtype: object\n",
      "item\n",
      "1291      In 1912, thirteen-year-old Indiana Jones is ho...\n",
      "88163     Cal Weaver is a middle-aged man who is told by...\n",
      "104211    A small-time cannabis dealer named David Clark...\n",
      "7361      Shy, soft-spoken Joel Barish and unrestrained ...\n",
      "74946     Kirk Kettner is a TSA officer at Pittsburgh In...\n",
      "                                ...                        \n",
      "89470     Returning from a Hong Kong business trip, Beth...\n",
      "97836     Former Division I collegiate wrestler Scott Vo...\n",
      "39446     Informant Michael Marks awakens in a room with...\n",
      "31685     Alex \"Hitch\" Hitchens (Will Smith) is a profes...\n",
      "66171     In 1945, the United States set up the Division...\n",
      "Name: plot, Length: 568, dtype: object\n"
     ]
    },
    {
     "name": "stderr",
     "output_type": "stream",
     "text": [
      "C:\\Users\\Thom\\anaconda3\\lib\\site-packages\\sklearn\\neighbors\\_classification.py:211: FutureWarning: Unlike other reduction functions (e.g. `skew`, `kurtosis`), the default behavior of `mode` typically preserves the axis it acts along. In SciPy 1.11.0, this behavior will change: the default value of `keepdims` will become False, the `axis` over which the statistic is taken will be eliminated, and the value None will no longer be accepted. Set `keepdims` to True or False to avoid this warning.\n",
      "  mode, _ = stats.mode(_y[neigh_ind, k], axis=1)\n",
      "C:\\Users\\Thom\\anaconda3\\lib\\site-packages\\sklearn\\neighbors\\_classification.py:211: FutureWarning: Unlike other reduction functions (e.g. `skew`, `kurtosis`), the default behavior of `mode` typically preserves the axis it acts along. In SciPy 1.11.0, this behavior will change: the default value of `keepdims` will become False, the `axis` over which the statistic is taken will be eliminated, and the value None will no longer be accepted. Set `keepdims` to True or False to avoid this warning.\n",
      "  mode, _ = stats.mode(_y[neigh_ind, k], axis=1)\n"
     ]
    },
    {
     "name": "stdout",
     "output_type": "stream",
     "text": [
      "item\n",
      "68358    In the 23rd century, the Federation starship U...\n",
      "4963     Following release from prison, Danny Ocean vio...\n",
      "204      Casey Ryback retires from the United States Na...\n",
      "4246     Bridget Jones (Renée Zellweger) is 32 years ol...\n",
      "99114    In 1858 Texas, the Speck brothers, Ace and Dic...\n",
      "                               ...                        \n",
      "163      At the Tarasco bar in Mexico, an American man ...\n",
      "4155     Nelson Moss meets Sara Deever, a woman very di...\n",
      "8360     Shrek and Fiona return from their honeymoon to...\n",
      "81229    Frank Moses, retired black-ops CIA agent, live...\n",
      "4718     After their freshman year at college, the four...\n",
      "Name: plot, Length: 94, dtype: object\n",
      "item\n",
      "24      Jeremy \"Powder\" Reed is an albino young man wh...\n",
      "2080    On Christmas morning, 1909, in a quaint Midwes...\n",
      "802     George Malley is a kind but average auto mecha...\n",
      "2405    While moored at a port in the South of France,...\n",
      "1066    Peter P. Peters (Fred Astaire), an American ba...\n",
      "                              ...                        \n",
      "2683    In 1999, Austin Powers enjoys his honeymoon wi...\n",
      "4034    In Mexico, police officer Javier Rodriguez (de...\n",
      "151     In Scotland, 1713, Robert Roy MacGregor is the...\n",
      "2918    In suburban Chicago, near the end of the high ...\n",
      "2028    An elderly veteran visits the Normandy America...\n",
      "Name: plot, Length: 103, dtype: object\n"
     ]
    },
    {
     "name": "stderr",
     "output_type": "stream",
     "text": [
      "C:\\Users\\Thom\\anaconda3\\lib\\site-packages\\sklearn\\neighbors\\_classification.py:211: FutureWarning: Unlike other reduction functions (e.g. `skew`, `kurtosis`), the default behavior of `mode` typically preserves the axis it acts along. In SciPy 1.11.0, this behavior will change: the default value of `keepdims` will become False, the `axis` over which the statistic is taken will be eliminated, and the value None will no longer be accepted. Set `keepdims` to True or False to avoid this warning.\n",
      "  mode, _ = stats.mode(_y[neigh_ind, k], axis=1)\n",
      "C:\\Users\\Thom\\anaconda3\\lib\\site-packages\\sklearn\\neighbors\\_classification.py:211: FutureWarning: Unlike other reduction functions (e.g. `skew`, `kurtosis`), the default behavior of `mode` typically preserves the axis it acts along. In SciPy 1.11.0, this behavior will change: the default value of `keepdims` will become False, the `axis` over which the statistic is taken will be eliminated, and the value None will no longer be accepted. Set `keepdims` to True or False to avoid this warning.\n",
      "  mode, _ = stats.mode(_y[neigh_ind, k], axis=1)\n"
     ]
    },
    {
     "name": "stdout",
     "output_type": "stream",
     "text": [
      "item\n",
      "2377    The crew of the space shuttle Churchill finds ...\n",
      "2529    Astronauts Taylor (Charlton Heston), Landon (R...\n",
      "1956    The Jarretts are an upper-middle-class family ...\n",
      "1653    In \"the not-too-distant future\", liberal eugen...\n",
      "3766    Colonel James Braddock is a US military office...\n",
      "                              ...                        \n",
      "3259    In Ireland in 1892, Joseph Donnelly's family h...\n",
      "2668    In the swamps of Louisiana, Doctor Alec Hollan...\n",
      "25      Ben Sanderson is a Hollywood screenwriter whos...\n",
      "2527    In the then-future year of 1983, a high-tech, ...\n",
      "1095    The film depicts two days in the lives of four...\n",
      "Name: plot, Length: 84, dtype: object\n",
      "item\n",
      "1213    In 1955, Henry Hill works for Paul \"Paulie\" Ci...\n",
      "2105    Kevin Flynn is a leading software engineer for...\n",
      "1275    In 1985, Connor MacLeod, also known as the Hig...\n",
      "2028    An elderly veteran visits the Normandy America...\n",
      "1097    While visiting the earth in a California fores...\n",
      "                              ...                        \n",
      "1663    John Winger is a cab driver who, in the span o...\n",
      "2812    Jeffrey Cole (Epps) is a recent graduate of th...\n",
      "2387    Before his wedding to fiancée Laura (Cameron D...\n",
      "132     San Francisco Assistant District Attorney Davi...\n",
      "1466    Aging gangster Benjamin \"Lefty\" Ruggiero is in...\n",
      "Name: plot, Length: 103, dtype: object\n"
     ]
    },
    {
     "name": "stderr",
     "output_type": "stream",
     "text": [
      "C:\\Users\\Thom\\anaconda3\\lib\\site-packages\\sklearn\\neighbors\\_classification.py:211: FutureWarning: Unlike other reduction functions (e.g. `skew`, `kurtosis`), the default behavior of `mode` typically preserves the axis it acts along. In SciPy 1.11.0, this behavior will change: the default value of `keepdims` will become False, the `axis` over which the statistic is taken will be eliminated, and the value None will no longer be accepted. Set `keepdims` to True or False to avoid this warning.\n",
      "  mode, _ = stats.mode(_y[neigh_ind, k], axis=1)\n"
     ]
    },
    {
     "name": "stdout",
     "output_type": "stream",
     "text": [
      "item\n",
      "609      The owners of Shadow the Golden Retriever (voi...\n",
      "34150    Physicist Reed Richards is convinced evolution...\n",
      "68952    In 1969, Pasadena, California, a couple seeks ...\n",
      "316      Egyptologist and linguist Daniel Jackson, Ph.D...\n",
      "4989     Two underachieving pot smokers, Silas (Method ...\n",
      "                               ...                        \n",
      "51412    Cris Johnson (Nicolas Cage) can see into his f...\n",
      "6156     In 1887, Chon Lin (Fann Wong) tells her father...\n",
      "153      In Gotham City, the crime fighter Batman defus...\n",
      "1992     Two years after Chucky was destroyed by the Ba...\n",
      "2053     Five years after inventor Wayne Szalinski acci...\n",
      "Name: plot, Length: 703, dtype: object\n"
     ]
    },
    {
     "name": "stderr",
     "output_type": "stream",
     "text": [
      "C:\\Users\\Thom\\anaconda3\\lib\\site-packages\\sklearn\\neighbors\\_classification.py:211: FutureWarning: Unlike other reduction functions (e.g. `skew`, `kurtosis`), the default behavior of `mode` typically preserves the axis it acts along. In SciPy 1.11.0, this behavior will change: the default value of `keepdims` will become False, the `axis` over which the statistic is taken will be eliminated, and the value None will no longer be accepted. Set `keepdims` to True or False to avoid this warning.\n",
      "  mode, _ = stats.mode(_y[neigh_ind, k], axis=1)\n"
     ]
    },
    {
     "name": "stdout",
     "output_type": "stream",
     "text": [
      "item\n",
      "3328    Ghost Dog sees himself as a retainer of Louie,...\n",
      "2791    As a parody film, Airplane! tells its story in...\n",
      "440     Dave Kovic runs a temporary employment agency ...\n",
      "2243    The film revolves around three characters who ...\n",
      "1285    Veronica Sawyer is one of the most popular gir...\n",
      "                              ...                        \n",
      "2518    Chuck, formerly a successful stockbroker, has ...\n",
      "1252    A woman identifying herself as Evelyn Mulwray ...\n",
      "1187    May-Alice Culhane, a New York daytime soap ope...\n",
      "4205    The film is narrated by Charlotte Flax, a quir...\n",
      "5803    At the Bureau of National Security headquarter...\n",
      "Name: plot, Length: 201, dtype: object\n"
     ]
    },
    {
     "name": "stderr",
     "output_type": "stream",
     "text": [
      "C:\\Users\\Thom\\anaconda3\\lib\\site-packages\\sklearn\\neighbors\\_classification.py:211: FutureWarning: Unlike other reduction functions (e.g. `skew`, `kurtosis`), the default behavior of `mode` typically preserves the axis it acts along. In SciPy 1.11.0, this behavior will change: the default value of `keepdims` will become False, the `axis` over which the statistic is taken will be eliminated, and the value None will no longer be accepted. Set `keepdims` to True or False to avoid this warning.\n",
      "  mode, _ = stats.mode(_y[neigh_ind, k], axis=1)\n",
      "C:\\Users\\Thom\\anaconda3\\lib\\site-packages\\sklearn\\neighbors\\_classification.py:211: FutureWarning: Unlike other reduction functions (e.g. `skew`, `kurtosis`), the default behavior of `mode` typically preserves the axis it acts along. In SciPy 1.11.0, this behavior will change: the default value of `keepdims` will become False, the `axis` over which the statistic is taken will be eliminated, and the value None will no longer be accepted. Set `keepdims` to True or False to avoid this warning.\n",
      "  mode, _ = stats.mode(_y[neigh_ind, k], axis=1)\n"
     ]
    },
    {
     "name": "stdout",
     "output_type": "stream",
     "text": [
      "item\n",
      "64614     Walt Kowalski (Clint Eastwood) is a cantankero...\n",
      "61132     Hook-handed Vietnam veteran Staff Sergeant Joh...\n",
      "91542     In 1891, Irene Adler delivers a package to Dr....\n",
      "122920    In 1991, the brainwashed super-soldier James \"...\n",
      "57368     The film is presented as footage from a person...\n",
      "                                ...                        \n",
      "1         In a world where toys are living things who pr...\n",
      "104       Happy Gilmore is an aspiring ice hockey player...\n",
      "4223      In 1942, following the invasion of the Soviet ...\n",
      "105504    Richard Phillips takes command of MV Maersk Al...\n",
      "4886      The city of Monstropolis in the monster world ...\n",
      "Name: plot, Length: 92, dtype: object\n",
      "item\n",
      "2052     In 1693 on October 31, near Salem, Massachuset...\n",
      "68135    In 1989, 17-year-old Mike O'Donnell (Zac Efron...\n",
      "1213     In 1955, Henry Hill works for Paul \"Paulie\" Ci...\n",
      "63082    18-year-old Jamal Malik, an Indian Muslim from...\n",
      "34162    John Beckwith (Owen Wilson) and Jeremy Grey (V...\n",
      "                               ...                        \n",
      "1380     In the summer of 1958, greaser Danny Zuko and ...\n",
      "6863     No Vacancy, a rock band, performs at a nightcl...\n",
      "27       In 1991, four childhood friends reunite in the...\n",
      "86882    In 2010, Gil Pender, a successful but creative...\n",
      "1569     Julianne Potter (Julia Roberts), a 27-year-old...\n",
      "Name: plot, Length: 106, dtype: object\n"
     ]
    },
    {
     "name": "stderr",
     "output_type": "stream",
     "text": [
      "C:\\Users\\Thom\\anaconda3\\lib\\site-packages\\sklearn\\neighbors\\_classification.py:211: FutureWarning: Unlike other reduction functions (e.g. `skew`, `kurtosis`), the default behavior of `mode` typically preserves the axis it acts along. In SciPy 1.11.0, this behavior will change: the default value of `keepdims` will become False, the `axis` over which the statistic is taken will be eliminated, and the value None will no longer be accepted. Set `keepdims` to True or False to avoid this warning.\n",
      "  mode, _ = stats.mode(_y[neigh_ind, k], axis=1)\n",
      "C:\\Users\\Thom\\anaconda3\\lib\\site-packages\\sklearn\\neighbors\\_classification.py:211: FutureWarning: Unlike other reduction functions (e.g. `skew`, `kurtosis`), the default behavior of `mode` typically preserves the axis it acts along. In SciPy 1.11.0, this behavior will change: the default value of `keepdims` will become False, the `axis` over which the statistic is taken will be eliminated, and the value None will no longer be accepted. Set `keepdims` to True or False to avoid this warning.\n",
      "  mode, _ = stats.mode(_y[neigh_ind, k], axis=1)\n"
     ]
    },
    {
     "name": "stdout",
     "output_type": "stream",
     "text": [
      "item\n",
      "4886     The city of Monstropolis in the monster world ...\n",
      "2948     Seeking to exact revenge on James Bond (007) f...\n",
      "52973    Alison Scott (Katherine Heigl) is a career-min...\n",
      "4499     Lawrence Jamieson is an intelligent and sophis...\n",
      "4017     The film opens in medias res to abstract expre...\n",
      "                               ...                        \n",
      "46976    Harold Crick, an agent for the Internal Revenu...\n",
      "1784     Melvin Udall is a misanthrope who works at hom...\n",
      "8874     Shaun is an electronics salesman with no direc...\n",
      "5956     In the slum neighborhood of Five Points, Manha...\n",
      "588      Many centuries ago in the fictional city of Ag...\n",
      "Name: plot, Length: 130, dtype: object\n",
      "item\n",
      "1357     A man (Geoffrey Rush) wanders through a heavy ...\n",
      "2144     High school sophomore Samantha \"Sam\" Baker str...\n",
      "595      One winter's night, an enchantress disguised a...\n",
      "1028     In Edwardian London, 1910, Bert entertains a c...\n",
      "40629    During the late 18th century, the Bennet famil...\n",
      "                               ...                        \n",
      "3926     The new, state of the art nuclear submarine Se...\n",
      "7361     Shy, soft-spoken Joel Barish and unrestrained ...\n",
      "3499     Famed novelist Paul Sheldon is the author of a...\n",
      "8910     Albert Markovski is a young man who heads the ...\n",
      "3767     Ten years before freeing the US POWs from a br...\n",
      "Name: plot, Length: 555, dtype: object\n"
     ]
    },
    {
     "name": "stderr",
     "output_type": "stream",
     "text": [
      "C:\\Users\\Thom\\anaconda3\\lib\\site-packages\\sklearn\\neighbors\\_classification.py:211: FutureWarning: Unlike other reduction functions (e.g. `skew`, `kurtosis`), the default behavior of `mode` typically preserves the axis it acts along. In SciPy 1.11.0, this behavior will change: the default value of `keepdims` will become False, the `axis` over which the statistic is taken will be eliminated, and the value None will no longer be accepted. Set `keepdims` to True or False to avoid this warning.\n",
      "  mode, _ = stats.mode(_y[neigh_ind, k], axis=1)\n",
      "C:\\Users\\Thom\\anaconda3\\lib\\site-packages\\sklearn\\neighbors\\_classification.py:211: FutureWarning: Unlike other reduction functions (e.g. `skew`, `kurtosis`), the default behavior of `mode` typically preserves the axis it acts along. In SciPy 1.11.0, this behavior will change: the default value of `keepdims` will become False, the `axis` over which the statistic is taken will be eliminated, and the value None will no longer be accepted. Set `keepdims` to True or False to avoid this warning.\n",
      "  mode, _ = stats.mode(_y[neigh_ind, k], axis=1)\n"
     ]
    },
    {
     "name": "stdout",
     "output_type": "stream",
     "text": [
      "item\n",
      "1090    In 1967, U.S. Army volunteer Chris Taylor arri...\n",
      "3435    In 1938, Walter Neff, a successful insurance s...\n",
      "1912    A career bank robber, Jack Foley, and a U.S. M...\n",
      "337     In the small town of Endora, Iowa, Gilbert Gra...\n",
      "1287    In AD 26, Judah Ben-Hur (Charlton Heston) is a...\n",
      "                              ...                        \n",
      "2890    Following the end of the Persian Gulf War, U.S...\n",
      "235     In 1952, Ed Wood is struggling to join the fil...\n",
      "2240    Clifford Peache lives in an upscale Chicago lu...\n",
      "2772    In Cleveland, Ohio, in 1978, four rebellious t...\n",
      "750     United States Air Force Brigadier General Jack...\n",
      "Name: plot, Length: 138, dtype: object\n",
      "item\n",
      "95167     In Medieval Scotland, Princess Merida of the c...\n",
      "104841    NASA Space Shuttle Explorer, commanded by vete...\n",
      "3033      Planet Spaceball, led by the incompetent Presi...\n",
      "69278     Pompous paleontologist Rick Marshall has a low...\n",
      "3173      The Miami Sharks, a once-great American footba...\n",
      "                                ...                        \n",
      "3578      In AD 180, Hispano-Roman General Maximus Decim...\n",
      "1278      Dr. Frederick Frankenstein is a lecturing phys...\n",
      "1907      The film begins with a soldier walking through...\n",
      "1573      FBI Special Agent Sean Archer (John Travolta) ...\n",
      "3418      Best friends Thelma Dickinson and Louise Sawye...\n",
      "Name: plot, Length: 248, dtype: object\n"
     ]
    },
    {
     "name": "stderr",
     "output_type": "stream",
     "text": [
      "C:\\Users\\Thom\\anaconda3\\lib\\site-packages\\sklearn\\neighbors\\_classification.py:211: FutureWarning: Unlike other reduction functions (e.g. `skew`, `kurtosis`), the default behavior of `mode` typically preserves the axis it acts along. In SciPy 1.11.0, this behavior will change: the default value of `keepdims` will become False, the `axis` over which the statistic is taken will be eliminated, and the value None will no longer be accepted. Set `keepdims` to True or False to avoid this warning.\n",
      "  mode, _ = stats.mode(_y[neigh_ind, k], axis=1)\n"
     ]
    },
    {
     "name": "stdout",
     "output_type": "stream",
     "text": [
      "item\n",
      "555     At a Detroit theater showing kung fu films, Al...\n",
      "1285    Veronica Sawyer is one of the most popular gir...\n",
      "866     Corky (Gina Gershon), an ex-con who has just f...\n",
      "327     In 2022, a comet strikes Earth causing an 11-y...\n",
      "1919    In 1956 Paris, France, a young girl named Made...\n",
      "                              ...                        \n",
      "2098    Professor Ned Brainard's discovery of Flubber ...\n",
      "296     Hitmen Jules Winnfield and Vincent Vega arrive...\n",
      "2383    The police must investigate a series of robber...\n",
      "1275    In 1985, Connor MacLeod, also known as the Hig...\n",
      "2193    When a prophecy states that a female child wit...\n",
      "Name: plot, Length: 248, dtype: object\n"
     ]
    },
    {
     "name": "stderr",
     "output_type": "stream",
     "text": [
      "C:\\Users\\Thom\\anaconda3\\lib\\site-packages\\sklearn\\neighbors\\_classification.py:211: FutureWarning: Unlike other reduction functions (e.g. `skew`, `kurtosis`), the default behavior of `mode` typically preserves the axis it acts along. In SciPy 1.11.0, this behavior will change: the default value of `keepdims` will become False, the `axis` over which the statistic is taken will be eliminated, and the value None will no longer be accepted. Set `keepdims` to True or False to avoid this warning.\n",
      "  mode, _ = stats.mode(_y[neigh_ind, k], axis=1)\n"
     ]
    },
    {
     "name": "stdout",
     "output_type": "stream",
     "text": [
      "item\n",
      "82852     Five years after the events of the previous fi...\n",
      "5419      The members of Mystery, Inc. solve the case of...\n",
      "112552    Andrew Neiman is a first-year jazz student at ...\n",
      "86882     In 2010, Gil Pender, a successful but creative...\n",
      "68319     In 1845, James Howlett, a boy living in Canada...\n",
      "                                ...                        \n",
      "64231     Frank Castle, who has been the Punisher for fi...\n",
      "69757     The film is presented in a nonlinear narrative...\n",
      "1275      In 1985, Connor MacLeod, also known as the Hig...\n",
      "149352    Mild-mannered radio executive Brad Whitaker st...\n",
      "6294      In Tibet, 1943, a Tibetan monk is informed by ...\n",
      "Name: plot, Length: 498, dtype: object\n"
     ]
    },
    {
     "name": "stderr",
     "output_type": "stream",
     "text": [
      "C:\\Users\\Thom\\anaconda3\\lib\\site-packages\\sklearn\\neighbors\\_classification.py:211: FutureWarning: Unlike other reduction functions (e.g. `skew`, `kurtosis`), the default behavior of `mode` typically preserves the axis it acts along. In SciPy 1.11.0, this behavior will change: the default value of `keepdims` will become False, the `axis` over which the statistic is taken will be eliminated, and the value None will no longer be accepted. Set `keepdims` to True or False to avoid this warning.\n",
      "  mode, _ = stats.mode(_y[neigh_ind, k], axis=1)\n",
      "C:\\Users\\Thom\\anaconda3\\lib\\site-packages\\sklearn\\neighbors\\_classification.py:211: FutureWarning: Unlike other reduction functions (e.g. `skew`, `kurtosis`), the default behavior of `mode` typically preserves the axis it acts along. In SciPy 1.11.0, this behavior will change: the default value of `keepdims` will become False, the `axis` over which the statistic is taken will be eliminated, and the value None will no longer be accepted. Set `keepdims` to True or False to avoid this warning.\n",
      "  mode, _ = stats.mode(_y[neigh_ind, k], axis=1)\n"
     ]
    },
    {
     "name": "stdout",
     "output_type": "stream",
     "text": [
      "item\n",
      "1214    The commercial space tug Nostromo is on a retu...\n",
      "1391    In Kentucky, a family watches in confusion as ...\n",
      "1569    Julianne Potter (Julia Roberts), a 27-year-old...\n",
      "2431    Hunter \"Patch\" Adams (Robin Williams) is suici...\n",
      "1374    In the year 2285, Admiral James T. Kirk overse...\n",
      "                              ...                        \n",
      "1876    On May 10, 1998, teenaged amateur astronomer L...\n",
      "589     In 1995, John Connor is living in Los Angeles ...\n",
      "2294    In an ant colony, Z-4195, or \"Z\" for short, is...\n",
      "647     While serving in the Gulf War, Lieutenant Colo...\n",
      "3175    The former cast of the cult television space-a...\n",
      "Name: plot, Length: 122, dtype: object\n",
      "item\n",
      "1089      Eight men eat breakfast at a Los Angeles diner...\n",
      "40583     U.S. energy giant Connex Oil is losing control...\n",
      "8874      Shaun is an electronics salesman with no direc...\n",
      "508       Andrew Beckett is a senior associate at the la...\n",
      "103228    In 2013, huge alien sea monsters called Kaiju ...\n",
      "                                ...                        \n",
      "6709      El Mariachi is recruited by CIA agent Sheldon ...\n",
      "57669     Carrying out orders, rookie hitman Ray shoots ...\n",
      "131013    James King is an extremely wealthy hedge fund ...\n",
      "55276     Michael Clayton is a \"fixer\" for a prestigious...\n",
      "96811     Brian Taylor and Miguel Zavala are close frien...\n",
      "Name: plot, Length: 328, dtype: object\n"
     ]
    },
    {
     "name": "stderr",
     "output_type": "stream",
     "text": [
      "C:\\Users\\Thom\\anaconda3\\lib\\site-packages\\sklearn\\neighbors\\_classification.py:211: FutureWarning: Unlike other reduction functions (e.g. `skew`, `kurtosis`), the default behavior of `mode` typically preserves the axis it acts along. In SciPy 1.11.0, this behavior will change: the default value of `keepdims` will become False, the `axis` over which the statistic is taken will be eliminated, and the value None will no longer be accepted. Set `keepdims` to True or False to avoid this warning.\n",
      "  mode, _ = stats.mode(_y[neigh_ind, k], axis=1)\n"
     ]
    },
    {
     "name": "stdout",
     "output_type": "stream",
     "text": [
      "item\n",
      "50798    Lucy (Jayma Mays) finds that her adoptive fath...\n",
      "3499     Famed novelist Paul Sheldon is the author of a...\n",
      "953      On Christmas Eve 1945, in Bedford Falls, New Y...\n",
      "55820    In Texas, 1980, hitman Anton Chigurh strangles...\n",
      "1092     In San Francisco, homicide detective Nick Curr...\n",
      "                               ...                        \n",
      "33495    Phil Weston (Will Ferrell), is an average pers...\n",
      "24       Jeremy \"Powder\" Reed is an albino young man wh...\n",
      "38061    At a Los Angeles party, Harry Lockhart recount...\n",
      "520      Robin of Locksley (Cary Elwes) is captured dur...\n",
      "833      Richard Clark (Jon Lovitz) is an unsatisfied p...\n",
      "Name: plot, Length: 539, dtype: object\n"
     ]
    },
    {
     "name": "stderr",
     "output_type": "stream",
     "text": [
      "C:\\Users\\Thom\\anaconda3\\lib\\site-packages\\sklearn\\neighbors\\_classification.py:211: FutureWarning: Unlike other reduction functions (e.g. `skew`, `kurtosis`), the default behavior of `mode` typically preserves the axis it acts along. In SciPy 1.11.0, this behavior will change: the default value of `keepdims` will become False, the `axis` over which the statistic is taken will be eliminated, and the value None will no longer be accepted. Set `keepdims` to True or False to avoid this warning.\n",
      "  mode, _ = stats.mode(_y[neigh_ind, k], axis=1)\n",
      "C:\\Users\\Thom\\anaconda3\\lib\\site-packages\\sklearn\\neighbors\\_classification.py:211: FutureWarning: Unlike other reduction functions (e.g. `skew`, `kurtosis`), the default behavior of `mode` typically preserves the axis it acts along. In SciPy 1.11.0, this behavior will change: the default value of `keepdims` will become False, the `axis` over which the statistic is taken will be eliminated, and the value None will no longer be accepted. Set `keepdims` to True or False to avoid this warning.\n",
      "  mode, _ = stats.mode(_y[neigh_ind, k], axis=1)\n"
     ]
    },
    {
     "name": "stdout",
     "output_type": "stream",
     "text": [
      "item\n",
      "3727    One night, Caleb Colton (Adrian Pasdar), a you...\n",
      "5989    In 1963, teenaged Frank Abagnale lives in New ...\n",
      "2746    A three-girl \"Greek chorus\"—Crystal, Ronnette,...\n",
      "5349    High-school senior Peter Parker lives with his...\n",
      "1358    Karl Childers is an intellectually disabled Ar...\n",
      "                              ...                        \n",
      "3342    In a 1960s working-class neighborhood in Phila...\n",
      "541     In 2019 Los Angeles, former police officer Ric...\n",
      "912     In December 1941, American expatriate Rick Bla...\n",
      "1994    Steven and Diane Freeling live a quiet life in...\n",
      "5446    Set in 1931, two sisters, 14-year-old Molly an...\n",
      "Name: plot, Length: 114, dtype: object\n",
      "item\n",
      "5540    King Acrisius of Argos imprisons his daughter ...\n",
      "2901    Tommy (Bill Cone) and a woman (referred to in ...\n",
      "2640    On the planet Krypton, using evidence provided...\n",
      "1073    In a small town, Charlie Bucket, a poor paperb...\n",
      "3175    The former cast of the cult television space-a...\n",
      "                              ...                        \n",
      "223     Dante Hicks, a 22-year-old retail clerk at the...\n",
      "737     Barb Wire is set in 2017 during the \"Second Am...\n",
      "2871    Four Atlanta men, Lewis Medlock, Ed Gentry, Bo...\n",
      "1466    Aging gangster Benjamin \"Lefty\" Ruggiero is in...\n",
      "442     In 1996, psychopathic career criminal Simon Ph...\n",
      "Name: plot, Length: 186, dtype: object\n"
     ]
    },
    {
     "name": "stderr",
     "output_type": "stream",
     "text": [
      "C:\\Users\\Thom\\anaconda3\\lib\\site-packages\\sklearn\\neighbors\\_classification.py:211: FutureWarning: Unlike other reduction functions (e.g. `skew`, `kurtosis`), the default behavior of `mode` typically preserves the axis it acts along. In SciPy 1.11.0, this behavior will change: the default value of `keepdims` will become False, the `axis` over which the statistic is taken will be eliminated, and the value None will no longer be accepted. Set `keepdims` to True or False to avoid this warning.\n",
      "  mode, _ = stats.mode(_y[neigh_ind, k], axis=1)\n",
      "C:\\Users\\Thom\\anaconda3\\lib\\site-packages\\sklearn\\neighbors\\_classification.py:211: FutureWarning: Unlike other reduction functions (e.g. `skew`, `kurtosis`), the default behavior of `mode` typically preserves the axis it acts along. In SciPy 1.11.0, this behavior will change: the default value of `keepdims` will become False, the `axis` over which the statistic is taken will be eliminated, and the value None will no longer be accepted. Set `keepdims` to True or False to avoid this warning.\n",
      "  mode, _ = stats.mode(_y[neigh_ind, k], axis=1)\n"
     ]
    },
    {
     "name": "stdout",
     "output_type": "stream",
     "text": [
      "item\n",
      "5630     In 1980 Dr. Hannibal Lecter attends an orchest...\n",
      "5299     Being 30-years-old and single, Fotoula \"Toula\"...\n",
      "94959    In September 1965, on the New England island o...\n",
      "292      In 1967, a virus called Motaba, which causes a...\n",
      "1466     Aging gangster Benjamin \"Lefty\" Ruggiero is in...\n",
      "                               ...                        \n",
      "80219    Mexico: Machete Cortez (Danny Trejo), a former...\n",
      "431      In 1975, after serving 5 years of a 30-year pr...\n",
      "70286    In 1982, an alien ship hovers over Johannesbur...\n",
      "110      In 1280, King Edward \"Longshanks\" invades and ...\n",
      "69757    The film is presented in a nonlinear narrative...\n",
      "Name: plot, Length: 96, dtype: object\n",
      "item\n",
      "60074     John Hancock is an alcoholic American who poss...\n",
      "48774     In 2027, after 18 years of global human infert...\n",
      "110102    Two years after the Battle of New York,[N 1] S...\n",
      "86548     Charlie O'Brien, Circus Vargas' owner, encount...\n",
      "1884      In 1971, Raoul Duke and Dr. Gonzo speed across...\n",
      "                                ...                        \n",
      "3300      In the distant future, the ship Hunter-Gratzne...\n",
      "1907      The film begins with a soldier walking through...\n",
      "47518     Bartleby Gaines (Justin Long) is a persuasive ...\n",
      "7123      William Lee is an exterminator who finds that ...\n",
      "43869     The introduction of the movie is a cartoon sho...\n",
      "Name: plot, Length: 337, dtype: object\n"
     ]
    },
    {
     "name": "stderr",
     "output_type": "stream",
     "text": [
      "C:\\Users\\Thom\\anaconda3\\lib\\site-packages\\sklearn\\neighbors\\_classification.py:211: FutureWarning: Unlike other reduction functions (e.g. `skew`, `kurtosis`), the default behavior of `mode` typically preserves the axis it acts along. In SciPy 1.11.0, this behavior will change: the default value of `keepdims` will become False, the `axis` over which the statistic is taken will be eliminated, and the value None will no longer be accepted. Set `keepdims` to True or False to avoid this warning.\n",
      "  mode, _ = stats.mode(_y[neigh_ind, k], axis=1)\n",
      "C:\\Users\\Thom\\anaconda3\\lib\\site-packages\\sklearn\\neighbors\\_classification.py:211: FutureWarning: Unlike other reduction functions (e.g. `skew`, `kurtosis`), the default behavior of `mode` typically preserves the axis it acts along. In SciPy 1.11.0, this behavior will change: the default value of `keepdims` will become False, the `axis` over which the statistic is taken will be eliminated, and the value None will no longer be accepted. Set `keepdims` to True or False to avoid this warning.\n",
      "  mode, _ = stats.mode(_y[neigh_ind, k], axis=1)\n"
     ]
    },
    {
     "name": "stdout",
     "output_type": "stream",
     "text": [
      "item\n",
      "3044    Newspapers detail the 1949 murder of Margaret ...\n",
      "356     In 1981, Forrest Gump recounts his life story ...\n",
      "466     One night, an American special forces team inv...\n",
      "5008    Sir Wilfrid Robarts (Charles Laughton), a mast...\n",
      "1587    A sword is forged by a blacksmith, who then sh...\n",
      "                              ...                        \n",
      "2572    Cameron James, a new student at Padua High Sch...\n",
      "1370    On Christmas Eve, two years after the Nakatomi...\n",
      "1387    During a beach party at dusk on Amity Island, ...\n",
      "1248    In a Mexican town along the U.S.–Mexico border...\n",
      "555     At a Detroit theater showing kung fu films, Al...\n",
      "Name: plot, Length: 126, dtype: object\n",
      "item\n",
      "1947      In the late summer of 1957, in the West Side's...\n",
      "112852    In 1988, following his mother's death, a young...\n",
      "589       In 1995, John Connor is living in Los Angeles ...\n",
      "5218      A saber-toothed squirrel (known as Scrat) is t...\n",
      "96079     MI6 agents James Bond and Eve Moneypenny pursu...\n",
      "                                ...                        \n",
      "2959      The unnamed Narrator is a traveling automobile...\n",
      "1208      In 1969, during the Vietnam War, United States...\n",
      "5299      Being 30-years-old and single, Fotoula \"Toula\"...\n",
      "1265      Weatherman Phil Connors reassures Pittsburgh v...\n",
      "2641      Before the destruction of Krypton, the crimina...\n",
      "Name: plot, Length: 131, dtype: object\n"
     ]
    },
    {
     "name": "stderr",
     "output_type": "stream",
     "text": [
      "C:\\Users\\Thom\\anaconda3\\lib\\site-packages\\sklearn\\neighbors\\_classification.py:211: FutureWarning: Unlike other reduction functions (e.g. `skew`, `kurtosis`), the default behavior of `mode` typically preserves the axis it acts along. In SciPy 1.11.0, this behavior will change: the default value of `keepdims` will become False, the `axis` over which the statistic is taken will be eliminated, and the value None will no longer be accepted. Set `keepdims` to True or False to avoid this warning.\n",
      "  mode, _ = stats.mode(_y[neigh_ind, k], axis=1)\n",
      "C:\\Users\\Thom\\anaconda3\\lib\\site-packages\\sklearn\\neighbors\\_classification.py:211: FutureWarning: Unlike other reduction functions (e.g. `skew`, `kurtosis`), the default behavior of `mode` typically preserves the axis it acts along. In SciPy 1.11.0, this behavior will change: the default value of `keepdims` will become False, the `axis` over which the statistic is taken will be eliminated, and the value None will no longer be accepted. Set `keepdims` to True or False to avoid this warning.\n",
      "  mode, _ = stats.mode(_y[neigh_ind, k], axis=1)\n"
     ]
    },
    {
     "name": "stdout",
     "output_type": "stream",
     "text": [
      "item\n",
      "1136     In 932 AD, King Arthur and his squire, Patsy, ...\n",
      "153      In Gotham City, the crime fighter Batman defus...\n",
      "327      In 2022, a comet strikes Earth causing an 11-y...\n",
      "2641     Before the destruction of Krypton, the crimina...\n",
      "2791     As a parody film, Airplane! tells its story in...\n",
      "                               ...                        \n",
      "64614    Walt Kowalski (Clint Eastwood) is a cantankero...\n",
      "2291     An elderly woman tells her granddaughter the s...\n",
      "71535    Two months have passed since a strain of mad c...\n",
      "1917     A massive meteor shower destroys the orbiting ...\n",
      "4226     The film starts with the Polaroid photograph o...\n",
      "Name: plot, Length: 131, dtype: object\n",
      "item\n",
      "119145    During a mission in the Middle East in 1997, p...\n",
      "63113     James Bond is driving from Lake Garda to Siena...\n",
      "7373      In 1944, with the help of Russian mystic Grigo...\n",
      "5349      High-school senior Peter Parker lives with his...\n",
      "4963      Following release from prison, Danny Ocean vio...\n",
      "                                ...                        \n",
      "53322     Reuben Tishkoff is coerced by thugs employed b...\n",
      "8636      Peter Parker, secretly the superhero Spider-Ma...\n",
      "7361      Shy, soft-spoken Joel Barish and unrestrained ...\n",
      "30749     Tensions between the Hutu and Tutsi peoples le...\n",
      "8784      Struggling actor Andrew Largeman (Zach Braff) ...\n",
      "Name: plot, Length: 94, dtype: object\n"
     ]
    },
    {
     "name": "stderr",
     "output_type": "stream",
     "text": [
      "C:\\Users\\Thom\\anaconda3\\lib\\site-packages\\sklearn\\neighbors\\_classification.py:211: FutureWarning: Unlike other reduction functions (e.g. `skew`, `kurtosis`), the default behavior of `mode` typically preserves the axis it acts along. In SciPy 1.11.0, this behavior will change: the default value of `keepdims` will become False, the `axis` over which the statistic is taken will be eliminated, and the value None will no longer be accepted. Set `keepdims` to True or False to avoid this warning.\n",
      "  mode, _ = stats.mode(_y[neigh_ind, k], axis=1)\n",
      "C:\\Users\\Thom\\anaconda3\\lib\\site-packages\\sklearn\\neighbors\\_classification.py:211: FutureWarning: Unlike other reduction functions (e.g. `skew`, `kurtosis`), the default behavior of `mode` typically preserves the axis it acts along. In SciPy 1.11.0, this behavior will change: the default value of `keepdims` will become False, the `axis` over which the statistic is taken will be eliminated, and the value None will no longer be accepted. Set `keepdims` to True or False to avoid this warning.\n",
      "  mode, _ = stats.mode(_y[neigh_ind, k], axis=1)\n"
     ]
    },
    {
     "name": "stdout",
     "output_type": "stream",
     "text": [
      "item\n",
      "2340     Billionaire media mogul William Parrish is con...\n",
      "77561    In Russia, the media covers Tony Stark's discl...\n",
      "3448     In 1965, Airman First Class Adrian Cronauer ar...\n",
      "59315    Genius, billionaire, and playboy Tony Stark, w...\n",
      "3994     In Philadelphia in 1961, Elijah Price is born ...\n",
      "                               ...                        \n",
      "1214     The commercial space tug Nostromo is on a retu...\n",
      "3160     The narrator recounts three instances of incre...\n",
      "3702     \"A few years from now\", when society is teeter...\n",
      "4022     In December 1995, Chuck Noland is a time-obses...\n",
      "33794    As a child, Bruce Wayne falls down into a dry ...\n",
      "Name: plot, Length: 138, dtype: object\n",
      "item\n",
      "5785      (in a deleted scene, Chris Pontius dressed lik...\n",
      "2706      Five high school seniors from West Michigan ar...\n",
      "55247     In April 1992, Christopher McCandless arrives ...\n",
      "16        In 1973, sports handicapper and Mafia associat...\n",
      "4022      In December 1995, Chuck Noland is a time-obses...\n",
      "                                ...                        \n",
      "2028      An elderly veteran visits the Normandy America...\n",
      "136562    In 1984, the Apple Macintosh 128K's voice demo...\n",
      "1077      Miles Monroe (Woody Allen), a jazz musician an...\n",
      "1         In a world where toys are living things who pr...\n",
      "6539      While sailing to Port Royal, Jamaica, Governor...\n",
      "Name: plot, Length: 178, dtype: object\n"
     ]
    },
    {
     "name": "stderr",
     "output_type": "stream",
     "text": [
      "C:\\Users\\Thom\\anaconda3\\lib\\site-packages\\sklearn\\neighbors\\_classification.py:211: FutureWarning: Unlike other reduction functions (e.g. `skew`, `kurtosis`), the default behavior of `mode` typically preserves the axis it acts along. In SciPy 1.11.0, this behavior will change: the default value of `keepdims` will become False, the `axis` over which the statistic is taken will be eliminated, and the value None will no longer be accepted. Set `keepdims` to True or False to avoid this warning.\n",
      "  mode, _ = stats.mode(_y[neigh_ind, k], axis=1)\n"
     ]
    },
    {
     "name": "stdout",
     "output_type": "stream",
     "text": [
      "item\n",
      "296       Hitmen Jules Winnfield and Vincent Vega arrive...\n",
      "117529    Brothers Zach and Gray Mitchell visit Isla Nub...\n",
      "97752     In the Chatham Islands, 1849, American lawyer ...\n",
      "97304     On November 4, 1979, Iranian activists storm t...\n",
      "4306      Shrek, a green ogre who loves the solitude in ...\n",
      "                                ...                        \n",
      "924       In an African desert millions of years ago, a ...\n",
      "79132     Dominick \"Dom\" Cobb and Arthur are \"extractors...\n",
      "96610     In 2044, 25-year-old Joe works for a Kansas Ci...\n",
      "3535      In 1987, wealthy New York investment banker Pa...\n",
      "2278      At a bistro in Montmartre, Irish operative Dei...\n",
      "Name: plot, Length: 152, dtype: object\n",
      "item\n",
      "8360     Shrek and Fiona return from their honeymoon to...\n",
      "1208     In 1969, during the Vietnam War, United States...\n",
      "49274    Every emperor penguin sings a unique song call...\n",
      "111      Travis Bickle, a 26-year-old honorably dischar...\n",
      "1584     Dr. Ellie Arroway works for the SETI program a...\n",
      "                               ...                        \n",
      "1219     During a lunchtime tryst in Phoenix, Arizona, ...\n",
      "7254     Growing up, Evan Treborn and his friends, Lenn...\n",
      "1569     Julianne Potter (Julia Roberts), a 27-year-old...\n",
      "4963     Following release from prison, Danny Ocean vio...\n",
      "2985     In the near future, Detroit, Michigan, is a dy...\n",
      "Name: plot, Length: 113, dtype: object\n"
     ]
    },
    {
     "name": "stderr",
     "output_type": "stream",
     "text": [
      "C:\\Users\\Thom\\anaconda3\\lib\\site-packages\\sklearn\\neighbors\\_classification.py:211: FutureWarning: Unlike other reduction functions (e.g. `skew`, `kurtosis`), the default behavior of `mode` typically preserves the axis it acts along. In SciPy 1.11.0, this behavior will change: the default value of `keepdims` will become False, the `axis` over which the statistic is taken will be eliminated, and the value None will no longer be accepted. Set `keepdims` to True or False to avoid this warning.\n",
      "  mode, _ = stats.mode(_y[neigh_ind, k], axis=1)\n",
      "C:\\Users\\Thom\\anaconda3\\lib\\site-packages\\sklearn\\neighbors\\_classification.py:211: FutureWarning: Unlike other reduction functions (e.g. `skew`, `kurtosis`), the default behavior of `mode` typically preserves the axis it acts along. In SciPy 1.11.0, this behavior will change: the default value of `keepdims` will become False, the `axis` over which the statistic is taken will be eliminated, and the value None will no longer be accepted. Set `keepdims` to True or False to avoid this warning.\n",
      "  mode, _ = stats.mode(_y[neigh_ind, k], axis=1)\n"
     ]
    },
    {
     "name": "stdout",
     "output_type": "stream",
     "text": [
      "item\n",
      "2291     An elderly woman tells her granddaughter the s...\n",
      "2797      Twelve-year-old Josh Baskin, who lives with h...\n",
      "51662    In 481 BC, one year before the Battle of Therm...\n",
      "4027     Three convicts, Ulysses Everett McGill, Pete H...\n",
      "2395     Max Fischer (Schwartzman), an eccentric 15-yea...\n",
      "                               ...                        \n",
      "8784     Struggling actor Andrew Largeman (Zach Braff) ...\n",
      "902      Early one morning, a taxi pulls up at Tiffany ...\n",
      "3471     In the Sonoran Desert, French scientist Claude...\n",
      "5792     After cynical New York advertising copywriter ...\n",
      "3253     In Aurora, Illinois, rock and roll fans Wayne ...\n",
      "Name: plot, Length: 153, dtype: object\n"
     ]
    },
    {
     "name": "stderr",
     "output_type": "stream",
     "text": [
      "C:\\Users\\Thom\\anaconda3\\lib\\site-packages\\sklearn\\neighbors\\_classification.py:211: FutureWarning: Unlike other reduction functions (e.g. `skew`, `kurtosis`), the default behavior of `mode` typically preserves the axis it acts along. In SciPy 1.11.0, this behavior will change: the default value of `keepdims` will become False, the `axis` over which the statistic is taken will be eliminated, and the value None will no longer be accepted. Set `keepdims` to True or False to avoid this warning.\n",
      "  mode, _ = stats.mode(_y[neigh_ind, k], axis=1)\n"
     ]
    },
    {
     "name": "stdout",
     "output_type": "stream",
     "text": [
      "item\n",
      "110      In 1280, King Edward \"Longshanks\" invades and ...\n",
      "4622     Randy Bodek (Dempsey) is a rebellious college ...\n",
      "586      The McCallister family is preparing to spend C...\n",
      "88125    After burying Dobby, Harry Potter asks the gob...\n",
      "7451     Sixteen-year-old homeschooled Cady Heron and h...\n",
      "                               ...                        \n",
      "4857     The film's plot largely follows that of the mu...\n",
      "1307     In 1977, Harry Burns and Sally Albright gradua...\n",
      "2797      Twelve-year-old Josh Baskin, who lives with h...\n",
      "1235     Harold Chasen (Bud Cort) is a young man obsess...\n",
      "54001    During another summer with his Aunt Petunia an...\n",
      "Name: plot, Length: 203, dtype: object\n"
     ]
    },
    {
     "name": "stderr",
     "output_type": "stream",
     "text": [
      "C:\\Users\\Thom\\anaconda3\\lib\\site-packages\\sklearn\\neighbors\\_classification.py:211: FutureWarning: Unlike other reduction functions (e.g. `skew`, `kurtosis`), the default behavior of `mode` typically preserves the axis it acts along. In SciPy 1.11.0, this behavior will change: the default value of `keepdims` will become False, the `axis` over which the statistic is taken will be eliminated, and the value None will no longer be accepted. Set `keepdims` to True or False to avoid this warning.\n",
      "  mode, _ = stats.mode(_y[neigh_ind, k], axis=1)\n",
      "C:\\Users\\Thom\\anaconda3\\lib\\site-packages\\sklearn\\neighbors\\_classification.py:211: FutureWarning: Unlike other reduction functions (e.g. `skew`, `kurtosis`), the default behavior of `mode` typically preserves the axis it acts along. In SciPy 1.11.0, this behavior will change: the default value of `keepdims` will become False, the `axis` over which the statistic is taken will be eliminated, and the value None will no longer be accepted. Set `keepdims` to True or False to avoid this warning.\n",
      "  mode, _ = stats.mode(_y[neigh_ind, k], axis=1)\n"
     ]
    },
    {
     "name": "stdout",
     "output_type": "stream",
     "text": [
      "item\n",
      "50872     Remy is an idealistic and ambitious young rat,...\n",
      "3252      Charlie Simms is a student at the Baird School...\n",
      "3785      An 18-year-old girl named Drew Decker (Carmen ...\n",
      "61132     Hook-handed Vietnam veteran Staff Sergeant Joh...\n",
      "128975    Five years after the events of the first film,...\n",
      "                                ...                        \n",
      "71838     In a home invasion, Clarence Darby kills the w...\n",
      "4022      In December 1995, Chuck Noland is a time-obses...\n",
      "1259      Author Gordie Lachance reads in the newspaper ...\n",
      "113604    Mia Hall and her family are getting ready to g...\n",
      "68358     In the 23rd century, the Federation starship U...\n",
      "Name: plot, Length: 144, dtype: object\n",
      "item\n",
      "4628    Lionel Dobie, an acclaimed abstract artist who...\n",
      "3466    In San Francisco, 1959, four despondent strang...\n",
      "4310    In 1923 Tennessee, two best friends, Rafe McCa...\n",
      "527     In Kraków during World War II, the Germans hav...\n",
      "486     Mikey Chapman (Michael J. Fox), a former child...\n",
      "                              ...                        \n",
      "2915    Joel Goodson is a high-achieving high school s...\n",
      "4306    Shrek, a green ogre who loves the solitude in ...\n",
      "3061    Jim Hardy (Bing Crosby), Ted Hanover (Fred Ast...\n",
      "3299    Georgia Mozell, Eve Marks and Maddy Mozell are...\n",
      "3363    In early September 1962 in Modesto, California...\n",
      "Name: plot, Length: 103, dtype: object\n"
     ]
    },
    {
     "name": "stderr",
     "output_type": "stream",
     "text": [
      "C:\\Users\\Thom\\anaconda3\\lib\\site-packages\\sklearn\\neighbors\\_classification.py:211: FutureWarning: Unlike other reduction functions (e.g. `skew`, `kurtosis`), the default behavior of `mode` typically preserves the axis it acts along. In SciPy 1.11.0, this behavior will change: the default value of `keepdims` will become False, the `axis` over which the statistic is taken will be eliminated, and the value None will no longer be accepted. Set `keepdims` to True or False to avoid this warning.\n",
      "  mode, _ = stats.mode(_y[neigh_ind, k], axis=1)\n"
     ]
    },
    {
     "name": "stdout",
     "output_type": "stream",
     "text": [
      "item\n",
      "436     Dr. Bill Capa, a New York psychiatrist, falls ...\n",
      "3578    In AD 180, Hispano-Roman General Maximus Decim...\n",
      "3113    In 1979 a priest at the Vatican sees a comet a...\n",
      "2947    After destroying a drug laboratory in Latin Am...\n",
      "3836    During a thunderstorm in early September 1944,...\n",
      "                              ...                        \n",
      "1272    General George S. Patton addresses an unseen a...\n",
      "1573    FBI Special Agent Sean Archer (John Travolta) ...\n",
      "481     Brian Kessler (David Duchovny) is a graduate s...\n",
      "3438    As a crime wave rises in New York City, report...\n",
      "2112    After attending a Lakers basketball game, an i...\n",
      "Name: plot, Length: 252, dtype: object\n"
     ]
    },
    {
     "name": "stderr",
     "output_type": "stream",
     "text": [
      "C:\\Users\\Thom\\anaconda3\\lib\\site-packages\\sklearn\\neighbors\\_classification.py:211: FutureWarning: Unlike other reduction functions (e.g. `skew`, `kurtosis`), the default behavior of `mode` typically preserves the axis it acts along. In SciPy 1.11.0, this behavior will change: the default value of `keepdims` will become False, the `axis` over which the statistic is taken will be eliminated, and the value None will no longer be accepted. Set `keepdims` to True or False to avoid this warning.\n",
      "  mode, _ = stats.mode(_y[neigh_ind, k], axis=1)\n",
      "C:\\Users\\Thom\\anaconda3\\lib\\site-packages\\sklearn\\neighbors\\_classification.py:211: FutureWarning: Unlike other reduction functions (e.g. `skew`, `kurtosis`), the default behavior of `mode` typically preserves the axis it acts along. In SciPy 1.11.0, this behavior will change: the default value of `keepdims` will become False, the `axis` over which the statistic is taken will be eliminated, and the value None will no longer be accepted. Set `keepdims` to True or False to avoid this warning.\n",
      "  mode, _ = stats.mode(_y[neigh_ind, k], axis=1)\n"
     ]
    },
    {
     "name": "stdout",
     "output_type": "stream",
     "text": [
      "item\n",
      "1       In a world where toys are living things who pr...\n",
      "450     Monty Kessler, an honors student in the Govern...\n",
      "647     While serving in the Gulf War, Lieutenant Colo...\n",
      "903     After a rooftop chase, where his fear of heigh...\n",
      "1274    In July 1988, a massive explosion annihilates ...\n",
      "                              ...                        \n",
      "229     Paulina Escobar (Weaver) is a housewife marrie...\n",
      "249     When Ludwig van Beethoven dies, his assistant ...\n",
      "440     Dave Kovic runs a temporary employment agency ...\n",
      "474     Secret Service Agents Frank Horrigan and Al D'...\n",
      "71      Kathryn \"Kate\" McQuean (Cindy Crawford) is a M...\n",
      "Name: plot, Length: 129, dtype: object\n",
      "item\n",
      "1356      It is the 24th century. Captain Jean Luc Picar...\n",
      "42738     In 1202, an army led by the three vampire elde...\n",
      "122920    In 1991, the brainwashed super-soldier James \"...\n",
      "7076      Ambitious San Francisco politician Walter Chal...\n",
      "4366      Many centuries ago, a large tidal wave trigger...\n",
      "                                ...                        \n",
      "256       Austrian Research geneticist Dr. Alex Hesse (A...\n",
      "44972     Shaquille O'Neal and Dr. Phil wake up to find ...\n",
      "5010      In 1993, following the ousting of the central ...\n",
      "40278     In 1989, Anthony \"Swoff\" Swofford, whose fathe...\n",
      "3704      With the world climate altered to a parched nu...\n",
      "Name: plot, Length: 596, dtype: object\n"
     ]
    },
    {
     "name": "stderr",
     "output_type": "stream",
     "text": [
      "C:\\Users\\Thom\\anaconda3\\lib\\site-packages\\sklearn\\neighbors\\_classification.py:211: FutureWarning: Unlike other reduction functions (e.g. `skew`, `kurtosis`), the default behavior of `mode` typically preserves the axis it acts along. In SciPy 1.11.0, this behavior will change: the default value of `keepdims` will become False, the `axis` over which the statistic is taken will be eliminated, and the value None will no longer be accepted. Set `keepdims` to True or False to avoid this warning.\n",
      "  mode, _ = stats.mode(_y[neigh_ind, k], axis=1)\n"
     ]
    },
    {
     "name": "stdout",
     "output_type": "stream",
     "text": [
      "item\n",
      "31685    Alex \"Hitch\" Hitchens (Will Smith) is a profes...\n",
      "4823     During the Christmas season in New York City, ...\n",
      "2100     In 1964, 8-year-old Allen Bauer (David Kreps) ...\n",
      "45186    Ethan Hunt has retired from field work for the...\n",
      "2797      Twelve-year-old Josh Baskin, who lives with h...\n",
      "                               ...                        \n",
      "52287    Lewis is an aspiring 12-year-old inventor at a...\n",
      "69640    After killing Charles Floyd, FBI agent Melvin ...\n",
      "8784     Struggling actor Andrew Largeman (Zach Braff) ...\n",
      "1        In a world where toys are living things who pr...\n",
      "8644     In the year 2035, humanoid robots serve humani...\n",
      "Name: plot, Length: 241, dtype: object\n"
     ]
    },
    {
     "name": "stderr",
     "output_type": "stream",
     "text": [
      "C:\\Users\\Thom\\anaconda3\\lib\\site-packages\\sklearn\\neighbors\\_classification.py:211: FutureWarning: Unlike other reduction functions (e.g. `skew`, `kurtosis`), the default behavior of `mode` typically preserves the axis it acts along. In SciPy 1.11.0, this behavior will change: the default value of `keepdims` will become False, the `axis` over which the statistic is taken will be eliminated, and the value None will no longer be accepted. Set `keepdims` to True or False to avoid this warning.\n",
      "  mode, _ = stats.mode(_y[neigh_ind, k], axis=1)\n",
      "C:\\Users\\Thom\\anaconda3\\lib\\site-packages\\sklearn\\neighbors\\_classification.py:211: FutureWarning: Unlike other reduction functions (e.g. `skew`, `kurtosis`), the default behavior of `mode` typically preserves the axis it acts along. In SciPy 1.11.0, this behavior will change: the default value of `keepdims` will become False, the `axis` over which the statistic is taken will be eliminated, and the value None will no longer be accepted. Set `keepdims` to True or False to avoid this warning.\n",
      "  mode, _ = stats.mode(_y[neigh_ind, k], axis=1)\n"
     ]
    },
    {
     "name": "stdout",
     "output_type": "stream",
     "text": [
      "item\n",
      "42011     In the year 2000, Dick Harper (Jim Carrey) has...\n",
      "7379      The film begins in March 1836 in the Mexican S...\n",
      "2687      In the mid-1860s,1 an English couple and their...\n",
      "33660     James J. Braddock is an Irish-American boxer f...\n",
      "8368      Harry Potter has been spending another dissati...\n",
      "                                ...                        \n",
      "8387      Russian mafia boss Konstantine Konali (Ron Per...\n",
      "2496      In 1962, Dr. Calvin Webber (Christopher Walken...\n",
      "33836     Jack Wyatt is a narcissistic actor who is appr...\n",
      "112460    Since winning the Wings Around the Globe race ...\n",
      "31685     Alex \"Hitch\" Hitchens (Will Smith) is a profes...\n",
      "Name: plot, Length: 160, dtype: object\n",
      "item\n",
      "1036    On Christmas Eve, NYPD detective John McClane ...\n",
      "1377    In the prologue, socialites Tucker and Esther ...\n",
      "368     In the American Old West, gambler Bret Maveric...\n",
      "1028    In Edwardian London, 1910, Bert entertains a c...\n",
      "1293    On the day of Gandhi's assassination on 30 Jan...\n",
      "                              ...                        \n",
      "750     United States Air Force Brigadier General Jack...\n",
      "1012    In 1860s post-U.S. Civil War Texas, Jim Coates...\n",
      "673     On a summer night in 1973, a young Michael Jor...\n",
      "485     Danny Madigan is a teenager living in a crime-...\n",
      "1285    Veronica Sawyer is one of the most popular gir...\n",
      "Name: plot, Length: 107, dtype: object\n"
     ]
    },
    {
     "name": "stderr",
     "output_type": "stream",
     "text": [
      "C:\\Users\\Thom\\anaconda3\\lib\\site-packages\\sklearn\\neighbors\\_classification.py:211: FutureWarning: Unlike other reduction functions (e.g. `skew`, `kurtosis`), the default behavior of `mode` typically preserves the axis it acts along. In SciPy 1.11.0, this behavior will change: the default value of `keepdims` will become False, the `axis` over which the statistic is taken will be eliminated, and the value None will no longer be accepted. Set `keepdims` to True or False to avoid this warning.\n",
      "  mode, _ = stats.mode(_y[neigh_ind, k], axis=1)\n"
     ]
    },
    {
     "name": "stdout",
     "output_type": "stream",
     "text": [
      "item\n",
      "1783     Harry Barber is serving time in prison after b...\n",
      "911      While on a skiing holiday, simultaneous transl...\n",
      "45081    Rose Da Silva and her husband Christopher are ...\n",
      "1729     Jackie Brown is a flight attendant for a small...\n",
      "3499     Famed novelist Paul Sheldon is the author of a...\n",
      "                               ...                        \n",
      "2005     Facing foreclosure of their homes in the Goon ...\n",
      "55276    Michael Clayton is a \"fixer\" for a prestigious...\n",
      "1089     Eight men eat breakfast at a Los Angeles diner...\n",
      "648      Years after the events of the series, Jim Phel...\n",
      "481      Brian Kessler (David Duchovny) is a graduate s...\n",
      "Name: plot, Length: 461, dtype: object\n"
     ]
    },
    {
     "name": "stderr",
     "output_type": "stream",
     "text": [
      "C:\\Users\\Thom\\anaconda3\\lib\\site-packages\\sklearn\\neighbors\\_classification.py:211: FutureWarning: Unlike other reduction functions (e.g. `skew`, `kurtosis`), the default behavior of `mode` typically preserves the axis it acts along. In SciPy 1.11.0, this behavior will change: the default value of `keepdims` will become False, the `axis` over which the statistic is taken will be eliminated, and the value None will no longer be accepted. Set `keepdims` to True or False to avoid this warning.\n",
      "  mode, _ = stats.mode(_y[neigh_ind, k], axis=1)\n"
     ]
    },
    {
     "name": "stdout",
     "output_type": "stream",
     "text": [
      "item\n",
      "2797     Twelve-year-old Josh Baskin, who lives with h...\n",
      "300     In 1958, the questions and answers to be used ...\n",
      "3386    The film opens with newsreel footage, includin...\n",
      "1088    In the summer of 1963, 17-year-old Frances \"Ba...\n",
      "592     As Gotham City approaches its bicentennial, Ma...\n",
      "                              ...                        \n",
      "2369    Roberta (Rosanna Arquette) is an unfulfilled s...\n",
      "1912    A career bank robber, Jack Foley, and a U.S. M...\n",
      "1594    Chad and Howard are two middle management empl...\n",
      "2949    John Strangways, the British MI6 Station Chief...\n",
      "1923    In 1985, 16-year-old high school student Ted S...\n",
      "Name: plot, Length: 186, dtype: object\n"
     ]
    },
    {
     "name": "stderr",
     "output_type": "stream",
     "text": [
      "C:\\Users\\Thom\\anaconda3\\lib\\site-packages\\sklearn\\neighbors\\_classification.py:211: FutureWarning: Unlike other reduction functions (e.g. `skew`, `kurtosis`), the default behavior of `mode` typically preserves the axis it acts along. In SciPy 1.11.0, this behavior will change: the default value of `keepdims` will become False, the `axis` over which the statistic is taken will be eliminated, and the value None will no longer be accepted. Set `keepdims` to True or False to avoid this warning.\n",
      "  mode, _ = stats.mode(_y[neigh_ind, k], axis=1)\n"
     ]
    },
    {
     "name": "stdout",
     "output_type": "stream",
     "text": [
      "item\n",
      "63876     The film opens with archival footage of police...\n",
      "112852    In 1988, following his mother's death, a young...\n",
      "71535     Two months have passed since a strain of mad c...\n",
      "6157      Matt Murdock is a blind lawyer in New York Cit...\n",
      "2640      On the planet Krypton, using evidence provided...\n",
      "                                ...                        \n",
      "1914      Victor Joseph (Adam Beach) and Thomas Builds-t...\n",
      "2412      Shortly after Rocky Balboa's victory over Ivan...\n",
      "2262      Danny and Bernie are two single men who live i...\n",
      "81229     Frank Moses, retired black-ops CIA agent, live...\n",
      "51662     In 481 BC, one year before the Battle of Therm...\n",
      "Name: plot, Length: 1390, dtype: object\n"
     ]
    },
    {
     "name": "stderr",
     "output_type": "stream",
     "text": [
      "C:\\Users\\Thom\\anaconda3\\lib\\site-packages\\sklearn\\neighbors\\_classification.py:211: FutureWarning: Unlike other reduction functions (e.g. `skew`, `kurtosis`), the default behavior of `mode` typically preserves the axis it acts along. In SciPy 1.11.0, this behavior will change: the default value of `keepdims` will become False, the `axis` over which the statistic is taken will be eliminated, and the value None will no longer be accepted. Set `keepdims` to True or False to avoid this warning.\n",
      "  mode, _ = stats.mode(_y[neigh_ind, k], axis=1)\n"
     ]
    },
    {
     "name": "stdout",
     "output_type": "stream",
     "text": [
      "item\n",
      "497     Having just crushed an uprising by his half-br...\n",
      "5444    Dr. Jumba Jookiba is arrested and put on trial...\n",
      "4027    Three convicts, Ulysses Everett McGill, Pete H...\n",
      "5445    In April 2054, Washington, DC's PreCrime polic...\n",
      "3418    Best friends Thelma Dickinson and Louise Sawye...\n",
      "                              ...                        \n",
      "6979    During a surprise drill of a nuclear attack, m...\n",
      "3114    Andy prepares to go to cowboy camp with Woody,...\n",
      "1275    In 1985, Connor MacLeod, also known as the Hig...\n",
      "159     In a Brooklyn, New York, New York City, New Yo...\n",
      "589     In 1995, John Connor is living in Los Angeles ...\n",
      "Name: plot, Length: 159, dtype: object\n",
      "item\n",
      "6888    Katie and Becca talk about what Katie believes...\n",
      "586     The McCallister family is preparing to spend C...\n",
      "2687    In the mid-1860s,1 an English couple and their...\n",
      "2329    High school student Danny Vinyard receives an ...\n",
      "5254    Two years after the events of Blade, a pandemi...\n",
      "                              ...                        \n",
      "5128    The vampire Lestat is awakened from decades of...\n",
      "3697    In 1997, Los Angeles is suffering from both a ...\n",
      "169     It's been two years since Jesse saved and free...\n",
      "5445    In April 2054, Washington, DC's PreCrime polic...\n",
      "5349    High-school senior Peter Parker lives with his...\n",
      "Name: plot, Length: 168, dtype: object\n"
     ]
    },
    {
     "name": "stderr",
     "output_type": "stream",
     "text": [
      "C:\\Users\\Thom\\anaconda3\\lib\\site-packages\\sklearn\\neighbors\\_classification.py:211: FutureWarning: Unlike other reduction functions (e.g. `skew`, `kurtosis`), the default behavior of `mode` typically preserves the axis it acts along. In SciPy 1.11.0, this behavior will change: the default value of `keepdims` will become False, the `axis` over which the statistic is taken will be eliminated, and the value None will no longer be accepted. Set `keepdims` to True or False to avoid this warning.\n",
      "  mode, _ = stats.mode(_y[neigh_ind, k], axis=1)\n",
      "C:\\Users\\Thom\\anaconda3\\lib\\site-packages\\sklearn\\neighbors\\_classification.py:211: FutureWarning: Unlike other reduction functions (e.g. `skew`, `kurtosis`), the default behavior of `mode` typically preserves the axis it acts along. In SciPy 1.11.0, this behavior will change: the default value of `keepdims` will become False, the `axis` over which the statistic is taken will be eliminated, and the value None will no longer be accepted. Set `keepdims` to True or False to avoid this warning.\n",
      "  mode, _ = stats.mode(_y[neigh_ind, k], axis=1)\n"
     ]
    },
    {
     "name": "stdout",
     "output_type": "stream",
     "text": [
      "item\n",
      "6885     High school teacher and writer Frannie Avery m...\n",
      "4226     The film starts with the Polaroid photograph o...\n",
      "49530    It is 1999 and Sierra Leone is ravaged by majo...\n",
      "68319    In 1845, James Howlett, a boy living in Canada...\n",
      "3186     After 18-year-old Susanna Kaysen has a nervous...\n",
      "                               ...                        \n",
      "1921     Max Cohen is the story's protagonist and unrel...\n",
      "1704     Twenty-year-old Will Hunting of South Boston i...\n",
      "3980     Carl Brashear leaves his native Kentucky and t...\n",
      "72011    Ryan Bingham works for a Human Resources consu...\n",
      "2840     In the Brazilian village of Belo Quinto, Fathe...\n",
      "Name: plot, Length: 128, dtype: object\n",
      "item\n",
      "1193     In 1963 Oregon, recidivist criminal Randle McM...\n",
      "68157    In 1941, SS colonel Hans Landa interrogates Fr...\n",
      "6863     No Vacancy, a rock band, performs at a nightcl...\n",
      "431      In 1975, after serving 5 years of a 30-year pr...\n",
      "3471     In the Sonoran Desert, French scientist Claude...\n",
      "                               ...                        \n",
      "55118    Anna Khitrova, a British-Russian midwife at a ...\n",
      "55820    In Texas, 1980, hitman Anton Chigurh strangles...\n",
      "2683     In 1999, Austin Powers enjoys his honeymoon wi...\n",
      "1291     In 1912, thirteen-year-old Indiana Jones is ho...\n",
      "5349     High-school senior Peter Parker lives with his...\n",
      "Name: plot, Length: 123, dtype: object\n"
     ]
    },
    {
     "name": "stderr",
     "output_type": "stream",
     "text": [
      "C:\\Users\\Thom\\anaconda3\\lib\\site-packages\\sklearn\\neighbors\\_classification.py:211: FutureWarning: Unlike other reduction functions (e.g. `skew`, `kurtosis`), the default behavior of `mode` typically preserves the axis it acts along. In SciPy 1.11.0, this behavior will change: the default value of `keepdims` will become False, the `axis` over which the statistic is taken will be eliminated, and the value None will no longer be accepted. Set `keepdims` to True or False to avoid this warning.\n",
      "  mode, _ = stats.mode(_y[neigh_ind, k], axis=1)\n",
      "C:\\Users\\Thom\\anaconda3\\lib\\site-packages\\sklearn\\neighbors\\_classification.py:211: FutureWarning: Unlike other reduction functions (e.g. `skew`, `kurtosis`), the default behavior of `mode` typically preserves the axis it acts along. In SciPy 1.11.0, this behavior will change: the default value of `keepdims` will become False, the `axis` over which the statistic is taken will be eliminated, and the value None will no longer be accepted. Set `keepdims` to True or False to avoid this warning.\n",
      "  mode, _ = stats.mode(_y[neigh_ind, k], axis=1)\n"
     ]
    },
    {
     "name": "stdout",
     "output_type": "stream",
     "text": [
      "item\n",
      "1       In a world where toys are living things who pr...\n",
      "494     Lieutenant Colonel Austin Travis leads an unsu...\n",
      "594     Snow White is a lonely princess living with he...\n",
      "1912    A career bank robber, Jack Foley, and a U.S. M...\n",
      "8183    A Liverpudlian working-class young woman – hai...\n",
      "                              ...                        \n",
      "3510    In October 1969, firefighter Frank Sullivan (Q...\n",
      "8784    Struggling actor Andrew Largeman (Zach Braff) ...\n",
      "3052    Bartleby and Loki are fallen angels, eternally...\n",
      "5816    Harry Potter spends the summer with The Dursle...\n",
      "6322    A group of grifters rip off their latest mark ...\n",
      "Name: plot, Length: 355, dtype: object\n"
     ]
    },
    {
     "name": "stderr",
     "output_type": "stream",
     "text": [
      "C:\\Users\\Thom\\anaconda3\\lib\\site-packages\\sklearn\\neighbors\\_classification.py:211: FutureWarning: Unlike other reduction functions (e.g. `skew`, `kurtosis`), the default behavior of `mode` typically preserves the axis it acts along. In SciPy 1.11.0, this behavior will change: the default value of `keepdims` will become False, the `axis` over which the statistic is taken will be eliminated, and the value None will no longer be accepted. Set `keepdims` to True or False to avoid this warning.\n",
      "  mode, _ = stats.mode(_y[neigh_ind, k], axis=1)\n"
     ]
    },
    {
     "name": "stdout",
     "output_type": "stream",
     "text": [
      "item\n",
      "127096    In 2014, 17-year-old high school senior and as...\n",
      "1213      In 1955, Henry Hill works for Paul \"Paulie\" Ci...\n",
      "122892    In the Eastern European country of Sokovia, th...\n",
      "10        In 1986, at Arkhangelsk, MI6 agents James Bond...\n",
      "8290      A trade union lawyer named Walter Deaney (John...\n",
      "                                ...                        \n",
      "1388      Prior to a new hotel opening on Amity Island, ...\n",
      "2302      Driving through Alabama in their 1964 Buick Sk...\n",
      "3198      Henri Charrière (Steve McQueen), a safecracker...\n",
      "1911      As a boy, John Dolittle displays an ability to...\n",
      "133782    In the present-day Midwestern United States, s...\n",
      "Name: plot, Length: 952, dtype: object\n"
     ]
    },
    {
     "name": "stderr",
     "output_type": "stream",
     "text": [
      "C:\\Users\\Thom\\anaconda3\\lib\\site-packages\\sklearn\\neighbors\\_classification.py:211: FutureWarning: Unlike other reduction functions (e.g. `skew`, `kurtosis`), the default behavior of `mode` typically preserves the axis it acts along. In SciPy 1.11.0, this behavior will change: the default value of `keepdims` will become False, the `axis` over which the statistic is taken will be eliminated, and the value None will no longer be accepted. Set `keepdims` to True or False to avoid this warning.\n",
      "  mode, _ = stats.mode(_y[neigh_ind, k], axis=1)\n"
     ]
    },
    {
     "name": "stdout",
     "output_type": "stream",
     "text": [
      "item\n",
      "1375    The Federation Starship Enterprise returns to ...\n",
      "2871    Four Atlanta men, Lewis Medlock, Ed Gentry, Bo...\n",
      "1092    In San Francisco, homicide detective Nick Curr...\n",
      "1614    Howard Brackett (Kevin Kline) is a well-liked ...\n",
      "2273    On the last day of British rule in Hong Kong l...\n",
      "                              ...                        \n",
      "1222    During the United States' involvement in the V...\n",
      "1291    In 1912, thirteen-year-old Indiana Jones is ho...\n",
      "608     In the winter of 1987, Jerry Lundegaard, the s...\n",
      "44      Mortal Kombat is a fighting tournament between...\n",
      "4085    Young and reckless Detroit police detective Ax...\n",
      "Name: plot, Length: 115, dtype: object\n",
      "item\n",
      "377     Los Angeles Police Department (LAPD) SWAT offi...\n",
      "1042    In 1964, in Erie, Pennsylvania, aspiring jazz ...\n",
      "2353    NSA official Thomas Bryan Reynolds meets with ...\n",
      "4310    In 1923 Tennessee, two best friends, Rafe McCa...\n",
      "1627    Bobby Cooper is a drifter on his way to pay of...\n",
      "                              ...                        \n",
      "4021    In the film, Arenas is born in Oriente in 1943...\n",
      "1457    Alex Whitman (Matthew Perry) is an architect f...\n",
      "2028    An elderly veteran visits the Normandy America...\n",
      "2424    Kathleen Kelly is involved with Frank Navasky,...\n",
      "2273    On the last day of British rule in Hong Kong l...\n",
      "Name: plot, Length: 157, dtype: object\n"
     ]
    },
    {
     "name": "stderr",
     "output_type": "stream",
     "text": [
      "C:\\Users\\Thom\\anaconda3\\lib\\site-packages\\sklearn\\neighbors\\_classification.py:211: FutureWarning: Unlike other reduction functions (e.g. `skew`, `kurtosis`), the default behavior of `mode` typically preserves the axis it acts along. In SciPy 1.11.0, this behavior will change: the default value of `keepdims` will become False, the `axis` over which the statistic is taken will be eliminated, and the value None will no longer be accepted. Set `keepdims` to True or False to avoid this warning.\n",
      "  mode, _ = stats.mode(_y[neigh_ind, k], axis=1)\n",
      "C:\\Users\\Thom\\anaconda3\\lib\\site-packages\\sklearn\\neighbors\\_classification.py:211: FutureWarning: Unlike other reduction functions (e.g. `skew`, `kurtosis`), the default behavior of `mode` typically preserves the axis it acts along. In SciPy 1.11.0, this behavior will change: the default value of `keepdims` will become False, the `axis` over which the statistic is taken will be eliminated, and the value None will no longer be accepted. Set `keepdims` to True or False to avoid this warning.\n",
      "  mode, _ = stats.mode(_y[neigh_ind, k], axis=1)\n"
     ]
    },
    {
     "name": "stdout",
     "output_type": "stream",
     "text": [
      "item\n",
      "83827     On April 8, 2000, Mark Hogancamp was attacked ...\n",
      "33639     Based on a feature article written by Sewell, ...\n",
      "1395      Set in the year 1963, Ernest Tilley and Bill \"...\n",
      "51255     Police Constable Nicholas Angel, an over-achie...\n",
      "597       High-powered businessman Edward Lewis has brok...\n",
      "                                ...                        \n",
      "2410      Three years after winning the heavyweight cham...\n",
      "104339    Sam Sotto is a Hollywood actor who is known as...\n",
      "4605      The movie is a farce about a mentally unstable...\n",
      "112623    Ten years after the pandemic of the deadly ALZ...\n",
      "2396      In 1593 London, William Shakespeare is a somet...\n",
      "Name: plot, Length: 195, dtype: object\n"
     ]
    },
    {
     "name": "stderr",
     "output_type": "stream",
     "text": [
      "C:\\Users\\Thom\\anaconda3\\lib\\site-packages\\sklearn\\neighbors\\_classification.py:211: FutureWarning: Unlike other reduction functions (e.g. `skew`, `kurtosis`), the default behavior of `mode` typically preserves the axis it acts along. In SciPy 1.11.0, this behavior will change: the default value of `keepdims` will become False, the `axis` over which the statistic is taken will be eliminated, and the value None will no longer be accepted. Set `keepdims` to True or False to avoid this warning.\n",
      "  mode, _ = stats.mode(_y[neigh_ind, k], axis=1)\n"
     ]
    },
    {
     "name": "stdout",
     "output_type": "stream",
     "text": [
      "item\n",
      "2253    Kenneth Zevo, the owner of the Zevo Toys facto...\n",
      "1956    The Jarretts are an upper-middle-class family ...\n",
      "2915    Joel Goodson is a high-achieving high school s...\n",
      "3358    Daniel Miller (Albert Brooks), a Los Angeles a...\n",
      "2028    An elderly veteran visits the Normandy America...\n",
      "                              ...                        \n",
      "296     Hitmen Jules Winnfield and Vincent Vega arrive...\n",
      "592     As Gotham City approaches its bicentennial, Ma...\n",
      "3813    The film centers around the three children of ...\n",
      "3809    Bob Wiley is a good-natured man with great wor...\n",
      "2115    In 1935, Indiana Jones narrowly escapes the cl...\n",
      "Name: plot, Length: 239, dtype: object\n"
     ]
    },
    {
     "name": "stderr",
     "output_type": "stream",
     "text": [
      "C:\\Users\\Thom\\anaconda3\\lib\\site-packages\\sklearn\\neighbors\\_classification.py:211: FutureWarning: Unlike other reduction functions (e.g. `skew`, `kurtosis`), the default behavior of `mode` typically preserves the axis it acts along. In SciPy 1.11.0, this behavior will change: the default value of `keepdims` will become False, the `axis` over which the statistic is taken will be eliminated, and the value None will no longer be accepted. Set `keepdims` to True or False to avoid this warning.\n",
      "  mode, _ = stats.mode(_y[neigh_ind, k], axis=1)\n"
     ]
    },
    {
     "name": "stdout",
     "output_type": "stream",
     "text": [
      "item\n",
      "7584    Tess Harding (Katharine Hepburn) and Sam Craig...\n",
      "7018    Rozat \"Rusty\" Sabich is a prosecutor and the r...\n",
      "2723    In Champion City, would-be superhero team of M...\n",
      "1704    Twenty-year-old Will Hunting of South Boston i...\n",
      "1496    Anna Karenina is a young and elegant wife of A...\n",
      "                              ...                        \n",
      "8057    Handsome, young Chance Wayne returns to his ho...\n",
      "1907    The film begins with a soldier walking through...\n",
      "4378    Ex-convict Gary \"Gal\" Dove is happily retired ...\n",
      "3675    On Christmas Eve, 1944, somewhere in Europe, t...\n",
      "3448    In 1965, Airman First Class Adrian Cronauer ar...\n",
      "Name: plot, Length: 980, dtype: object\n"
     ]
    },
    {
     "name": "stderr",
     "output_type": "stream",
     "text": [
      "C:\\Users\\Thom\\anaconda3\\lib\\site-packages\\sklearn\\neighbors\\_classification.py:211: FutureWarning: Unlike other reduction functions (e.g. `skew`, `kurtosis`), the default behavior of `mode` typically preserves the axis it acts along. In SciPy 1.11.0, this behavior will change: the default value of `keepdims` will become False, the `axis` over which the statistic is taken will be eliminated, and the value None will no longer be accepted. Set `keepdims` to True or False to avoid this warning.\n",
      "  mode, _ = stats.mode(_y[neigh_ind, k], axis=1)\n"
     ]
    },
    {
     "name": "stdout",
     "output_type": "stream",
     "text": [
      "item\n",
      "719      Doug Kinney (Michael Keaton) is a Los Angeles ...\n",
      "4022     In December 1995, Chuck Noland is a time-obses...\n",
      "37741    In 1959, the four dead bodies of the Clutter f...\n",
      "79132    Dominick \"Dom\" Cobb and Arthur are \"extractors...\n",
      "910      It is February 1929 in the city of Chicago, du...\n",
      "                               ...                        \n",
      "5438     Carl Taylor (Sheen) and James St. James (Estev...\n",
      "903      After a rooftop chase, where his fear of heigh...\n",
      "4725     Gordon Fleming is the owner of a small asbesto...\n",
      "1387     During a beach party at dusk on Amity Island, ...\n",
      "673      On a summer night in 1973, a young Michael Jor...\n",
      "Name: plot, Length: 308, dtype: object\n"
     ]
    },
    {
     "name": "stderr",
     "output_type": "stream",
     "text": [
      "C:\\Users\\Thom\\anaconda3\\lib\\site-packages\\sklearn\\neighbors\\_classification.py:211: FutureWarning: Unlike other reduction functions (e.g. `skew`, `kurtosis`), the default behavior of `mode` typically preserves the axis it acts along. In SciPy 1.11.0, this behavior will change: the default value of `keepdims` will become False, the `axis` over which the statistic is taken will be eliminated, and the value None will no longer be accepted. Set `keepdims` to True or False to avoid this warning.\n",
      "  mode, _ = stats.mode(_y[neigh_ind, k], axis=1)\n",
      "C:\\Users\\Thom\\anaconda3\\lib\\site-packages\\sklearn\\neighbors\\_classification.py:211: FutureWarning: Unlike other reduction functions (e.g. `skew`, `kurtosis`), the default behavior of `mode` typically preserves the axis it acts along. In SciPy 1.11.0, this behavior will change: the default value of `keepdims` will become False, the `axis` over which the statistic is taken will be eliminated, and the value None will no longer be accepted. Set `keepdims` to True or False to avoid this warning.\n",
      "  mode, _ = stats.mode(_y[neigh_ind, k], axis=1)\n"
     ]
    },
    {
     "name": "stdout",
     "output_type": "stream",
     "text": [
      "item\n",
      "2463    Millionaire Sam Stone (Danny DeVito) hates his...\n",
      "1485    In Los Angeles, career-focused lawyer Fletcher...\n",
      "904     After breaking his leg photographing a racetra...\n",
      "4886    The city of Monstropolis in the monster world ...\n",
      "2017    The film begins as a stage play presented by M...\n",
      "                              ...                        \n",
      "3081    In 1799, New York City police constable Ichabo...\n",
      "3385    Lawrence Bourne III (Tom Hanks), is a spoiled ...\n",
      "45      Suzanne Stone dreams of being a world-famous n...\n",
      "736     One stormy night in June 1969, a monstrous F5 ...\n",
      "2798    Ben Healy (John Ritter) is a good-natured yupp...\n",
      "Name: plot, Length: 86, dtype: object\n",
      "item\n",
      "586      The McCallister family is preparing to spend C...\n",
      "4226     The film starts with the Polaroid photograph o...\n",
      "3052     Bartleby and Loki are fallen angels, eternally...\n",
      "3362     On August 22, 1972, first-time crook Sonny Wor...\n",
      "7366     Ollie Trinké (Ben Affleck) is a powerful media...\n",
      "                               ...                        \n",
      "1676     In the 23rd century, while colonizing new plan...\n",
      "173      By the 2080s, much of Earth has become an unin...\n",
      "6006     The film opens with Tom and Sarah in the airpo...\n",
      "337      In the small town of Endora, Iowa, Gilbert Gra...\n",
      "45499    Twenty years in the past, Professor Charles Xa...\n",
      "Name: plot, Length: 446, dtype: object\n"
     ]
    },
    {
     "name": "stderr",
     "output_type": "stream",
     "text": [
      "C:\\Users\\Thom\\anaconda3\\lib\\site-packages\\sklearn\\neighbors\\_classification.py:211: FutureWarning: Unlike other reduction functions (e.g. `skew`, `kurtosis`), the default behavior of `mode` typically preserves the axis it acts along. In SciPy 1.11.0, this behavior will change: the default value of `keepdims` will become False, the `axis` over which the statistic is taken will be eliminated, and the value None will no longer be accepted. Set `keepdims` to True or False to avoid this warning.\n",
      "  mode, _ = stats.mode(_y[neigh_ind, k], axis=1)\n"
     ]
    },
    {
     "name": "stdout",
     "output_type": "stream",
     "text": [
      "item\n",
      "1729     Jackie Brown is a flight attendant for a small...\n",
      "377      Los Angeles Police Department (LAPD) SWAT offi...\n",
      "2797      Twelve-year-old Josh Baskin, who lives with h...\n",
      "3578     In AD 180, Hispano-Roman General Maximus Decim...\n",
      "4370     In the late 22nd century, rising sea levels fr...\n",
      "                               ...                        \n",
      "2490     In a kitchen of an underground abortionist, a ...\n",
      "2291     An elderly woman tells her granddaughter the s...\n",
      "87222    Lord Shen, the scion of a peacock clan that ru...\n",
      "87869    Nick Hendricks and Dale Arbus are friends who ...\n",
      "1278     Dr. Frederick Frankenstein is a lecturing phys...\n",
      "Name: plot, Length: 356, dtype: object\n"
     ]
    },
    {
     "name": "stderr",
     "output_type": "stream",
     "text": [
      "C:\\Users\\Thom\\anaconda3\\lib\\site-packages\\sklearn\\neighbors\\_classification.py:211: FutureWarning: Unlike other reduction functions (e.g. `skew`, `kurtosis`), the default behavior of `mode` typically preserves the axis it acts along. In SciPy 1.11.0, this behavior will change: the default value of `keepdims` will become False, the `axis` over which the statistic is taken will be eliminated, and the value None will no longer be accepted. Set `keepdims` to True or False to avoid this warning.\n",
      "  mode, _ = stats.mode(_y[neigh_ind, k], axis=1)\n",
      "C:\\Users\\Thom\\anaconda3\\lib\\site-packages\\sklearn\\neighbors\\_classification.py:211: FutureWarning: Unlike other reduction functions (e.g. `skew`, `kurtosis`), the default behavior of `mode` typically preserves the axis it acts along. In SciPy 1.11.0, this behavior will change: the default value of `keepdims` will become False, the `axis` over which the statistic is taken will be eliminated, and the value None will no longer be accepted. Set `keepdims` to True or False to avoid this warning.\n",
      "  mode, _ = stats.mode(_y[neigh_ind, k], axis=1)\n"
     ]
    },
    {
     "name": "stdout",
     "output_type": "stream",
     "text": [
      "item\n",
      "6936     On Christmas Eve, a baby boy crawls into Santa...\n",
      "4734     After getting a restraining order from Randal ...\n",
      "3948     Gaylord \"Greg\" Focker (Ben Stiller) is a male ...\n",
      "5419     The members of Mystery, Inc. solve the case of...\n",
      "4447     Fashion merchandising student Elle Woods has e...\n",
      "                               ...                        \n",
      "1345     Shy, unpopular, and bullied 16-year-old high s...\n",
      "32587    The Salesman walks onto a penthouse balcony wh...\n",
      "1438     In 1993, United States Geological Survey volca...\n",
      "4011     After stealing an 86-carat (17.2 g) diamond in...\n",
      "3210     Brad Hamilton is a popular senior at Ridgemont...\n",
      "Name: plot, Length: 162, dtype: object\n",
      "item\n",
      "1096     In 1947, Stingo relocates to Brooklyn in order...\n",
      "2947     After destroying a drug laboratory in Latin Am...\n",
      "88125    After burying Dobby, Harry Potter asks the gob...\n",
      "4022     In December 1995, Chuck Noland is a time-obses...\n",
      "2291     An elderly woman tells her granddaughter the s...\n",
      "                               ...                        \n",
      "455      The film begins with a pod of orcas swimming n...\n",
      "61132    Hook-handed Vietnam veteran Staff Sergeant Joh...\n",
      "431      In 1975, after serving 5 years of a 30-year pr...\n",
      "37857    Helena (Stephanie Leonidas) works with her par...\n",
      "59725    Carrie walks through the streets of New York C...\n",
      "Name: plot, Length: 350, dtype: object\n"
     ]
    },
    {
     "name": "stderr",
     "output_type": "stream",
     "text": [
      "C:\\Users\\Thom\\anaconda3\\lib\\site-packages\\sklearn\\neighbors\\_classification.py:211: FutureWarning: Unlike other reduction functions (e.g. `skew`, `kurtosis`), the default behavior of `mode` typically preserves the axis it acts along. In SciPy 1.11.0, this behavior will change: the default value of `keepdims` will become False, the `axis` over which the statistic is taken will be eliminated, and the value None will no longer be accepted. Set `keepdims` to True or False to avoid this warning.\n",
      "  mode, _ = stats.mode(_y[neigh_ind, k], axis=1)\n",
      "C:\\Users\\Thom\\anaconda3\\lib\\site-packages\\sklearn\\neighbors\\_classification.py:211: FutureWarning: Unlike other reduction functions (e.g. `skew`, `kurtosis`), the default behavior of `mode` typically preserves the axis it acts along. In SciPy 1.11.0, this behavior will change: the default value of `keepdims` will become False, the `axis` over which the statistic is taken will be eliminated, and the value None will no longer be accepted. Set `keepdims` to True or False to avoid this warning.\n",
      "  mode, _ = stats.mode(_y[neigh_ind, k], axis=1)\n"
     ]
    },
    {
     "name": "stdout",
     "output_type": "stream",
     "text": [
      "item\n",
      "1704     Twenty-year-old Will Hunting of South Boston i...\n",
      "72998    In 2154, humans have depleted Earth's natural ...\n",
      "160      While testing a communications laser in a remo...\n",
      "69526    In 17,000 B.C., the Seven Primes travel across...\n",
      "5957     Lucy Kelson (Sandra Bullock) is a frumpy, nerv...\n",
      "                               ...                        \n",
      "3948     Gaylord \"Greg\" Focker (Ben Stiller) is a male ...\n",
      "5449     Multibillionaire Preston Blake freezes to deat...\n",
      "79293    Evelyn Salt (Angelina Jolie) is being tortured...\n",
      "6942     The film begins with a voiceover from David (H...\n",
      "39446    Informant Michael Marks awakens in a room with...\n",
      "Name: plot, Length: 148, dtype: object\n",
      "item\n",
      "80549     Olive Penderghast, a 17-year-old girl living i...\n",
      "94478     In 1760, the Collins family moves from Liverpo...\n",
      "6367      New in New York City, Barbara Novak arrives at...\n",
      "3615      A Carnotaurus ambushes an infant Parasauroloph...\n",
      "8969      The film begins shortly before Bridget's mothe...\n",
      "                                ...                        \n",
      "44191     In 2027, the world is in turmoil and warfare, ...\n",
      "91500     As punishment for a past rebellion, the 12 dis...\n",
      "1022      Cinderella is living a dissatisfying life, hav...\n",
      "117133    The film is set sometime in the late Qin dynas...\n",
      "7147      At Will Bloom’s wedding party, his father Edwa...\n",
      "Name: plot, Length: 222, dtype: object\n"
     ]
    },
    {
     "name": "stderr",
     "output_type": "stream",
     "text": [
      "C:\\Users\\Thom\\anaconda3\\lib\\site-packages\\sklearn\\neighbors\\_classification.py:211: FutureWarning: Unlike other reduction functions (e.g. `skew`, `kurtosis`), the default behavior of `mode` typically preserves the axis it acts along. In SciPy 1.11.0, this behavior will change: the default value of `keepdims` will become False, the `axis` over which the statistic is taken will be eliminated, and the value None will no longer be accepted. Set `keepdims` to True or False to avoid this warning.\n",
      "  mode, _ = stats.mode(_y[neigh_ind, k], axis=1)\n",
      "C:\\Users\\Thom\\anaconda3\\lib\\site-packages\\sklearn\\neighbors\\_classification.py:211: FutureWarning: Unlike other reduction functions (e.g. `skew`, `kurtosis`), the default behavior of `mode` typically preserves the axis it acts along. In SciPy 1.11.0, this behavior will change: the default value of `keepdims` will become False, the `axis` over which the statistic is taken will be eliminated, and the value None will no longer be accepted. Set `keepdims` to True or False to avoid this warning.\n",
      "  mode, _ = stats.mode(_y[neigh_ind, k], axis=1)\n"
     ]
    },
    {
     "name": "stdout",
     "output_type": "stream",
     "text": [
      "item\n",
      "22        After giving a guest lecture on criminal psych...\n",
      "1584      Dr. Ellie Arroway works for the SETI program a...\n",
      "180985    P. T. Barnum and his troupe perform a show at ...\n",
      "150       In July 1969, astronaut Jim Lovell hosts a hou...\n",
      "74458     In 1954, U.S. Marshals Edward \"Teddy\" Daniels ...\n",
      "                                ...                        \n",
      "2096      After many childless years, King Stefan and Qu...\n",
      "1517      In 1967, British spy Austin Powers thwarts an ...\n",
      "6870      Three boys, Jimmy Markum, Sean Devine, and Dav...\n",
      "46970     Ricky Bobby is a man who grew up dreaming of g...\n",
      "1214      The commercial space tug Nostromo is on a retu...\n",
      "Name: plot, Length: 189, dtype: object\n",
      "item\n",
      "1097      While visiting the earth in a California fores...\n",
      "158       In the town of Friendship, Maine, two young bo...\n",
      "1207      The film's young protagonists, Jean Louise \"Sc...\n",
      "4018      Nick Marshall is a Chicago advertising executi...\n",
      "1015      Chance (voiced by Michael J. Fox), an immature...\n",
      "                                ...                        \n",
      "3606      Three sailors – Gabey, Chip, and Ozzie – begin...\n",
      "8874      Shaun is an electronics salesman with no direc...\n",
      "4306      Shrek, a green ogre who loves the solitude in ...\n",
      "160980    On January 15, 2009, US Airways pilots Captain...\n",
      "165489    The film details the marriage of Ethel and Ern...\n",
      "Name: plot, Length: 201, dtype: object\n"
     ]
    },
    {
     "name": "stderr",
     "output_type": "stream",
     "text": [
      "C:\\Users\\Thom\\anaconda3\\lib\\site-packages\\sklearn\\neighbors\\_classification.py:211: FutureWarning: Unlike other reduction functions (e.g. `skew`, `kurtosis`), the default behavior of `mode` typically preserves the axis it acts along. In SciPy 1.11.0, this behavior will change: the default value of `keepdims` will become False, the `axis` over which the statistic is taken will be eliminated, and the value None will no longer be accepted. Set `keepdims` to True or False to avoid this warning.\n",
      "  mode, _ = stats.mode(_y[neigh_ind, k], axis=1)\n",
      "C:\\Users\\Thom\\anaconda3\\lib\\site-packages\\sklearn\\neighbors\\_classification.py:211: FutureWarning: Unlike other reduction functions (e.g. `skew`, `kurtosis`), the default behavior of `mode` typically preserves the axis it acts along. In SciPy 1.11.0, this behavior will change: the default value of `keepdims` will become False, the `axis` over which the statistic is taken will be eliminated, and the value None will no longer be accepted. Set `keepdims` to True or False to avoid this warning.\n",
      "  mode, _ = stats.mode(_y[neigh_ind, k], axis=1)\n"
     ]
    },
    {
     "name": "stdout",
     "output_type": "stream",
     "text": [
      "item\n",
      "8644    In the year 2035, humanoid robots serve humani...\n",
      "2985    In the near future, Detroit, Michigan, is a dy...\n",
      "2393    Lieutenant Commander Data (Brent Spiner) is te...\n",
      "4085    Young and reckless Detroit police detective Ax...\n",
      "2012    On November 12, 1955, Marty McFly discovers th...\n",
      "                              ...                        \n",
      "7036    Scott Howard is a seventeen-year-old high scho...\n",
      "368     In the American Old West, gambler Bret Maveric...\n",
      "344     Ace Ventura is an eccentric Miami-based privat...\n",
      "1270    In 1985 Hill Valley, California, teenager Mart...\n",
      "4370    In the late 22nd century, rising sea levels fr...\n",
      "Name: plot, Length: 89, dtype: object\n",
      "item\n",
      "223      Dante Hicks, a 22-year-old retail clerk at the...\n",
      "2908     Brandon Teena (Hilary Swank) is a young trans ...\n",
      "588      Many centuries ago in the fictional city of Ag...\n",
      "1200     Ellen Ripley has been in stasis in a shuttle f...\n",
      "4027     Three convicts, Ulysses Everett McGill, Pete H...\n",
      "                               ...                        \n",
      "67197    In 1959, Lucinda Embry hears whispers while st...\n",
      "1374     In the year 2285, Admiral James T. Kirk overse...\n",
      "1302     Ray Kinsella is a novice Iowa farmer who lives...\n",
      "68358    In the 23rd century, the Federation starship U...\n",
      "81834    Minister of Magic Rufus Scrimgeour addresses t...\n",
      "Name: plot, Length: 104, dtype: object\n"
     ]
    },
    {
     "name": "stderr",
     "output_type": "stream",
     "text": [
      "C:\\Users\\Thom\\anaconda3\\lib\\site-packages\\sklearn\\neighbors\\_classification.py:211: FutureWarning: Unlike other reduction functions (e.g. `skew`, `kurtosis`), the default behavior of `mode` typically preserves the axis it acts along. In SciPy 1.11.0, this behavior will change: the default value of `keepdims` will become False, the `axis` over which the statistic is taken will be eliminated, and the value None will no longer be accepted. Set `keepdims` to True or False to avoid this warning.\n",
      "  mode, _ = stats.mode(_y[neigh_ind, k], axis=1)\n"
     ]
    },
    {
     "name": "stdout",
     "output_type": "stream",
     "text": [
      "item\n",
      "1222      During the United States' involvement in the V...\n",
      "595       One winter's night, an enchantress disguised a...\n",
      "520       Robin of Locksley (Cary Elwes) is captured dur...\n",
      "3114      Andy prepares to go to cowboy camp with Woody,...\n",
      "6377      Two clownfish, Marlin and Coral, admire their ...\n",
      "                                ...                        \n",
      "111759    In 2015, an alien race called Mimics arrive in...\n",
      "2291      An elderly woman tells her granddaughter the s...\n",
      "8641      In 1974, Ron Burgundy is the famous anchorman ...\n",
      "91500     As punishment for a past rebellion, the 12 dis...\n",
      "4639      Film publicist Lee Phillips is tasked with pro...\n",
      "Name: plot, Length: 251, dtype: object\n"
     ]
    },
    {
     "name": "stderr",
     "output_type": "stream",
     "text": [
      "C:\\Users\\Thom\\anaconda3\\lib\\site-packages\\sklearn\\neighbors\\_classification.py:211: FutureWarning: Unlike other reduction functions (e.g. `skew`, `kurtosis`), the default behavior of `mode` typically preserves the axis it acts along. In SciPy 1.11.0, this behavior will change: the default value of `keepdims` will become False, the `axis` over which the statistic is taken will be eliminated, and the value None will no longer be accepted. Set `keepdims` to True or False to avoid this warning.\n",
      "  mode, _ = stats.mode(_y[neigh_ind, k], axis=1)\n"
     ]
    },
    {
     "name": "stdout",
     "output_type": "stream",
     "text": [
      "item\n",
      "7293     Henry Roth is a veterinarian at Sea Life Park ...\n",
      "3114     Andy prepares to go to cowboy camp with Woody,...\n",
      "2054     In 1982, Scientist and inventor Wayne Szalinsk...\n",
      "66097    Coraline Jones and her parents move from Ponti...\n",
      "69436    Zed (Jack Black) is a hunter and Oh (Michael C...\n",
      "                               ...                        \n",
      "4011     After stealing an 86-carat (17.2 g) diamond in...\n",
      "87232    In 1944, in a Nazi death camp, Nazi scientist ...\n",
      "85261    Unbeknownst to humans, there is a thriving, te...\n",
      "500      Daniel Hillard is a freelance voice actor in S...\n",
      "1517     In 1967, British spy Austin Powers thwarts an ...\n",
      "Name: plot, Length: 275, dtype: object\n"
     ]
    },
    {
     "name": "stderr",
     "output_type": "stream",
     "text": [
      "C:\\Users\\Thom\\anaconda3\\lib\\site-packages\\sklearn\\neighbors\\_classification.py:211: FutureWarning: Unlike other reduction functions (e.g. `skew`, `kurtosis`), the default behavior of `mode` typically preserves the axis it acts along. In SciPy 1.11.0, this behavior will change: the default value of `keepdims` will become False, the `axis` over which the statistic is taken will be eliminated, and the value None will no longer be accepted. Set `keepdims` to True or False to avoid this warning.\n",
      "  mode, _ = stats.mode(_y[neigh_ind, k], axis=1)\n",
      "C:\\Users\\Thom\\anaconda3\\lib\\site-packages\\sklearn\\neighbors\\_classification.py:211: FutureWarning: Unlike other reduction functions (e.g. `skew`, `kurtosis`), the default behavior of `mode` typically preserves the axis it acts along. In SciPy 1.11.0, this behavior will change: the default value of `keepdims` will become False, the `axis` over which the statistic is taken will be eliminated, and the value None will no longer be accepted. Set `keepdims` to True or False to avoid this warning.\n",
      "  mode, _ = stats.mode(_y[neigh_ind, k], axis=1)\n"
     ]
    },
    {
     "name": "stdout",
     "output_type": "stream",
     "text": [
      "item\n",
      "3114    Andy prepares to go to cowboy camp with Woody,...\n",
      "5747    In Western Australia, May 1915, Archy Hamilton...\n",
      "4701    Four days after the events of Rush Hour, LAPD ...\n",
      "3175    The former cast of the cult television space-a...\n",
      "3300    In the distant future, the ship Hunter-Gratzne...\n",
      "                              ...                        \n",
      "1584    Dr. Ellie Arroway works for the SETI program a...\n",
      "3435    In 1938, Walter Neff, a successful insurance s...\n",
      "541     In 2019 Los Angeles, former police officer Ric...\n",
      "1438    In 1993, United States Geological Survey volca...\n",
      "2991    Three MI6 agents are killed under mysterious c...\n",
      "Name: plot, Length: 101, dtype: object\n",
      "item\n",
      "2174    Barbara and Adam Maitland decide to spend thei...\n",
      "2470    Sue Charlton is a feature writer for her fathe...\n",
      "1091    Larry Wilson (Andrew McCarthy) and Richard Par...\n",
      "1356    It is the 24th century. Captain Jean Luc Picar...\n",
      "2706    Five high school seniors from West Michigan ar...\n",
      "                              ...                        \n",
      "2011    On October 26, 1985, Dr. Emmett Brown arrives ...\n",
      "1129    In 1988, following a 400% increase in crime, t...\n",
      "1378    John Tunstall (Terence Stamp), an educated Eng...\n",
      "3844    Annelle Dupuy, a reserved beauty school gradua...\n",
      "3105    In 1969, Dr. Malcolm Sayer (Robin Williams) is...\n",
      "Name: plot, Length: 324, dtype: object\n"
     ]
    },
    {
     "name": "stderr",
     "output_type": "stream",
     "text": [
      "C:\\Users\\Thom\\anaconda3\\lib\\site-packages\\sklearn\\neighbors\\_classification.py:211: FutureWarning: Unlike other reduction functions (e.g. `skew`, `kurtosis`), the default behavior of `mode` typically preserves the axis it acts along. In SciPy 1.11.0, this behavior will change: the default value of `keepdims` will become False, the `axis` over which the statistic is taken will be eliminated, and the value None will no longer be accepted. Set `keepdims` to True or False to avoid this warning.\n",
      "  mode, _ = stats.mode(_y[neigh_ind, k], axis=1)\n"
     ]
    },
    {
     "name": "stdout",
     "output_type": "stream",
     "text": [
      "item\n",
      "107406    In 2014, an attempt to counteract global warmi...\n",
      "3253      In Aurora, Illinois, rock and roll fans Wayne ...\n",
      "5481      In his new headquarters behind the famous Holl...\n",
      "111759    In 2015, an alien race called Mimics arrive in...\n",
      "6947      During the Napoleonic Wars, Captain Jack Aubre...\n",
      "                                ...                        \n",
      "136020    A posthumous message from the previous M leads...\n",
      "1704      Twenty-year-old Will Hunting of South Boston i...\n",
      "90531     Brandon Sullivan is an Irish-American New York...\n",
      "55444     Ian Curtis (Sam Riley) and Debbie Woodruff (Sa...\n",
      "2858      Lester Burnham is a middle-aged office worker ...\n",
      "Name: plot, Length: 214, dtype: object\n"
     ]
    },
    {
     "name": "stderr",
     "output_type": "stream",
     "text": [
      "C:\\Users\\Thom\\anaconda3\\lib\\site-packages\\sklearn\\neighbors\\_classification.py:211: FutureWarning: Unlike other reduction functions (e.g. `skew`, `kurtosis`), the default behavior of `mode` typically preserves the axis it acts along. In SciPy 1.11.0, this behavior will change: the default value of `keepdims` will become False, the `axis` over which the statistic is taken will be eliminated, and the value None will no longer be accepted. Set `keepdims` to True or False to avoid this warning.\n",
      "  mode, _ = stats.mode(_y[neigh_ind, k], axis=1)\n"
     ]
    },
    {
     "name": "stdout",
     "output_type": "stream",
     "text": [
      "item\n",
      "3489     Peter Banning is a successful corporate lawyer...\n",
      "3253     In Aurora, Illinois, rock and roll fans Wayne ...\n",
      "6711     Bob Harris, an aging American movie star, arri...\n",
      "2404     Colonel Sam Trautman visits his old friend and...\n",
      "4886     The city of Monstropolis in the monster world ...\n",
      "                               ...                        \n",
      "71535    Two months have passed since a strain of mad c...\n",
      "96737    The future United States is a dystopic irradia...\n",
      "96079    MI6 agents James Bond and Eve Moneypenny pursu...\n",
      "1129     In 1988, following a 400% increase in crime, t...\n",
      "2717     After saving New York City from the demi-god G...\n",
      "Name: plot, Length: 276, dtype: object\n"
     ]
    },
    {
     "name": "stderr",
     "output_type": "stream",
     "text": [
      "C:\\Users\\Thom\\anaconda3\\lib\\site-packages\\sklearn\\neighbors\\_classification.py:211: FutureWarning: Unlike other reduction functions (e.g. `skew`, `kurtosis`), the default behavior of `mode` typically preserves the axis it acts along. In SciPy 1.11.0, this behavior will change: the default value of `keepdims` will become False, the `axis` over which the statistic is taken will be eliminated, and the value None will no longer be accepted. Set `keepdims` to True or False to avoid this warning.\n",
      "  mode, _ = stats.mode(_y[neigh_ind, k], axis=1)\n",
      "C:\\Users\\Thom\\anaconda3\\lib\\site-packages\\sklearn\\neighbors\\_classification.py:211: FutureWarning: Unlike other reduction functions (e.g. `skew`, `kurtosis`), the default behavior of `mode` typically preserves the axis it acts along. In SciPy 1.11.0, this behavior will change: the default value of `keepdims` will become False, the `axis` over which the statistic is taken will be eliminated, and the value None will no longer be accepted. Set `keepdims` to True or False to avoid this warning.\n",
      "  mode, _ = stats.mode(_y[neigh_ind, k], axis=1)\n"
     ]
    },
    {
     "name": "stdout",
     "output_type": "stream",
     "text": [
      "item\n",
      "1200     Ellen Ripley has been in stasis in a shuttle f...\n",
      "88163    Cal Weaver is a middle-aged man who is told by...\n",
      "4442     Set in New York City, the movie follows a mart...\n",
      "2918     In suburban Chicago, near the end of the high ...\n",
      "7160     In 1989, after moving from Michigan to Daytona...\n",
      "                               ...                        \n",
      "80860    Holly Berenson (Katherine Heigl) is the owner ...\n",
      "5299     Being 30-years-old and single, Fotoula \"Toula\"...\n",
      "2648     In a European village, a young scientist, name...\n",
      "589      In 1995, John Connor is living in Los Angeles ...\n",
      "2395     Max Fischer (Schwartzman), an eccentric 15-yea...\n",
      "Name: plot, Length: 128, dtype: object\n",
      "item\n",
      "117176    At the University of Cambridge, astrophysics s...\n",
      "56949     Jane Nichols (Katherine Heigl) has been a brid...\n",
      "70932     Georgia (Nia Vardalos) is a Greek American tea...\n",
      "7451      Sixteen-year-old homeschooled Cady Heron and h...\n",
      "1367      American video game designer Roger Dearly (Dan...\n",
      "                                ...                        \n",
      "91500     As punishment for a past rebellion, the 12 dis...\n",
      "95199     Set in Atlanta,[4] the film opens with fitness...\n",
      "95441     In 1985, eight-year-old John Bennett is an onl...\n",
      "126548    Bianca is enjoying her senior year of high sch...\n",
      "1907      The film begins with a soldier walking through...\n",
      "Name: plot, Length: 114, dtype: object\n"
     ]
    },
    {
     "name": "stderr",
     "output_type": "stream",
     "text": [
      "C:\\Users\\Thom\\anaconda3\\lib\\site-packages\\sklearn\\neighbors\\_classification.py:211: FutureWarning: Unlike other reduction functions (e.g. `skew`, `kurtosis`), the default behavior of `mode` typically preserves the axis it acts along. In SciPy 1.11.0, this behavior will change: the default value of `keepdims` will become False, the `axis` over which the statistic is taken will be eliminated, and the value None will no longer be accepted. Set `keepdims` to True or False to avoid this warning.\n",
      "  mode, _ = stats.mode(_y[neigh_ind, k], axis=1)\n",
      "C:\\Users\\Thom\\anaconda3\\lib\\site-packages\\sklearn\\neighbors\\_classification.py:211: FutureWarning: Unlike other reduction functions (e.g. `skew`, `kurtosis`), the default behavior of `mode` typically preserves the axis it acts along. In SciPy 1.11.0, this behavior will change: the default value of `keepdims` will become False, the `axis` over which the statistic is taken will be eliminated, and the value None will no longer be accepted. Set `keepdims` to True or False to avoid this warning.\n",
      "  mode, _ = stats.mode(_y[neigh_ind, k], axis=1)\n"
     ]
    },
    {
     "name": "stdout",
     "output_type": "stream",
     "text": [
      "item\n",
      "67734     In 1987, James Brennan plans to have a summer ...\n",
      "65230     Soon after their wedding, John and Jenny Groga...\n",
      "69757     The film is presented in a nonlinear narrative...\n",
      "67087     Peter Klaven (Paul Rudd), a Los Angeles real e...\n",
      "149352    Mild-mannered radio executive Brad Whitaker st...\n",
      "                                ...                        \n",
      "40581     In 1995, Chris Brander (Ryan Reynolds) is an o...\n",
      "3617      Josh Parker and Tiffany Henderson are childhoo...\n",
      "94323     The film follows four storylines about each of...\n",
      "58655     On the first day of high school, Wade and Ryan...\n",
      "90522     Johnny English (Rowan Atkinson) has been train...\n",
      "Name: plot, Length: 96, dtype: object\n",
      "item\n",
      "34150     Physicist Reed Richards is convinced evolution...\n",
      "151687    After crushing a Zealot revolt led by Barabbas...\n",
      "32031     In Rivet Town, Rodney Copperbottom is a young ...\n",
      "71899     In 1976, eight-year-old Mary Daisy Dinkle (Bet...\n",
      "86882     In 2010, Gil Pender, a successful but creative...\n",
      "                                ...                        \n",
      "2384      Months after the events of the first film, Bab...\n",
      "33794     As a child, Bruce Wayne falls down into a dry ...\n",
      "59784     In the Valley of Peace, a land in ancient Chin...\n",
      "135288    In 1947, the long-retired Sherlock Holmes, age...\n",
      "76093     The Isle of Berk is a remote Viking village, f...\n",
      "Name: plot, Length: 181, dtype: object\n"
     ]
    },
    {
     "name": "stderr",
     "output_type": "stream",
     "text": [
      "C:\\Users\\Thom\\anaconda3\\lib\\site-packages\\sklearn\\neighbors\\_classification.py:211: FutureWarning: Unlike other reduction functions (e.g. `skew`, `kurtosis`), the default behavior of `mode` typically preserves the axis it acts along. In SciPy 1.11.0, this behavior will change: the default value of `keepdims` will become False, the `axis` over which the statistic is taken will be eliminated, and the value None will no longer be accepted. Set `keepdims` to True or False to avoid this warning.\n",
      "  mode, _ = stats.mode(_y[neigh_ind, k], axis=1)\n",
      "C:\\Users\\Thom\\anaconda3\\lib\\site-packages\\sklearn\\neighbors\\_classification.py:211: FutureWarning: Unlike other reduction functions (e.g. `skew`, `kurtosis`), the default behavior of `mode` typically preserves the axis it acts along. In SciPy 1.11.0, this behavior will change: the default value of `keepdims` will become False, the `axis` over which the statistic is taken will be eliminated, and the value None will no longer be accepted. Set `keepdims` to True or False to avoid this warning.\n",
      "  mode, _ = stats.mode(_y[neigh_ind, k], axis=1)\n"
     ]
    },
    {
     "name": "stdout",
     "output_type": "stream",
     "text": [
      "item\n",
      "903      After a rooftop chase, where his fear of heigh...\n",
      "7254     Growing up, Evan Treborn and his friends, Lenn...\n",
      "1961     Charlie Babbitt is in the middle of importing ...\n",
      "1270     In 1985 Hill Valley, California, teenager Mart...\n",
      "2841     Tom Witzky is a phone lineman living in a work...\n",
      "                               ...                        \n",
      "2012     On November 12, 1955, Marty McFly discovers th...\n",
      "49530    It is 1999 and Sierra Leone is ravaged by majo...\n",
      "6323     A convict named Malcolm Rivers awaits executio...\n",
      "1199     Sam Lowry is a low-level government employee w...\n",
      "587      Sam Wheat, a banker, and his girlfriend Molly ...\n",
      "Name: plot, Length: 100, dtype: object\n",
      "item\n",
      "1961    Charlie Babbitt is in the middle of importing ...\n",
      "908     At a New York City hotel bar in 1958, two thug...\n",
      "1129    In 1988, following a 400% increase in crime, t...\n",
      "1952    Joe Buck, a young Texan working as a dishwashe...\n",
      "1663    John Winger is a cab driver who, in the span o...\n",
      "                              ...                        \n",
      "1356    It is the 24th century. Captain Jean Luc Picar...\n",
      "1569    Julianne Potter (Julia Roberts), a 27-year-old...\n",
      "1964    A Pennsylvania chemical company executive, Tom...\n",
      "1124    An aging couple, Ethel and Norman Thayer, cont...\n",
      "1259    Author Gordie Lachance reads in the newspaper ...\n",
      "Name: plot, Length: 83, dtype: object\n"
     ]
    },
    {
     "name": "stderr",
     "output_type": "stream",
     "text": [
      "C:\\Users\\Thom\\anaconda3\\lib\\site-packages\\sklearn\\neighbors\\_classification.py:211: FutureWarning: Unlike other reduction functions (e.g. `skew`, `kurtosis`), the default behavior of `mode` typically preserves the axis it acts along. In SciPy 1.11.0, this behavior will change: the default value of `keepdims` will become False, the `axis` over which the statistic is taken will be eliminated, and the value None will no longer be accepted. Set `keepdims` to True or False to avoid this warning.\n",
      "  mode, _ = stats.mode(_y[neigh_ind, k], axis=1)\n",
      "C:\\Users\\Thom\\anaconda3\\lib\\site-packages\\sklearn\\neighbors\\_classification.py:211: FutureWarning: Unlike other reduction functions (e.g. `skew`, `kurtosis`), the default behavior of `mode` typically preserves the axis it acts along. In SciPy 1.11.0, this behavior will change: the default value of `keepdims` will become False, the `axis` over which the statistic is taken will be eliminated, and the value None will no longer be accepted. Set `keepdims` to True or False to avoid this warning.\n",
      "  mode, _ = stats.mode(_y[neigh_ind, k], axis=1)\n"
     ]
    },
    {
     "name": "stdout",
     "output_type": "stream",
     "text": [
      "item\n",
      "1259     Author Gordie Lachance reads in the newspaper ...\n",
      "2916     Construction worker Douglas Quaid is having tr...\n",
      "4239     A young George Jung and his parents Fred and E...\n",
      "53464    As Reed Richards and Sue Storm prepare for the...\n",
      "3897     In 1969, child prodigy William Miller struggle...\n",
      "                               ...                        \n",
      "3527     A spacecraft flies near Earth and releases a b...\n",
      "150      In July 1969, astronaut Jim Lovell hosts a hou...\n",
      "53000    During the original outbreak of the Rage Virus...\n",
      "66097    Coraline Jones and her parents move from Ponti...\n",
      "53125    In order to control the oceans, Lord Cutler Be...\n",
      "Name: plot, Length: 162, dtype: object\n",
      "item\n",
      "7834     Nick and Nora Charles return from vacation to ...\n",
      "1917     A massive meteor shower destroys the orbiting ...\n",
      "4239     A young George Jung and his parents Fred and E...\n",
      "2600     In the near-future, biotechnological virtual r...\n",
      "7360     After finishing a long shift as a nurse, Ana r...\n",
      "                               ...                        \n",
      "2294     In an ant colony, Z-4195, or \"Z\" for short, is...\n",
      "46530    For the previous five years, Superman has myst...\n",
      "653      An English knight, Bowen (Dennis Quaid), mento...\n",
      "592      As Gotham City approaches its bicentennial, Ma...\n",
      "3481     Rob Gordon is a self-confessed music loving ev...\n",
      "Name: plot, Length: 210, dtype: object\n"
     ]
    },
    {
     "name": "stderr",
     "output_type": "stream",
     "text": [
      "C:\\Users\\Thom\\anaconda3\\lib\\site-packages\\sklearn\\neighbors\\_classification.py:211: FutureWarning: Unlike other reduction functions (e.g. `skew`, `kurtosis`), the default behavior of `mode` typically preserves the axis it acts along. In SciPy 1.11.0, this behavior will change: the default value of `keepdims` will become False, the `axis` over which the statistic is taken will be eliminated, and the value None will no longer be accepted. Set `keepdims` to True or False to avoid this warning.\n",
      "  mode, _ = stats.mode(_y[neigh_ind, k], axis=1)\n"
     ]
    },
    {
     "name": "stdout",
     "output_type": "stream",
     "text": [
      "item\n",
      "440       Dave Kovic runs a temporary employment agency ...\n",
      "45431     While scavenging for food, RJ the raccoon ente...\n",
      "4489      In the fictional African nation of Zamunda, cr...\n",
      "102125    At a New Year's Eve party in 1999, Tony Stark ...\n",
      "1291      In 1912, thirteen-year-old Indiana Jones is ho...\n",
      "                                ...                        \n",
      "589       In 1995, John Connor is living in Los Angeles ...\n",
      "120799    Human Resistance leader John Connor (Jason Cla...\n",
      "122904    Wade Wilson is a dishonorably discharged speci...\n",
      "786       John Kruger -a top U.S. Marshal for the Witnes...\n",
      "177765    In Santa Cecilia, Mexico, Imelda Rivera is the...\n",
      "Name: plot, Length: 107, dtype: object\n"
     ]
    },
    {
     "name": "stderr",
     "output_type": "stream",
     "text": [
      "C:\\Users\\Thom\\anaconda3\\lib\\site-packages\\sklearn\\neighbors\\_classification.py:211: FutureWarning: Unlike other reduction functions (e.g. `skew`, `kurtosis`), the default behavior of `mode` typically preserves the axis it acts along. In SciPy 1.11.0, this behavior will change: the default value of `keepdims` will become False, the `axis` over which the statistic is taken will be eliminated, and the value None will no longer be accepted. Set `keepdims` to True or False to avoid this warning.\n",
      "  mode, _ = stats.mode(_y[neigh_ind, k], axis=1)\n",
      "C:\\Users\\Thom\\anaconda3\\lib\\site-packages\\sklearn\\neighbors\\_classification.py:211: FutureWarning: Unlike other reduction functions (e.g. `skew`, `kurtosis`), the default behavior of `mode` typically preserves the axis it acts along. In SciPy 1.11.0, this behavior will change: the default value of `keepdims` will become False, the `axis` over which the statistic is taken will be eliminated, and the value None will no longer be accepted. Set `keepdims` to True or False to avoid this warning.\n",
      "  mode, _ = stats.mode(_y[neigh_ind, k], axis=1)\n"
     ]
    },
    {
     "name": "stdout",
     "output_type": "stream",
     "text": [
      "item\n",
      "3435    In 1938, Walter Neff, a successful insurance s...\n",
      "1374    In the year 2285, Admiral James T. Kirk overse...\n",
      "1302    Ray Kinsella is a novice Iowa farmer who lives...\n",
      "590     In 1863, First Lieutenant John J. Dunbar is wo...\n",
      "2471    A year has passed since the events of Crocodil...\n",
      "                              ...                        \n",
      "765     The film begins with Karen Powell (Diane Lane)...\n",
      "440     Dave Kovic runs a temporary employment agency ...\n",
      "2108    Harris K. Telemacher (Steve Martin) is a TV me...\n",
      "539     After Chicago architect Sam Baldwin loses his ...\n",
      "3445    Laura Mars (Faye Dunaway) is a glamorous fashi...\n",
      "Name: plot, Length: 94, dtype: object\n",
      "item\n",
      "4022     In December 1995, Chuck Noland is a time-obses...\n",
      "50068    In 2005, Japanese archaeologists explore tunne...\n",
      "1124     An aging couple, Ethel and Norman Thayer, cont...\n",
      "8368     Harry Potter has been spending another dissati...\n",
      "3504     Howard Beale, the longtime anchor of the Union...\n",
      "                               ...                        \n",
      "8972     Benjamin Franklin Gates is an American histori...\n",
      "73023    Otis \"Bad\" Blake (Jeff Bridges) is a 57-year-o...\n",
      "3256     Retired CIA analyst Jack Ryan is on vacation w...\n",
      "1393     Jerry Maguire (Tom Cruise) is a glossy 35-year...\n",
      "597      High-powered businessman Edward Lewis has brok...\n",
      "Name: plot, Length: 398, dtype: object\n"
     ]
    },
    {
     "name": "stderr",
     "output_type": "stream",
     "text": [
      "C:\\Users\\Thom\\anaconda3\\lib\\site-packages\\sklearn\\neighbors\\_classification.py:211: FutureWarning: Unlike other reduction functions (e.g. `skew`, `kurtosis`), the default behavior of `mode` typically preserves the axis it acts along. In SciPy 1.11.0, this behavior will change: the default value of `keepdims` will become False, the `axis` over which the statistic is taken will be eliminated, and the value None will no longer be accepted. Set `keepdims` to True or False to avoid this warning.\n",
      "  mode, _ = stats.mode(_y[neigh_ind, k], axis=1)\n",
      "C:\\Users\\Thom\\anaconda3\\lib\\site-packages\\sklearn\\neighbors\\_classification.py:211: FutureWarning: Unlike other reduction functions (e.g. `skew`, `kurtosis`), the default behavior of `mode` typically preserves the axis it acts along. In SciPy 1.11.0, this behavior will change: the default value of `keepdims` will become False, the `axis` over which the statistic is taken will be eliminated, and the value None will no longer be accepted. Set `keepdims` to True or False to avoid this warning.\n",
      "  mode, _ = stats.mode(_y[neigh_ind, k], axis=1)\n"
     ]
    },
    {
     "name": "stdout",
     "output_type": "stream",
     "text": [
      "item\n",
      "442     In 1996, psychopathic career criminal Simon Ph...\n",
      "786     John Kruger -a top U.S. Marshal for the Witnes...\n",
      "3793    In Nazi-occupied Poland, 12-year-old Erik Lehn...\n",
      "5105    Sometime after the drowning of their young dau...\n",
      "7169    Anna Foster (Mandy Moore) is the daughter of P...\n",
      "                              ...                        \n",
      "594     Snow White is a lonely princess living with he...\n",
      "6659    Valentine \"Val\" McKee and Earl Basset work as ...\n",
      "7373    In 1944, with the help of Russian mystic Grigo...\n",
      "252     Is everything random \"or is there a Grand Desi...\n",
      "1608    A U.S. and Russian joint military operation re...\n",
      "Name: plot, Length: 117, dtype: object\n",
      "item\n",
      "122882    Following a nuclear holocaust, the world has b...\n",
      "76093     The Isle of Berk is a remote Viking village, f...\n",
      "88140     In the present day, scientists in the Arctic u...\n",
      "4018      Nick Marshall is a Chicago advertising executi...\n",
      "69495     Eric McNally (Tom Cavanagh) is a gay retired h...\n",
      "                                ...                        \n",
      "37729     In a Victorian village, Victor Van Dort, the s...\n",
      "122900    In 1989, scientist Hank Pym resigns from S.H.I...\n",
      "122904    Wade Wilson is a dishonorably discharged speci...\n",
      "6863      No Vacancy, a rock band, performs at a nightcl...\n",
      "152081    In a world populated by anthropomorphic mammal...\n",
      "Name: plot, Length: 209, dtype: object\n"
     ]
    },
    {
     "name": "stderr",
     "output_type": "stream",
     "text": [
      "C:\\Users\\Thom\\anaconda3\\lib\\site-packages\\sklearn\\neighbors\\_classification.py:211: FutureWarning: Unlike other reduction functions (e.g. `skew`, `kurtosis`), the default behavior of `mode` typically preserves the axis it acts along. In SciPy 1.11.0, this behavior will change: the default value of `keepdims` will become False, the `axis` over which the statistic is taken will be eliminated, and the value None will no longer be accepted. Set `keepdims` to True or False to avoid this warning.\n",
      "  mode, _ = stats.mode(_y[neigh_ind, k], axis=1)\n"
     ]
    },
    {
     "name": "stdout",
     "output_type": "stream",
     "text": [
      "item\n",
      "2303    The overarching plot takes place over five day...\n",
      "1721    In 1996, treasure hunter Brock Lovett and his ...\n",
      "69      Craig Jones, a young man living in South Centr...\n",
      "7       Sabrina Fairchild is the young daughter of the...\n",
      "1186    Ann Bishop Mullany lives in Baton Rouge. She i...\n",
      "                              ...                        \n",
      "2522    A privately owned luxury Boeing 747-100, Steve...\n",
      "490     Andy and Tracy Safian are a newlywed couple li...\n",
      "1171    Bob Roberts takes place in Pennsylvania, USA i...\n",
      "2746    A three-girl \"Greek chorus\"—Crystal, Ronnette,...\n",
      "1784    Melvin Udall is a misanthrope who works at hom...\n",
      "Name: plot, Length: 246, dtype: object\n"
     ]
    },
    {
     "name": "stderr",
     "output_type": "stream",
     "text": [
      "C:\\Users\\Thom\\anaconda3\\lib\\site-packages\\sklearn\\neighbors\\_classification.py:211: FutureWarning: Unlike other reduction functions (e.g. `skew`, `kurtosis`), the default behavior of `mode` typically preserves the axis it acts along. In SciPy 1.11.0, this behavior will change: the default value of `keepdims` will become False, the `axis` over which the statistic is taken will be eliminated, and the value None will no longer be accepted. Set `keepdims` to True or False to avoid this warning.\n",
      "  mode, _ = stats.mode(_y[neigh_ind, k], axis=1)\n"
     ]
    },
    {
     "name": "stdout",
     "output_type": "stream",
     "text": [
      "item\n",
      "181315    In 1954 London, renowned fashion designer Reyn...\n",
      "1224      The film begins with Chorus, in this case a pe...\n",
      "432       A year after the events of the first film, Mit...\n",
      "81562     Mountaineer Aron Ralston goes hiking at Utah's...\n",
      "1034      Vanessa Lutz is a poor, illiterate, though not...\n",
      "                                ...                        \n",
      "2640      On the planet Krypton, using evidence provided...\n",
      "32587     The Salesman walks onto a penthouse balcony wh...\n",
      "80880     Young mother Madylyn Mabry puts her daughter t...\n",
      "3030      In 1860, during the final years of the Tokugaw...\n",
      "2792      In the near future, the Moon has been colonize...\n",
      "Name: plot, Length: 1179, dtype: object\n"
     ]
    },
    {
     "name": "stderr",
     "output_type": "stream",
     "text": [
      "C:\\Users\\Thom\\anaconda3\\lib\\site-packages\\sklearn\\neighbors\\_classification.py:211: FutureWarning: Unlike other reduction functions (e.g. `skew`, `kurtosis`), the default behavior of `mode` typically preserves the axis it acts along. In SciPy 1.11.0, this behavior will change: the default value of `keepdims` will become False, the `axis` over which the statistic is taken will be eliminated, and the value None will no longer be accepted. Set `keepdims` to True or False to avoid this warning.\n",
      "  mode, _ = stats.mode(_y[neigh_ind, k], axis=1)\n"
     ]
    },
    {
     "name": "stdout",
     "output_type": "stream",
     "text": [
      "item\n",
      "4677    Scott Turner is a highly studious and obsessiv...\n",
      "1291    In 1912, thirteen-year-old Indiana Jones is ho...\n",
      "7161    Tom Baker is a football coach at a small rural...\n",
      "2409    On New Year's Day in 1976, Apollo Creed has de...\n",
      "380     Harry Tasker leads a double life: to his wife ...\n",
      "                              ...                        \n",
      "8636    Peter Parker, secretly the superhero Spider-Ma...\n",
      "4370    In the late 22nd century, rising sea levels fr...\n",
      "2303    The overarching plot takes place over five day...\n",
      "1230    The comedian Alvy Singer is trying to understa...\n",
      "1057    The emotions of an extended upper-class family...\n",
      "Name: plot, Length: 394, dtype: object\n"
     ]
    },
    {
     "name": "stderr",
     "output_type": "stream",
     "text": [
      "C:\\Users\\Thom\\anaconda3\\lib\\site-packages\\sklearn\\neighbors\\_classification.py:211: FutureWarning: Unlike other reduction functions (e.g. `skew`, `kurtosis`), the default behavior of `mode` typically preserves the axis it acts along. In SciPy 1.11.0, this behavior will change: the default value of `keepdims` will become False, the `axis` over which the statistic is taken will be eliminated, and the value None will no longer be accepted. Set `keepdims` to True or False to avoid this warning.\n",
      "  mode, _ = stats.mode(_y[neigh_ind, k], axis=1)\n"
     ]
    },
    {
     "name": "stdout",
     "output_type": "stream",
     "text": [
      "item\n",
      "2730    An omniscient (though possibly unreliable)[3] ...\n",
      "2908    Brandon Teena (Hilary Swank) is a young trans ...\n",
      "924     In an African desert millions of years ago, a ...\n",
      "851     The film is a lightly fictionalised account of...\n",
      "3344    In the midst of a series of gruesome murders, ...\n",
      "                              ...                        \n",
      "920     On the eve of the American Civil War in 1861, ...\n",
      "190     Set in an affluent neighborhood of the San Fer...\n",
      "2443    Among the characters are an older couple about...\n",
      "2160    In 1965, Guy and Rosemary Woodhouse move into ...\n",
      "1208    In 1969, during the Vietnam War, United States...\n",
      "Name: plot, Length: 456, dtype: object\n"
     ]
    },
    {
     "name": "stderr",
     "output_type": "stream",
     "text": [
      "C:\\Users\\Thom\\anaconda3\\lib\\site-packages\\sklearn\\neighbors\\_classification.py:211: FutureWarning: Unlike other reduction functions (e.g. `skew`, `kurtosis`), the default behavior of `mode` typically preserves the axis it acts along. In SciPy 1.11.0, this behavior will change: the default value of `keepdims` will become False, the `axis` over which the statistic is taken will be eliminated, and the value None will no longer be accepted. Set `keepdims` to True or False to avoid this warning.\n",
      "  mode, _ = stats.mode(_y[neigh_ind, k], axis=1)\n",
      "C:\\Users\\Thom\\anaconda3\\lib\\site-packages\\sklearn\\neighbors\\_classification.py:211: FutureWarning: Unlike other reduction functions (e.g. `skew`, `kurtosis`), the default behavior of `mode` typically preserves the axis it acts along. In SciPy 1.11.0, this behavior will change: the default value of `keepdims` will become False, the `axis` over which the statistic is taken will be eliminated, and the value None will no longer be accepted. Set `keepdims` to True or False to avoid this warning.\n",
      "  mode, _ = stats.mode(_y[neigh_ind, k], axis=1)\n"
     ]
    },
    {
     "name": "stdout",
     "output_type": "stream",
     "text": [
      "item\n",
      "380      Harry Tasker leads a double life: to his wife ...\n",
      "2641     Before the destruction of Krypton, the crimina...\n",
      "26528    A 13-year-old orphan, Anne Shirley, is living ...\n",
      "2643     Superman saves a spaceship of cosmonauts whose...\n",
      "33794    As a child, Bruce Wayne falls down into a dry ...\n",
      "                               ...                        \n",
      "986      After her mother Aliane dies in a car accident...\n",
      "2501     In October 1957, news of the Soviet Union's la...\n",
      "3991     After three years in prison, Cruella de Vil ha...\n",
      "6624     Cody Banks (Frankie Muniz), a 15-year-old high...\n",
      "7373     In 1944, with the help of Russian mystic Grigo...\n",
      "Name: plot, Length: 115, dtype: object\n",
      "item\n",
      "223      Dante Hicks, a 22-year-old retail clerk at the...\n",
      "1222     During the United States' involvement in the V...\n",
      "7147     At Will Bloom’s wedding party, his father Edwa...\n",
      "4155     Nelson Moss meets Sara Deever, a woman very di...\n",
      "1569     Julianne Potter (Julia Roberts), a 27-year-old...\n",
      "                               ...                        \n",
      "4912     Set in and around New York City just prior to ...\n",
      "288      Mickey Knox and his wife Mallory stop at a din...\n",
      "5372     Calamity Jane (Doris Day) rides into Deadwood,...\n",
      "18       The film is set on New Year's Eve, and starts ...\n",
      "40583    U.S. energy giant Connex Oil is losing control...\n",
      "Name: plot, Length: 463, dtype: object\n"
     ]
    },
    {
     "name": "stderr",
     "output_type": "stream",
     "text": [
      "C:\\Users\\Thom\\anaconda3\\lib\\site-packages\\sklearn\\neighbors\\_classification.py:211: FutureWarning: Unlike other reduction functions (e.g. `skew`, `kurtosis`), the default behavior of `mode` typically preserves the axis it acts along. In SciPy 1.11.0, this behavior will change: the default value of `keepdims` will become False, the `axis` over which the statistic is taken will be eliminated, and the value None will no longer be accepted. Set `keepdims` to True or False to avoid this warning.\n",
      "  mode, _ = stats.mode(_y[neigh_ind, k], axis=1)\n",
      "C:\\Users\\Thom\\anaconda3\\lib\\site-packages\\sklearn\\neighbors\\_classification.py:211: FutureWarning: Unlike other reduction functions (e.g. `skew`, `kurtosis`), the default behavior of `mode` typically preserves the axis it acts along. In SciPy 1.11.0, this behavior will change: the default value of `keepdims` will become False, the `axis` over which the statistic is taken will be eliminated, and the value None will no longer be accepted. Set `keepdims` to True or False to avoid this warning.\n",
      "  mode, _ = stats.mode(_y[neigh_ind, k], axis=1)\n"
     ]
    },
    {
     "name": "stdout",
     "output_type": "stream",
     "text": [
      "item\n",
      "1       In a world where toys are living things who pr...\n",
      "2616    At an illegal card game, a young street urchin...\n",
      "2028    An elderly veteran visits the Normandy America...\n",
      "3105    In 1969, Dr. Malcolm Sayer (Robin Williams) is...\n",
      "3994    In Philadelphia in 1961, Elijah Price is born ...\n",
      "                              ...                        \n",
      "153     In Gotham City, the crime fighter Batman defus...\n",
      "3499    Famed novelist Paul Sheldon is the author of a...\n",
      "608     In the winter of 1987, Jerry Lundegaard, the s...\n",
      "3793    In Nazi-occupied Poland, 12-year-old Erik Lehn...\n",
      "3175    The former cast of the cult television space-a...\n",
      "Name: plot, Length: 96, dtype: object\n",
      "item\n",
      "1921    Max Cohen is the story's protagonist and unrel...\n",
      "4027    Three convicts, Ulysses Everett McGill, Pete H...\n",
      "6863    No Vacancy, a rock band, performs at a nightcl...\n",
      "2004    After the death of his owner Mr. Wing, the mog...\n",
      "3298    In 1999, Seth Davis (Ribisi), a 19-year-old Qu...\n",
      "                              ...                        \n",
      "3949    During the summer in Brighton Beach, Brooklyn,...\n",
      "6287    In 1978, a young Dave Buznik is about to kiss ...\n",
      "4255    Unemployed 28-year-old cartoonist Gordon \"Gord...\n",
      "3471    In the Sonoran Desert, French scientist Claude...\n",
      "383     A teenaged Wyatt Earp lives on the family farm...\n",
      "Name: plot, Length: 462, dtype: object\n"
     ]
    },
    {
     "name": "stderr",
     "output_type": "stream",
     "text": [
      "C:\\Users\\Thom\\anaconda3\\lib\\site-packages\\sklearn\\neighbors\\_classification.py:211: FutureWarning: Unlike other reduction functions (e.g. `skew`, `kurtosis`), the default behavior of `mode` typically preserves the axis it acts along. In SciPy 1.11.0, this behavior will change: the default value of `keepdims` will become False, the `axis` over which the statistic is taken will be eliminated, and the value None will no longer be accepted. Set `keepdims` to True or False to avoid this warning.\n",
      "  mode, _ = stats.mode(_y[neigh_ind, k], axis=1)\n"
     ]
    },
    {
     "name": "stdout",
     "output_type": "stream",
     "text": [
      "item\n",
      "91542     In 1891, Irene Adler delivers a package to Dr....\n",
      "43679     High-school student Wendy Christensen visits a...\n",
      "135569    Three years into its mission, the USS Enterpri...\n",
      "7348      Robert Scott is a former United States Marine ...\n",
      "158872    A supermarket called Shopwell's is filled with...\n",
      "                                ...                        \n",
      "1676      In the 23rd century, while colonizing new plan...\n",
      "162350    In 1879, robber baron and gold-mining tycoon B...\n",
      "3949      During the summer in Brighton Beach, Brooklyn,...\n",
      "79868     Jamie Morgan (Jim Sturgess) is a lonely, troub...\n",
      "4553      Drifter \"John Nada\" finds construction work in...\n",
      "Name: plot, Length: 584, dtype: object\n"
     ]
    },
    {
     "name": "stderr",
     "output_type": "stream",
     "text": [
      "C:\\Users\\Thom\\anaconda3\\lib\\site-packages\\sklearn\\neighbors\\_classification.py:211: FutureWarning: Unlike other reduction functions (e.g. `skew`, `kurtosis`), the default behavior of `mode` typically preserves the axis it acts along. In SciPy 1.11.0, this behavior will change: the default value of `keepdims` will become False, the `axis` over which the statistic is taken will be eliminated, and the value None will no longer be accepted. Set `keepdims` to True or False to avoid this warning.\n",
      "  mode, _ = stats.mode(_y[neigh_ind, k], axis=1)\n"
     ]
    },
    {
     "data": {
      "text/plain": [
       "{'avg_precision': 0.6702478019606193,\n",
       " 'stdv_precision': 0.1755060298384275,\n",
       " 'avg_recall': 0.724170005883001,\n",
       " 'stdv_recall': 0.2813539095558124,\n",
       " 'avg_fscore': 0.6739593469793344,\n",
       " 'stdv_fscore': 0.22748708949842977}"
      ]
     },
     "metadata": {},
     "output_type": "display_data"
    }
   ],
   "source": [
    "import statistics\n",
    "\n",
    "user_list = list(set(ratings_df['user']))\n",
    "\n",
    "precision_list = list()\n",
    "recall_list = list()\n",
    "fscore_list = list()\n",
    "print(\"evaluating recommender on \" + str(len(user_list)) + \" users\")\n",
    "for user in user_list:\n",
    "    user_plots_ratings_df = get_user_rated_movies_plots(user, ratings_df, movies_df)\n",
    "    \n",
    "    if user_plots_ratings_df.shape[0] > 100:\n",
    "        precision, recall, fscore, _ = train_and_test_recsys_for_user(user)\n",
    "        if precision>0 : \n",
    "            precision_list.append(precision)\n",
    "        if recall > 0:\n",
    "            recall_list.append(recall)\n",
    "        if fscore > 0:\n",
    "            fscore_list.append(fscore)\n",
    "            \n",
    "# Compute average results and standard deviations\n",
    "results = {\n",
    "    'avg_precision' : statistics.mean(precision_list),\n",
    "    'stdv_precision' : statistics.stdev(precision_list),\n",
    "    'avg_recall' : statistics.mean(recall_list),\n",
    "    'stdv_recall' : statistics.stdev(recall_list),\n",
    "    'avg_fscore' : statistics.mean(fscore_list),\n",
    "    'stdv_fscore' : statistics.stdev(fscore_list)\n",
    "}\n",
    "\n",
    "display(results)"
   ]
  },
  {
   "cell_type": "markdown",
   "id": "185d4ff7",
   "metadata": {},
   "source": [
    "We can see some warnings. The *precision_recall_fscore_support* method gives us a warning when the metrics cannot be computed. This happens, for instance, when the system does not retrieve any element as relevant. In this case, for instance, precision and fscore are undefined. In such cases we should check what is the problem for the specific user. For this tutorial, we will just ignore them."
   ]
  },
  {
   "cell_type": "markdown",
   "id": "c8fd9daa",
   "metadata": {},
   "source": [
    "#### EXERCISE\n",
    "\n",
    "Extend the example above implementing a K-Fold cross-validation strategy and evaluate the previous recommender system using 10 folds for the selected user.\n",
    "\n",
    "HINTS:\n",
    "1. To generate the folds you can use the [KFold](https://scikit-learn.org/stable/modules/generated/sklearn.model_selection.KFold.html) class provided by the sklearn library.\n",
    "2. Differently from what you see in the example on the sklearn web page, the [split](https://scikit-learn.org/stable/modules/generated/sklearn.model_selection.KFold.html#sklearn.model_selection.KFold.split) method returns positional indices. Hence, you cannot use the suggested notation `X_train = X[train_index]`, while you should use the [iloc](https://pandas.pydata.org/pandas-docs/stable/reference/api/pandas.DataFrame.iloc.html) method instead: `X_train = X.iloc[train_index]`."
   ]
  },
  {
   "cell_type": "markdown",
   "id": "f95f574d",
   "metadata": {},
   "source": [
    "##### Solution\n",
    "\n",
    "We can implement our solution starting from the *train_and_test_recsys_for_user* method. We will define a similar method called *K_fold_eval_recsys_for_user* in which we will implement our K-fold evaluation for a single user. The function will have also K as input."
   ]
  },
  {
   "cell_type": "code",
   "execution_count": null,
   "id": "8a456dd2",
   "metadata": {},
   "outputs": [],
   "source": []
  },
  {
   "cell_type": "markdown",
   "id": "fd835cea",
   "metadata": {},
   "source": [
    "#### 6.2 Evaluation of a Collaborative Filtering Recommender System\n",
    "\n",
    "We see now an example of evaluation of a collaborative filtering approach. We will use again the Lenskit library for this.\n",
    "Since we have one single model for all the users, the evaluation is simpler: we can just consider all the ratings we have and split them into training and test set.; then, we train the recommender on the trainig set, and we use it to predict the results on the test set. We will do it using the [predict](https://lkpy.readthedocs.io/en/stable/interfaces.html#lenskit.Predictor.predict) method. Finally, we compute the relevance values from the original ratings and from the predicted ratings, and we compare them to obtain precision, recall and fscore values.\n",
    "\n",
    "Note that we will split our dataset using again the *train_test_split* method. In this case, we pass a Dataframe as argument. The method will return two dataframes, randomly splitting the rows between them."
   ]
  },
  {
   "cell_type": "code",
   "execution_count": 31,
   "id": "a67d6dc4",
   "metadata": {},
   "outputs": [
    {
     "name": "stdout",
     "output_type": "stream",
     "text": [
      "Precision:\t0.7122340999892021\n",
      "Recall:\t0.857402833744963\n",
      "Fscore:\t0.7781054618379143\n"
     ]
    },
    {
     "name": "stderr",
     "output_type": "stream",
     "text": [
      "<ipython-input-31-a8e388cf3658>:12: SettingWithCopyWarning: \n",
      "A value is trying to be set on a copy of a slice from a DataFrame.\n",
      "Try using .loc[row_indexer,col_indexer] = value instead\n",
      "\n",
      "See the caveats in the documentation: https://pandas.pydata.org/pandas-docs/stable/user_guide/indexing.html#returning-a-view-versus-a-copy\n",
      "  test_df['predicted_rating'] = recsys.predict(test_df)\n",
      "<ipython-input-31-a8e388cf3658>:14: SettingWithCopyWarning: \n",
      "A value is trying to be set on a copy of a slice from a DataFrame.\n",
      "Try using .loc[row_indexer,col_indexer] = value instead\n",
      "\n",
      "See the caveats in the documentation: https://pandas.pydata.org/pandas-docs/stable/user_guide/indexing.html#returning-a-view-versus-a-copy\n",
      "  test_df['relevant'] = test_df['rating'].apply(lambda x: 1 if x>3 else 0)\n",
      "<ipython-input-31-a8e388cf3658>:15: SettingWithCopyWarning: \n",
      "A value is trying to be set on a copy of a slice from a DataFrame.\n",
      "Try using .loc[row_indexer,col_indexer] = value instead\n",
      "\n",
      "See the caveats in the documentation: https://pandas.pydata.org/pandas-docs/stable/user_guide/indexing.html#returning-a-view-versus-a-copy\n",
      "  test_df['predicted_relevant'] = test_df['predicted_rating'].apply(lambda x: 1 if x>3 else 0)\n"
     ]
    }
   ],
   "source": [
    "from lenskit.algorithms import Recommender\n",
    "from lenskit.algorithms.user_knn import UserUser\n",
    "from sklearn.model_selection import train_test_split\n",
    "from sklearn.metrics import precision_recall_fscore_support\n",
    "\n",
    "train_df, test_df = train_test_split(ratings_df, test_size=0.2)\n",
    "\n",
    "user_user = UserUser(15, min_nbrs=3)  # Minimum (3) and maximum (15) number of neighbors to consider\n",
    "recsys = Recommender.adapt(user_user)\n",
    "recsys.fit(train_df)\n",
    "\n",
    "test_df['predicted_rating'] = recsys.predict(test_df)\n",
    "\n",
    "test_df['relevant'] = test_df['rating'].apply(lambda x: 1 if x>3 else 0)\n",
    "test_df['predicted_relevant'] = test_df['predicted_rating'].apply(lambda x: 1 if x>3 else 0)\n",
    "\n",
    "y_test = list(test_df['relevant'])\n",
    "y_pred = list(test_df['predicted_relevant'])\n",
    "precision, recall, fscore, _ = precision_recall_fscore_support(y_test, y_pred, average=\"binary\")\n",
    "\n",
    "print(\"Precision:\\t\" + str(precision) + \n",
    "      \"\\nRecall:\\t\" + str(recall) + \n",
    "      \"\\nFscore:\\t\" + str(fscore))\n"
   ]
  },
  {
   "cell_type": "markdown",
   "id": "9cc5a013",
   "metadata": {},
   "source": [
    "We can ignore the warnings. \n",
    "\n",
    "Again, we have an evaluation that is strictly related to the split performed. A proper evaluation should consider more reliable validation strategy (any ideas?). For timing reasons, we used the simplest approach. Try to implement some other approaches and check the differences (let us know if you have any problems in this)."
   ]
  },
  {
   "cell_type": "markdown",
   "id": "c455ee11",
   "metadata": {},
   "source": [
    "#### EXERCISE\n",
    "\n",
    "Extend the example above implementing a k-Fold cross-validation strategy and evaluate the previous recommender system using 10 folds.\n",
    "\n",
    "HINTS:\n",
    "1. To generate the folds you can use the [KFold](https://scikit-learn.org/stable/modules/generated/sklearn.model_selection.KFold.html) class provided by the sklearn library.\n",
    "2. Use might need to use the shuffle attribute of the KFold constructor.\n",
    "3. Again, note that the *split* method returns positional indices, so you should *iloc* method to filter the Dataframe rows."
   ]
  },
  {
   "cell_type": "markdown",
   "id": "7aaffa1b",
   "metadata": {},
   "source": [
    "##### Solution"
   ]
  },
  {
   "cell_type": "code",
   "execution_count": null,
   "id": "22377467",
   "metadata": {},
   "outputs": [],
   "source": []
  },
  {
   "cell_type": "code",
   "execution_count": null,
   "id": "f3800f22",
   "metadata": {},
   "outputs": [],
   "source": []
  }
 ],
 "metadata": {
  "kernelspec": {
   "display_name": "Python 3",
   "language": "python",
   "name": "python3"
  },
  "language_info": {
   "codemirror_mode": {
    "name": "ipython",
    "version": 3
   },
   "file_extension": ".py",
   "mimetype": "text/x-python",
   "name": "python",
   "nbconvert_exporter": "python",
   "pygments_lexer": "ipython3",
   "version": "3.8.8"
  }
 },
 "nbformat": 4,
 "nbformat_minor": 5
}
